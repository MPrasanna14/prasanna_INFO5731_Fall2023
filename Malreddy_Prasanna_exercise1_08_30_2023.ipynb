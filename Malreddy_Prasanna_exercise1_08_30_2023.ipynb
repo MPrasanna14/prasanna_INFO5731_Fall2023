{
  "cells": [
    {
      "cell_type": "markdown",
      "metadata": {
        "id": "view-in-github",
        "colab_type": "text"
      },
      "source": [
        "<a href=\"https://colab.research.google.com/github/MPrasanna14/prasanna_INFO5731_Fall2023/blob/main/Malreddy_Prasanna_exercise1_08_30_2023.ipynb\" target=\"_parent\"><img src=\"https://colab.research.google.com/assets/colab-badge.svg\" alt=\"Open In Colab\"/></a>"
      ]
    },
    {
      "cell_type": "markdown",
      "metadata": {
        "id": "DymRJbxDBCnf"
      },
      "source": [
        "# **The first In-class-exercise (08/30/2023, 40 points in total)**\n",
        "This exercise is due tomorrow 08/31/203 11:59 PM.\n"
      ]
    },
    {
      "cell_type": "markdown",
      "source": [
        "(1) Write a Python program to calculate the area of a rectangle using user-input length and width."
      ],
      "metadata": {
        "id": "FBKvD6O_TY6e"
      }
    },
    {
      "cell_type": "code",
      "source": [
        "length = float(input(\"Enter the length of rectangle: \"))\n",
        "width = float(input(\"Enter the width of rectangle: \"))\n",
        "area = length * width\n",
        "print(\"The area of the rectangle is:\", area)"
      ],
      "metadata": {
        "id": "cikVKDXdTbzE",
        "colab": {
          "base_uri": "https://localhost:8080/"
        },
        "outputId": "25622f4f-f1f5-4114-f9dc-68ff9509c9e1"
      },
      "execution_count": null,
      "outputs": [
        {
          "output_type": "stream",
          "name": "stdout",
          "text": [
            "Enter the length of rectangle: 4\n",
            "Enter the width of rectangle: 3\n",
            "The area of the rectangle is: 12.0\n"
          ]
        }
      ]
    },
    {
      "cell_type": "markdown",
      "source": [
        "(2) Create a program that takes two numbers from the user and swaps their values without using a temporary variable."
      ],
      "metadata": {
        "id": "E9RqrlwdTfvl"
      }
    },
    {
      "cell_type": "code",
      "source": [
        "\n",
        "N1 = float(input(\"Enter the first number:\"))\n",
        "N2 = float(input(\"Enter the second number:\"))\n",
        "N1 = N1 + N2\n",
        "N2 = N1 - N2\n",
        "N1 = N1 - N2\n",
        "print(N1)\n",
        "print(N2)"
      ],
      "metadata": {
        "id": "4XvRknixTh1g",
        "colab": {
          "base_uri": "https://localhost:8080/"
        },
        "outputId": "0bf29ad2-555c-4841-e94a-824ea876f155"
      },
      "execution_count": null,
      "outputs": [
        {
          "output_type": "stream",
          "name": "stdout",
          "text": [
            "Enter the first number:10\n",
            "Enter the second number:5\n",
            "5.0\n",
            "10.0\n"
          ]
        }
      ]
    },
    {
      "cell_type": "markdown",
      "metadata": {
        "id": "03jb4GZsBkBS"
      },
      "source": [
        "(3) Write a Python program to calculate the length of a string."
      ]
    },
    {
      "cell_type": "code",
      "execution_count": null,
      "metadata": {
        "id": "YaGLbSHHB8Ej",
        "colab": {
          "base_uri": "https://localhost:8080/"
        },
        "outputId": "7fe5cf47-5613-412a-eaae-09bff009eaa5"
      },
      "outputs": [
        {
          "output_type": "stream",
          "name": "stdout",
          "text": [
            "Enter a string: I'm a good girl\n",
            "The length of the string is: 15\n"
          ]
        }
      ],
      "source": [
        "\"\"\"\n",
        "STR = \"Computational Methods\"\n",
        "print(\"Length of the given string is:\", len(STR))\n",
        "\"\"\"\n",
        "\n",
        "str = input(\"Enter a string: \")\n",
        "length = 0\n",
        "for char in str:\n",
        "    length += 1\n",
        "print(f\"The length of the string is: {length}\")\n",
        "\n",
        "\n"
      ]
    },
    {
      "cell_type": "markdown",
      "metadata": {
        "id": "jJDe71iLB616"
      },
      "source": [
        "(4) Write a Python program to count the number of characters in a string.\n",
        "\n",
        "Sample String : 'google.com‘,\n",
        "\n",
        "Expected Result : {'o': 3, 'g': 2, '.': 1, 'e': 1, 'l': 1, 'm': 1, 'c': 1}"
      ]
    },
    {
      "cell_type": "code",
      "execution_count": null,
      "metadata": {
        "id": "MtKskTzbCLaU",
        "colab": {
          "base_uri": "https://localhost:8080/"
        },
        "outputId": "f4697af2-76bd-4b00-d77c-cf34d37d14a7"
      },
      "outputs": [
        {
          "output_type": "stream",
          "name": "stdout",
          "text": [
            "Enter a string: google.com\n",
            "Count of each charater in the given string: {'g': 2, 'o': 3, 'l': 1, 'e': 1, '.': 1, 'c': 1, 'm': 1}\n"
          ]
        }
      ],
      "source": [
        "str = input(\"Enter a string: \")\n",
        "count = {}\n",
        "for char in str:\n",
        "    if char in count:\n",
        "        count[char] += 1\n",
        "    else:\n",
        "        count[char] = 1\n",
        "print(\"Count of each charater in the given string:\", count)\n"
      ]
    },
    {
      "cell_type": "markdown",
      "metadata": {
        "id": "55W9AMdXCSpV"
      },
      "source": [
        "(5) Write a Python program to sum all the items in a list."
      ]
    },
    {
      "cell_type": "code",
      "execution_count": 32,
      "metadata": {
        "id": "I57NXsauCec2",
        "colab": {
          "base_uri": "https://localhost:8080/"
        },
        "outputId": "c6a5fea1-3885-4be8-9adb-eb1fce655a6b"
      },
      "outputs": [
        {
          "output_type": "stream",
          "name": "stdout",
          "text": [
            "Sum of list items is: 21\n"
          ]
        }
      ],
      "source": [
        "list = [11, 5, 3, 2]\n",
        "sum = 0\n",
        "for i in list:\n",
        "  sum += i\n",
        "\n",
        "print(\"Sum of list items is:\", sum)"
      ]
    },
    {
      "cell_type": "markdown",
      "metadata": {
        "id": "4ulBZ6yhCi9F"
      },
      "source": [
        "(6) Write a Python program to get a string from a given string where all occurrences of its first char have been changed to '\\$', except the first char itself.\n",
        "\n",
        "Sample String : 'restart‘,\n",
        "\n",
        "Expected Result : 'resta\\$t'"
      ]
    },
    {
      "cell_type": "code",
      "execution_count": 46,
      "metadata": {
        "id": "Fj0XhwbBCw2o",
        "colab": {
          "base_uri": "https://localhost:8080/"
        },
        "outputId": "aa57a98c-6388-4cef-e9a8-855de71c616a"
      },
      "outputs": [
        {
          "output_type": "stream",
          "name": "stdout",
          "text": [
            "Modified string: resta$t\n"
          ]
        }
      ],
      "source": [
        "str = \"restart\"\n",
        "if len(str) > 0:\n",
        "    modified_string = str[0] + str[1:].replace(str[0], '$')\n",
        "    print(f\"Modified string: {modified_string}\")\n",
        "else:\n",
        "    print(\"The input string is empty.\")\n"
      ]
    },
    {
      "cell_type": "markdown",
      "source": [
        "(7) Create a program that calculates the factorial of a number using a while loop."
      ],
      "metadata": {
        "id": "qVXA3q7ET5JI"
      }
    },
    {
      "cell_type": "code",
      "source": [
        "Num = int(input(\"Enter the number:\"))\n",
        "factorial = 1\n",
        "while Num >= 1:\n",
        "  factorial *= Num\n",
        "  Num -= 1\n",
        "\n",
        "print(\"Factorial of a number is:\", factorial)\n",
        "\n",
        "\n",
        "\n"
      ],
      "metadata": {
        "id": "Lbt7R6UkT7BA",
        "colab": {
          "base_uri": "https://localhost:8080/"
        },
        "outputId": "36a4624c-83e3-464c-f98b-6c1b4b765cb2"
      },
      "execution_count": 61,
      "outputs": [
        {
          "output_type": "stream",
          "name": "stdout",
          "text": [
            "Enter the number:10\n",
            "Factorial of a number is: 3628800\n"
          ]
        }
      ]
    },
    {
      "cell_type": "markdown",
      "source": [
        "(8) Create a program that takes a list of numbers as input and outputs a new list with only the even numbers."
      ],
      "metadata": {
        "id": "6YfbzXMNT--R"
      }
    },
    {
      "cell_type": "code",
      "source": [
        "List = [10, 11,12, 13, 14, 15, 16, 17]\n",
        "new_list = []\n",
        "for num in List:\n",
        "    if num % 2 == 0:\n",
        "        new_list.append(num)\n",
        "print(\"List of even numbers:\", new_list)\n",
        "\n"
      ],
      "metadata": {
        "id": "54q7wMQPUAKu",
        "colab": {
          "base_uri": "https://localhost:8080/"
        },
        "outputId": "e1965f87-ab57-42d5-8771-26e0effa1463"
      },
      "execution_count": 77,
      "outputs": [
        {
          "output_type": "stream",
          "name": "stdout",
          "text": [
            "List of even numbers: [10, 12, 14, 16]\n"
          ]
        }
      ]
    },
    {
      "cell_type": "markdown",
      "metadata": {
        "id": "_bIP7s1MCzue"
      },
      "source": [
        "(9) Write a program with python which could accept two parameter a and b to calculate and output the result of S, where\n",
        "\n",
        "$\\ S=3.14*(1+a/b)^3$\n",
        "\n"
      ]
    },
    {
      "cell_type": "code",
      "execution_count": 78,
      "metadata": {
        "id": "w79QilHXD3Mg",
        "colab": {
          "base_uri": "https://localhost:8080/"
        },
        "outputId": "a993f55a-ca78-4d69-acf1-f172467474d1"
      },
      "outputs": [
        {
          "output_type": "stream",
          "name": "stdout",
          "text": [
            "Enther the a value:2\n",
            "Enther the b value:2\n",
            "25.12\n"
          ]
        }
      ],
      "source": [
        "a = int(input(\"Enther the a value:\"))\n",
        "b = int(input(\"Enther the b value:\"))\n",
        "s = 3.14 * pow(1+ a/b,3)\n",
        "print(s)\n"
      ]
    },
    {
      "cell_type": "markdown",
      "metadata": {
        "id": "xCa2bK9aD4Q3"
      },
      "source": [
        "(10) Write a Python program to concatenate following dictionaries to create a new one.\n",
        "\n",
        "Sample Dictionary : dic1={1:10, 2:20}, dic2={3:30, 4:40}, dic3={5:50,6:60},\n",
        "\n",
        "Expected Result : {1: 10, 2: 20, 3: 30, 4: 40, 5: 50, 6: 60}\n"
      ]
    },
    {
      "cell_type": "code",
      "execution_count": 81,
      "metadata": {
        "id": "_z4aLqAbEET1",
        "colab": {
          "base_uri": "https://localhost:8080/"
        },
        "outputId": "51817d68-71b7-4a93-d42b-d4aba79c803b"
      },
      "outputs": [
        {
          "output_type": "stream",
          "name": "stdout",
          "text": [
            "{1: 10, 2: 20, 3: 30, 4: 40, 5: 50, 6: 60}\n"
          ]
        }
      ],
      "source": [
        "dict1 = {1:10, 2:20}\n",
        "dict2 = {3:30, 4:40}\n",
        "dict3 = {5:50, 6:60}\n",
        "resultdict = {}\n",
        "resultdict.update(dict1)\n",
        "resultdict.update(dict2)\n",
        "resultdict.update(dict3)\n",
        "print(resultdict)\n"
      ]
    },
    {
      "cell_type": "markdown",
      "source": [
        "(11) Write a Python function that accepts a tuple of integers and returns the largest and smallest elements."
      ],
      "metadata": {
        "id": "bkyZ2xSZUOst"
      }
    },
    {
      "cell_type": "code",
      "source": [
        "Tuple = (11, 12, 13, 14, 15, 20)\n",
        "smallest = largest = Tuple[0]\n",
        "for num in Tuple:\n",
        "        if num < smallest:\n",
        "            smallest = num\n",
        "        elif num > largest:\n",
        "            largest = num\n",
        "\n",
        "print(f\"Largest: {largest}\")\n",
        "print(f\"Smallest: {smallest}\")\n"
      ],
      "metadata": {
        "id": "3FdLRBKOUQEd",
        "colab": {
          "base_uri": "https://localhost:8080/"
        },
        "outputId": "c76e8b09-9cd0-4e3e-aa59-d3db893a16b6"
      },
      "execution_count": 90,
      "outputs": [
        {
          "output_type": "stream",
          "name": "stdout",
          "text": [
            "Largest: 20\n",
            "Smallest: 11\n"
          ]
        }
      ]
    },
    {
      "cell_type": "markdown",
      "source": [
        "(12) Write a Python program that counts the frequency of each character in a given string and stores it in a dictionary."
      ],
      "metadata": {
        "id": "O0TVi3gKUTpp"
      }
    },
    {
      "cell_type": "code",
      "source": [
        "str = \"Computational Methods\"\n",
        "char_frequency = {}\n",
        "for char in str:\n",
        "    if char in char_frequency:\n",
        "        char_frequency[char] += 1\n",
        "    else:\n",
        "        char_frequency[char] = 1\n",
        "print(\"Frequency of each charater in the given string:\", char_frequency)"
      ],
      "metadata": {
        "id": "lAtfSfZXUU-h",
        "colab": {
          "base_uri": "https://localhost:8080/"
        },
        "outputId": "bc325125-ee93-4329-95b2-d3e10e1603ad"
      },
      "execution_count": 99,
      "outputs": [
        {
          "output_type": "stream",
          "name": "stdout",
          "text": [
            "Frequency of each charater in the given string: {'C': 1, 'o': 3, 'm': 1, 'p': 1, 'u': 1, 't': 3, 'a': 2, 'i': 1, 'n': 1, 'l': 1, ' ': 1, 'M': 1, 'e': 1, 'h': 1, 'd': 1, 's': 1}\n"
          ]
        }
      ]
    },
    {
      "cell_type": "markdown",
      "metadata": {
        "id": "0v48Vqa7FrQh"
      },
      "source": [
        "(13) Write a Python program to check whether an element exists within a tuple."
      ]
    },
    {
      "cell_type": "code",
      "execution_count": 110,
      "metadata": {
        "id": "7WEmgq-DF2P1",
        "colab": {
          "base_uri": "https://localhost:8080/"
        },
        "outputId": "d67a39e5-e0ab-4666-d678-b5dd1dd9caf7"
      },
      "outputs": [
        {
          "output_type": "stream",
          "name": "stdout",
          "text": [
            "Enter an element to check14\n",
            "14 exists in the tuple.\n"
          ]
        }
      ],
      "source": [
        "tuple = (11, 12,13, 14, 15)\n",
        "element = int(input(\"Enter an element to check\"))\n",
        "if element in tuple:\n",
        "    print(f\"{element} exists in the tuple.\")\n",
        "else:  print(f\"{element} does not exist in the tuple.\")\n"
      ]
    },
    {
      "cell_type": "markdown",
      "metadata": {
        "id": "vD5PYLMuGga_"
      },
      "source": [
        "(14) Write a Python program to find maximum and the minimum value in a set."
      ]
    },
    {
      "cell_type": "code",
      "execution_count": 117,
      "metadata": {
        "id": "t0D5kdJUGjjw",
        "colab": {
          "base_uri": "https://localhost:8080/"
        },
        "outputId": "2e1c10fe-68ff-45de-daf6-158c8135fa8d"
      },
      "outputs": [
        {
          "output_type": "stream",
          "name": "stdout",
          "text": [
            "maximum: 20\n",
            "minimum: 11\n"
          ]
        }
      ],
      "source": [
        "my_set = {11, 12, 13, 14, 15, 20}\n",
        "smallest, largest = min(my_set), max(my_set)\n",
        "for num in my_set:\n",
        "        if num < smallest:\n",
        "            smallest = num\n",
        "        elif num > largest:\n",
        "            largest = num\n",
        "\n",
        "print(f\"maximum: {largest}\")\n",
        "print(f\"minimum: {smallest}\")\n",
        "\n",
        "\n"
      ]
    },
    {
      "cell_type": "markdown",
      "metadata": {
        "id": "uHkd-y5VhVWC"
      },
      "source": [
        "(15) Write a Python program to randomly divide the students in this class into six groups for term projects, each group should have at least 4 students but no more than 6 students (including 6). Here is the students list:\n",
        "student_list_fall_2023=['sb1826' ,\n",
        " 'lb0582' ,\n",
        " 'ab1820' ,\n",
        " 'sb1883' ,\n",
        " 'mb1296' ,\n",
        " 'sc1622' ,\n",
        " 'tc0469' ,\n",
        " 'ac1770' ,\n",
        " 'mc1453' ,\n",
        " 'ad1187' ,\n",
        " 'sd0926' ,\n",
        " 'sd1268' ,\n",
        " 'ag1609' ,\n",
        " 'sg1638' ,\n",
        " 'mg1299' ,\n",
        " 'vkk0022' ,\n",
        " 'bk0413' ,\n",
        " 'gk0257' ,\n",
        " 'am2807' ,\n",
        " 'gm0558' ,\n",
        " 'pm0658' ,\n",
        " 'am2346' ,\n",
        " 'rm1090' ,\n",
        " 'sm2364' ,\n",
        " 'sm2747' ,\n",
        " 'sm2343' ,\n",
        " 'vm0597' ,\n",
        " 'htn0086' ,\n",
        " 'sp2075' ,\n",
        " 'gp0306' ,\n",
        " 'lp0502' ,\n",
        " 'sr1508' ,\n",
        " 'vr0331' ,\n",
        " 'yr0180' ,\n",
        " 'as2819' ,\n",
        " 'ss2981' ,\n",
        " 'ns0756' ,\n",
        " 'mt0825' ,\n",
        " 'dt0463' ,\n",
        " 'su0137' ,\n",
        " 'dv0310'\n",
        "]"
      ]
    },
    {
      "cell_type": "code",
      "execution_count": 121,
      "metadata": {
        "id": "3iGbmcOBhTwy",
        "colab": {
          "base_uri": "https://localhost:8080/"
        },
        "outputId": "74a0b534-ebd1-42ef-a4f4-a1033da88868"
      },
      "outputs": [
        {
          "output_type": "stream",
          "name": "stdout",
          "text": [
            "Group 1: sp2075, gm0558, ab1820, sd0926, mb1296, as2819\n",
            "Group 2: htn0086, ss2981, rm1090, ad1187\n",
            "Group 3: bk0413, sd1268, mt0825, sm2364, mc1453\n",
            "Group 4: gp0306, su0137, sb1826, lb0582, am2346, dt0463\n",
            "Group 5: ns0756, sg1638, dv0310, vr0331\n",
            "Group 6: sm2747, mg1299, sc1622, yr0180, lp0502, ac1770\n",
            "Group 7: sr1508, sb1883, gk0257, pm0658, am2807, ag1609\n",
            "Group 8: sm2343, tc0469, vkk0022, vm0597\n",
            "Total number of groups: 8\n"
          ]
        }
      ],
      "source": [
        "import random\n",
        "student_list_fall_2023 = ['sb1826', 'lb0582', 'ab1820', 'sb1883', 'mb1296', 'sc1622', 'tc0469', 'ac1770',\n",
        "                          'mc1453', 'ad1187', 'sd0926', 'sd1268', 'ag1609', 'sg1638', 'mg1299', 'vkk0022',\n",
        "                          'bk0413', 'gk0257', 'am2807', 'gm0558', 'pm0658', 'am2346', 'rm1090', 'sm2364',\n",
        "                          'sm2747', 'sm2343', 'vm0597', 'htn0086', 'sp2075', 'gp0306', 'lp0502', 'sr1508',\n",
        "                          'vr0331', 'yr0180', 'as2819', 'ss2981', 'ns0756', 'mt0825', 'dt0463', 'su0137', 'dv0310']\n",
        "random.shuffle(student_list_fall_2023)\n",
        "group_count = 0\n",
        "student_index = 0\n",
        "while student_index < len(student_list_fall_2023):\n",
        "    group_count += 1\n",
        "    group_size = random.randint(4, 6)\n",
        "    group_size = min(group_size, len(student_list_fall_2023) - student_index)\n",
        "    group_students = student_list_fall_2023[student_index:student_index + group_size]\n",
        "    student_index += group_size\n",
        "    print(f\"Group {group_count}: {', '.join(group_students)}\")\n",
        "print(f\"Total number of groups: {group_count}\")"
      ]
    },
    {
      "cell_type": "markdown",
      "metadata": {
        "id": "fmZ9vX20Qs3d"
      },
      "source": [
        "(16) Write a Python program to find the duplicate elements in a given array of integers. Return -1 If there are no such elements."
      ]
    },
    {
      "cell_type": "code",
      "execution_count": 123,
      "metadata": {
        "id": "W8Jw6sWMQs3d",
        "colab": {
          "base_uri": "https://localhost:8080/"
        },
        "outputId": "0a108128-dccd-4bdb-e592-b6e2c750a4aa"
      },
      "outputs": [
        {
          "output_type": "stream",
          "name": "stdout",
          "text": [
            "Enter a list of integers separated by spaces: 2 2 3 3 4 5 6 8 9 10 7 4 11 12 \n",
            "Duplicate elements: [2, 3, 4]\n"
          ]
        }
      ],
      "source": [
        "input_str = input(\"Enter a list of integers separated by spaces: \")\n",
        "arr = [int(num) for num in input_str.split()]\n",
        "unique_elements = set()\n",
        "duplicate_elements = []\n",
        "for num in arr:\n",
        "    if num in unique_elements:\n",
        "        if num not in duplicate_elements:\n",
        "            duplicate_elements.append(num)\n",
        "    else:\n",
        "        unique_elements.add(num)\n",
        "if duplicate_elements:\n",
        "    print(\"Duplicate elements:\", duplicate_elements)\n",
        "else:\n",
        "    print(\"-1 (No duplicate elements found)\")\n"
      ]
    },
    {
      "cell_type": "markdown",
      "metadata": {
        "id": "hvq4APMhQs3d"
      },
      "source": [
        "(17) Write a Python program to select all the Sundays of a specified year."
      ]
    },
    {
      "cell_type": "code",
      "execution_count": 122,
      "metadata": {
        "id": "ZnoxhSglQs3d",
        "colab": {
          "base_uri": "https://localhost:8080/"
        },
        "outputId": "9671d958-280a-4e75-c627-6379713acf63"
      },
      "outputs": [
        {
          "output_type": "stream",
          "name": "stdout",
          "text": [
            "Enter a year: 2010\n",
            "Sunday: 2010-01-03\n",
            "Sunday: 2010-01-10\n",
            "Sunday: 2010-01-17\n",
            "Sunday: 2010-01-24\n",
            "Sunday: 2010-01-31\n",
            "Sunday: 2010-02-07\n",
            "Sunday: 2010-02-14\n",
            "Sunday: 2010-02-21\n",
            "Sunday: 2010-02-28\n",
            "Sunday: 2010-03-07\n",
            "Sunday: 2010-03-14\n",
            "Sunday: 2010-03-21\n",
            "Sunday: 2010-03-28\n",
            "Sunday: 2010-04-04\n",
            "Sunday: 2010-04-11\n",
            "Sunday: 2010-04-18\n",
            "Sunday: 2010-04-25\n",
            "Sunday: 2010-05-02\n",
            "Sunday: 2010-05-09\n",
            "Sunday: 2010-05-16\n",
            "Sunday: 2010-05-23\n",
            "Sunday: 2010-05-30\n",
            "Sunday: 2010-06-06\n",
            "Sunday: 2010-06-13\n",
            "Sunday: 2010-06-20\n",
            "Sunday: 2010-06-27\n",
            "Sunday: 2010-07-04\n",
            "Sunday: 2010-07-11\n",
            "Sunday: 2010-07-18\n",
            "Sunday: 2010-07-25\n",
            "Sunday: 2010-08-01\n",
            "Sunday: 2010-08-08\n",
            "Sunday: 2010-08-15\n",
            "Sunday: 2010-08-22\n",
            "Sunday: 2010-08-29\n",
            "Sunday: 2010-09-05\n",
            "Sunday: 2010-09-12\n",
            "Sunday: 2010-09-19\n",
            "Sunday: 2010-09-26\n",
            "Sunday: 2010-10-03\n",
            "Sunday: 2010-10-10\n",
            "Sunday: 2010-10-17\n",
            "Sunday: 2010-10-24\n",
            "Sunday: 2010-10-31\n",
            "Sunday: 2010-11-07\n",
            "Sunday: 2010-11-14\n",
            "Sunday: 2010-11-21\n",
            "Sunday: 2010-11-28\n",
            "Sunday: 2010-12-05\n",
            "Sunday: 2010-12-12\n",
            "Sunday: 2010-12-19\n",
            "Sunday: 2010-12-26\n"
          ]
        }
      ],
      "source": [
        "import calendar\n",
        "year = int(input(\"Enter a year: \"))\n",
        "for month in range(1, 13):\n",
        "    cal = calendar.monthcalendar(year, month)\n",
        "    for week in cal:\n",
        "        if week[6] != 0:\n",
        "            print(f\"Sunday: {year}-{month:02d}-{week[6]:02d}\")\n"
      ]
    },
    {
      "cell_type": "markdown",
      "source": [
        "(18) Build a program that calculates the factorial of a given positive integer. The factorial of a non-negative integer n is the product of all positive integers less than or equal to n."
      ],
      "metadata": {
        "id": "55FWoSJPVVM6"
      }
    },
    {
      "cell_type": "code",
      "source": [
        "num = int(input(\"Enter a positive integer: \"))\n",
        "if num < 0:\n",
        "    print(\"Factorial is not defined for negative numbers.\")\n",
        "elif num == 0:\n",
        "    print(\"The factorial of 0 is 1.\")\n",
        "else:\n",
        "    factorial = 1\n",
        "    for i in range(1, num + 1):\n",
        "        factorial *= i\n",
        "    print(f\"The factorial of {num} is {factorial}\")\n"
      ],
      "metadata": {
        "id": "hwtr1wZmVX5A",
        "colab": {
          "base_uri": "https://localhost:8080/"
        },
        "outputId": "9c8426d1-6a67-460d-8d32-4a8c66b390de"
      },
      "execution_count": 128,
      "outputs": [
        {
          "output_type": "stream",
          "name": "stdout",
          "text": [
            "Enter a positive integer: 0\n",
            "The factorial of 0 is 1.\n"
          ]
        }
      ]
    },
    {
      "cell_type": "markdown",
      "source": [
        "(19) Write a program that takes a positive integer n as input and prints the count of even numbers from 1 to n. Use a loop to iterate through the numbers and utilize the break statement to optimize the loop."
      ],
      "metadata": {
        "id": "Q9ecagcaVazW"
      }
    },
    {
      "cell_type": "code",
      "source": [
        "num = int(input(\"Enter a positive integer: \"))\n",
        "even_count = 0\n",
        "for i in range(1, num + 1):\n",
        "    if i % 2 == 0:\n",
        "        even_count += 1\n",
        "    elif i > num:\n",
        "        break\n",
        "\n",
        "print(f\"Count of even numbers from 1 to {num}: {even_count}\")\n",
        "\n"
      ],
      "metadata": {
        "id": "gycgckoAVZjR",
        "colab": {
          "base_uri": "https://localhost:8080/"
        },
        "outputId": "18cc5057-8f50-40de-c71b-37a97a4626c1"
      },
      "execution_count": 4,
      "outputs": [
        {
          "output_type": "stream",
          "name": "stdout",
          "text": [
            "Enter a positive integer: 10\n",
            "Count of even numbers from 1 to 10: 5\n"
          ]
        }
      ]
    },
    {
      "cell_type": "markdown",
      "source": [
        "(20) Write a Python function called count_vowels that takes a string as input and returns the count of vowels (both lowercase and uppercase) present in the string. Consider the vowels to be 'a', 'e', 'i', 'o', and 'u'. Ignore spaces and other non-alphabetic characters."
      ],
      "metadata": {
        "id": "cboAr5pEWUf5"
      }
    },
    {
      "cell_type": "code",
      "source": [
        "def count_vowels(input_string):\n",
        "    vowels = set(\"aeiouAEIOU\")\n",
        "    vowel_count = 0\n",
        "    for char in input_string:\n",
        "        if char.isalpha() and char in vowels:\n",
        "            vowel_count += 1\n",
        "    return vowel_count\n",
        "input_string = \"Hello, World! This is a Test String.\"\n",
        "result = count_vowels(input_string)\n",
        "print(f\"Number of vowels: {result}\")"
      ],
      "metadata": {
        "id": "phs9gciMWWAW",
        "colab": {
          "base_uri": "https://localhost:8080/"
        },
        "outputId": "f2e9ae30-76a9-4220-fa04-02be690851bd"
      },
      "execution_count": 5,
      "outputs": [
        {
          "output_type": "stream",
          "name": "stdout",
          "text": [
            "Number of vowels: 8\n"
          ]
        }
      ]
    }
  ],
  "metadata": {
    "colab": {
      "provenance": [],
      "include_colab_link": true
    },
    "kernelspec": {
      "display_name": "Python 3 (ipykernel)",
      "language": "python",
      "name": "python3"
    },
    "language_info": {
      "codemirror_mode": {
        "name": "ipython",
        "version": 3
      },
      "file_extension": ".py",
      "mimetype": "text/x-python",
      "name": "python",
      "nbconvert_exporter": "python",
      "pygments_lexer": "ipython3",
      "version": "3.9.12"
    }
  },
  "nbformat": 4,
  "nbformat_minor": 0
}