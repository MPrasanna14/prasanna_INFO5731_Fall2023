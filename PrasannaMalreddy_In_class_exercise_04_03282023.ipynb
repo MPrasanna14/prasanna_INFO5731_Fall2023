{
  "cells": [
    {
      "cell_type": "markdown",
      "metadata": {
        "id": "view-in-github",
        "colab_type": "text"
      },
      "source": [
        "<a href=\"https://colab.research.google.com/github/MPrasanna14/prasanna_INFO5731_Fall2023/blob/main/PrasannaMalreddy_In_class_exercise_04_03282023.ipynb\" target=\"_parent\"><img src=\"https://colab.research.google.com/assets/colab-badge.svg\" alt=\"Open In Colab\"/></a>"
      ]
    },
    {
      "cell_type": "markdown",
      "metadata": {
        "id": "9RrudiDiPqVE"
      },
      "source": [
        "# **The fourth in-class-exercise (40 points in total, 03/28/2022)**"
      ]
    },
    {
      "cell_type": "markdown",
      "metadata": {
        "id": "Qkfwh6KtPqVH"
      },
      "source": [
        "Question description: Please use the text corpus you collected in your last in-class-exercise for this exercise. Perform the following tasks:"
      ]
    },
    {
      "cell_type": "markdown",
      "metadata": {
        "id": "HUfpqKvLPqVI"
      },
      "source": [
        "## (1) (10 points) Generate K topics by using LDA, the number of topics K should be decided by the coherence score, then summarize what are the topics. You may refer the code here:\n",
        "\n",
        "https://www.machinelearningplus.com/nlp/topic-modeling-gensim-python/"
      ]
    },
    {
      "cell_type": "code",
      "source": [
        "!pip install --upgrade pip\n"
      ],
      "metadata": {
        "colab": {
          "base_uri": "https://localhost:8080/"
        },
        "id": "HZrLRII5QPT6",
        "outputId": "b8423c87-117c-4fc7-c19a-a6a9fa46d7f1"
      },
      "execution_count": 2,
      "outputs": [
        {
          "output_type": "stream",
          "name": "stdout",
          "text": [
            "Requirement already satisfied: pip in /usr/local/lib/python3.10/dist-packages (23.1.2)\n",
            "Collecting pip\n",
            "  Downloading pip-23.3.1-py3-none-any.whl (2.1 MB)\n",
            "\u001b[2K     \u001b[90m━━━━━━━━━━━━━━━━━━━━━━━━━━━━━━━━━━━━━━━━\u001b[0m \u001b[32m2.1/2.1 MB\u001b[0m \u001b[31m9.3 MB/s\u001b[0m eta \u001b[36m0:00:00\u001b[0m\n",
            "\u001b[?25hInstalling collected packages: pip\n",
            "  Attempting uninstall: pip\n",
            "    Found existing installation: pip 23.1.2\n",
            "    Uninstalling pip-23.1.2:\n",
            "      Successfully uninstalled pip-23.1.2\n",
            "Successfully installed pip-23.3.1\n"
          ]
        }
      ]
    },
    {
      "cell_type": "code",
      "source": [
        "!pip install pyLDAvis\n"
      ],
      "metadata": {
        "colab": {
          "base_uri": "https://localhost:8080/"
        },
        "id": "b-PPwKC9Q6bq",
        "outputId": "48398cd0-d39d-4a89-88df-6636db16c629"
      },
      "execution_count": 3,
      "outputs": [
        {
          "output_type": "stream",
          "name": "stdout",
          "text": [
            "Collecting pyLDAvis\n",
            "  Downloading pyLDAvis-3.4.1-py3-none-any.whl (2.6 MB)\n",
            "\u001b[2K     \u001b[90m━━━━━━━━━━━━━━━━━━━━━━━━━━━━━━━━━━━━━━━━\u001b[0m \u001b[32m2.6/2.6 MB\u001b[0m \u001b[31m19.5 MB/s\u001b[0m eta \u001b[36m0:00:00\u001b[0m\n",
            "\u001b[?25hCollecting numpy>=1.24.2 (from pyLDAvis)\n",
            "  Downloading numpy-1.26.1-cp310-cp310-manylinux_2_17_x86_64.manylinux2014_x86_64.whl.metadata (61 kB)\n",
            "\u001b[2K     \u001b[90m━━━━━━━━━━━━━━━━━━━━━━━━━━━━━━━━━━━━━━━━\u001b[0m \u001b[32m61.2/61.2 kB\u001b[0m \u001b[31m3.8 MB/s\u001b[0m eta \u001b[36m0:00:00\u001b[0m\n",
            "\u001b[?25hRequirement already satisfied: scipy in /usr/local/lib/python3.10/dist-packages (from pyLDAvis) (1.11.3)\n",
            "Collecting pandas>=2.0.0 (from pyLDAvis)\n",
            "  Downloading pandas-2.1.2-cp310-cp310-manylinux_2_17_x86_64.manylinux2014_x86_64.whl.metadata (18 kB)\n",
            "Requirement already satisfied: joblib>=1.2.0 in /usr/local/lib/python3.10/dist-packages (from pyLDAvis) (1.3.2)\n",
            "Requirement already satisfied: jinja2 in /usr/local/lib/python3.10/dist-packages (from pyLDAvis) (3.1.2)\n",
            "Requirement already satisfied: numexpr in /usr/local/lib/python3.10/dist-packages (from pyLDAvis) (2.8.7)\n",
            "Collecting funcy (from pyLDAvis)\n",
            "  Downloading funcy-2.0-py2.py3-none-any.whl (30 kB)\n",
            "Requirement already satisfied: scikit-learn>=1.0.0 in /usr/local/lib/python3.10/dist-packages (from pyLDAvis) (1.2.2)\n",
            "Requirement already satisfied: gensim in /usr/local/lib/python3.10/dist-packages (from pyLDAvis) (4.3.2)\n",
            "Requirement already satisfied: setuptools in /usr/local/lib/python3.10/dist-packages (from pyLDAvis) (67.7.2)\n",
            "Requirement already satisfied: python-dateutil>=2.8.2 in /usr/local/lib/python3.10/dist-packages (from pandas>=2.0.0->pyLDAvis) (2.8.2)\n",
            "Requirement already satisfied: pytz>=2020.1 in /usr/local/lib/python3.10/dist-packages (from pandas>=2.0.0->pyLDAvis) (2023.3.post1)\n",
            "Collecting tzdata>=2022.1 (from pandas>=2.0.0->pyLDAvis)\n",
            "  Downloading tzdata-2023.3-py2.py3-none-any.whl (341 kB)\n",
            "\u001b[2K     \u001b[90m━━━━━━━━━━━━━━━━━━━━━━━━━━━━━━━━━━━━━━━━\u001b[0m \u001b[32m341.8/341.8 kB\u001b[0m \u001b[31m20.0 MB/s\u001b[0m eta \u001b[36m0:00:00\u001b[0m\n",
            "\u001b[?25hRequirement already satisfied: threadpoolctl>=2.0.0 in /usr/local/lib/python3.10/dist-packages (from scikit-learn>=1.0.0->pyLDAvis) (3.2.0)\n",
            "Requirement already satisfied: smart-open>=1.8.1 in /usr/local/lib/python3.10/dist-packages (from gensim->pyLDAvis) (6.4.0)\n",
            "Requirement already satisfied: MarkupSafe>=2.0 in /usr/local/lib/python3.10/dist-packages (from jinja2->pyLDAvis) (2.1.3)\n",
            "Requirement already satisfied: six>=1.5 in /usr/local/lib/python3.10/dist-packages (from python-dateutil>=2.8.2->pandas>=2.0.0->pyLDAvis) (1.16.0)\n",
            "Downloading numpy-1.26.1-cp310-cp310-manylinux_2_17_x86_64.manylinux2014_x86_64.whl (18.2 MB)\n",
            "\u001b[2K   \u001b[90m━━━━━━━━━━━━━━━━━━━━━━━━━━━━━━━━━━━━━━━━\u001b[0m \u001b[32m18.2/18.2 MB\u001b[0m \u001b[31m48.5 MB/s\u001b[0m eta \u001b[36m0:00:00\u001b[0m\n",
            "\u001b[?25hDownloading pandas-2.1.2-cp310-cp310-manylinux_2_17_x86_64.manylinux2014_x86_64.whl (12.3 MB)\n",
            "\u001b[2K   \u001b[90m━━━━━━━━━━━━━━━━━━━━━━━━━━━━━━━━━━━━━━━━\u001b[0m \u001b[32m12.3/12.3 MB\u001b[0m \u001b[31m64.6 MB/s\u001b[0m eta \u001b[36m0:00:00\u001b[0m\n",
            "\u001b[?25hInstalling collected packages: funcy, tzdata, numpy, pandas, pyLDAvis\n",
            "  Attempting uninstall: numpy\n",
            "    Found existing installation: numpy 1.23.5\n",
            "    Uninstalling numpy-1.23.5:\n",
            "      Successfully uninstalled numpy-1.23.5\n",
            "  Attempting uninstall: pandas\n",
            "    Found existing installation: pandas 1.5.3\n",
            "    Uninstalling pandas-1.5.3:\n",
            "      Successfully uninstalled pandas-1.5.3\n",
            "\u001b[31mERROR: pip's dependency resolver does not currently take into account all the packages that are installed. This behaviour is the source of the following dependency conflicts.\n",
            "lida 0.0.10 requires fastapi, which is not installed.\n",
            "lida 0.0.10 requires kaleido, which is not installed.\n",
            "lida 0.0.10 requires python-multipart, which is not installed.\n",
            "lida 0.0.10 requires uvicorn, which is not installed.\n",
            "cupy-cuda11x 11.0.0 requires numpy<1.26,>=1.20, but you have numpy 1.26.1 which is incompatible.\n",
            "google-colab 1.0.0 requires pandas==1.5.3, but you have pandas 2.1.2 which is incompatible.\n",
            "numba 0.56.4 requires numpy<1.24,>=1.18, but you have numpy 1.26.1 which is incompatible.\u001b[0m\u001b[31m\n",
            "\u001b[0mSuccessfully installed funcy-2.0 numpy-1.26.1 pandas-2.1.2 pyLDAvis-3.4.1 tzdata-2023.3\n",
            "\u001b[33mWARNING: Running pip as the 'root' user can result in broken permissions and conflicting behaviour with the system package manager. It is recommended to use a virtual environment instead: https://pip.pypa.io/warnings/venv\u001b[0m\u001b[33m\n",
            "\u001b[0m"
          ]
        }
      ]
    },
    {
      "cell_type": "code",
      "source": [],
      "metadata": {
        "id": "fB2e1i7KRoXx"
      },
      "execution_count": null,
      "outputs": []
    },
    {
      "cell_type": "code",
      "execution_count": 5,
      "metadata": {
        "colab": {
          "base_uri": "https://localhost:8080/",
          "height": 1000
        },
        "id": "34XL8DR-PqVJ",
        "outputId": "e2332143-11ff-42bd-d333-cb8895d06a0e"
      },
      "outputs": [
        {
          "output_type": "stream",
          "name": "stderr",
          "text": [
            "/usr/local/lib/python3.10/dist-packages/ipykernel/ipkernel.py:283: DeprecationWarning: `should_run_async` will not call `transform_cell` automatically in the future. Please pass the result to `transformed_cell` argument and any exception that happen during thetransform in `preprocessing_exc_tuple` in IPython 7.17 and above.\n",
            "  and should_run_async(code)\n",
            "[nltk_data] Downloading package punkt to /root/nltk_data...\n",
            "[nltk_data]   Package punkt is already up-to-date!\n",
            "[nltk_data] Downloading package stopwords to /root/nltk_data...\n",
            "[nltk_data]   Package stopwords is already up-to-date!\n",
            "WARNING:gensim.models.ldamodel:too few updates, training might not converge; consider increasing the number of passes or iterations to improve accuracy\n",
            "WARNING:gensim.models.ldamodel:too few updates, training might not converge; consider increasing the number of passes or iterations to improve accuracy\n"
          ]
        },
        {
          "output_type": "stream",
          "name": "stdout",
          "text": [
            "Coherence Score for 2 topics: 0.3484\n"
          ]
        },
        {
          "output_type": "stream",
          "name": "stderr",
          "text": [
            "WARNING:gensim.models.ldamodel:too few updates, training might not converge; consider increasing the number of passes or iterations to improve accuracy\n"
          ]
        },
        {
          "output_type": "stream",
          "name": "stdout",
          "text": [
            "Coherence Score for 3 topics: 0.3514\n"
          ]
        },
        {
          "output_type": "stream",
          "name": "stderr",
          "text": [
            "WARNING:gensim.models.ldamodel:too few updates, training might not converge; consider increasing the number of passes or iterations to improve accuracy\n"
          ]
        },
        {
          "output_type": "stream",
          "name": "stdout",
          "text": [
            "Coherence Score for 4 topics: 0.3295\n"
          ]
        },
        {
          "output_type": "stream",
          "name": "stderr",
          "text": [
            "WARNING:gensim.models.ldamodel:too few updates, training might not converge; consider increasing the number of passes or iterations to improve accuracy\n"
          ]
        },
        {
          "output_type": "stream",
          "name": "stdout",
          "text": [
            "Coherence Score for 5 topics: 0.3186\n"
          ]
        },
        {
          "output_type": "stream",
          "name": "stderr",
          "text": [
            "WARNING:gensim.models.ldamodel:too few updates, training might not converge; consider increasing the number of passes or iterations to improve accuracy\n"
          ]
        },
        {
          "output_type": "stream",
          "name": "stdout",
          "text": [
            "Coherence Score for 6 topics: 0.3328\n"
          ]
        },
        {
          "output_type": "stream",
          "name": "stderr",
          "text": [
            "WARNING:gensim.models.ldamodel:too few updates, training might not converge; consider increasing the number of passes or iterations to improve accuracy\n"
          ]
        },
        {
          "output_type": "stream",
          "name": "stdout",
          "text": [
            "Coherence Score for 7 topics: 0.3669\n"
          ]
        },
        {
          "output_type": "stream",
          "name": "stderr",
          "text": [
            "WARNING:gensim.models.ldamodel:too few updates, training might not converge; consider increasing the number of passes or iterations to improve accuracy\n"
          ]
        },
        {
          "output_type": "stream",
          "name": "stdout",
          "text": [
            "Coherence Score for 8 topics: 0.3279\n"
          ]
        },
        {
          "output_type": "stream",
          "name": "stderr",
          "text": [
            "WARNING:gensim.models.ldamodel:too few updates, training might not converge; consider increasing the number of passes or iterations to improve accuracy\n"
          ]
        },
        {
          "output_type": "stream",
          "name": "stdout",
          "text": [
            "Coherence Score for 9 topics: 0.3337\n",
            "Optimal number of topics: 7\n",
            "Topic 1: sustainable (0.0184), transportation (0.0143), mobility (0.0119), solutions (0.0112), sharing (0.0104), electric (0.0096), buses (0.0096), urban (0.0085), car (0.0082), micromobility (0.0066)\n",
            "Topic 2: sustainable (0.0191), mobility (0.0183), transportation (0.0144), electric (0.0139), car (0.0122), sharing (0.0094), solutions (0.0093), urban (0.0078), micromobility (0.0076), cities (0.0072)\n",
            "Topic 3: sustainable (0.0213), mobility (0.0151), transportation (0.0143), electric (0.0118), solutions (0.0115), buses (0.0102), car (0.0100), sharing (0.0081), development (0.0071), urban (0.0070)\n",
            "Topic 4: sustainable (0.0126), electric (0.0099), transportation (0.0092), solutions (0.0075), mobility (0.0073), buses (0.0067), sharing (0.0067), car (0.0055), development (0.0054), urban (0.0054)\n",
            "Topic 5: sustainable (0.0339), transportation (0.0224), mobility (0.0206), electric (0.0177), solutions (0.0157), car (0.0141), sharing (0.0125), urban (0.0100), buses (0.0098), micromobility (0.0095)\n",
            "Topic 6: sustainable (0.0236), mobility (0.0174), transportation (0.0153), electric (0.0129), solutions (0.0109), car (0.0099), buses (0.0097), sharing (0.0093), development (0.0081), urban (0.0079)\n",
            "Topic 7: sustainable (0.0088), mobility (0.0082), electric (0.0077), transportation (0.0075), car (0.0061), sharing (0.0057), buses (0.0054), solutions (0.0053), development (0.0044), micromobility (0.0042)\n"
          ]
        },
        {
          "output_type": "execute_result",
          "data": {
            "text/plain": [
              "<IPython.core.display.HTML object>"
            ],
            "text/html": [
              "\n",
              "<link rel=\"stylesheet\" type=\"text/css\" href=\"https://cdn.jsdelivr.net/gh/bmabey/pyLDAvis@3.4.0/pyLDAvis/js/ldavis.v1.0.0.css\">\n",
              "\n",
              "\n",
              "<div id=\"ldavis_el4151355389514869601910294657\" style=\"background-color:white;\"></div>\n",
              "<script type=\"text/javascript\">\n",
              "\n",
              "var ldavis_el4151355389514869601910294657_data = {\"mdsDat\": {\"x\": [-0.012341227220008837, -0.0016126510715632275, -0.0016565057418468005, -0.000941894904752207, -0.00024101120397589882, 0.00569670516981035, 0.011096584972336631], \"y\": [-8.364901378162539e-05, 0.001999510677525113, -0.0008564422617110434, -0.0008215773405424076, -4.174706437244147e-05, -0.00040103926069027536, 0.00020494426357268831], \"topics\": [1, 2, 3, 4, 5, 6, 7], \"cluster\": [1, 1, 1, 1, 1, 1, 1], \"Freq\": [99.87959513220602, 0.02008079248256777, 0.02007757214384011, 0.02007661171746855, 0.02007199876050213, 0.02005175122635993, 0.020046141463235148]}, \"tinfo\": {\"Term\": [\"sustainable\", \"transportation\", \"mobility\", \"electric\", \"solutions\", \"car\", \"sharing\", \"buses\", \"urban\", \"micromobility\", \"cities\", \"public\", \"development\", \"infrastructure\", \"also\", \"vehicles\", \"challenges\", \"communities\", \"towards\", \"services\", \"way\", \"future\", \"integration\", \"initiatives\", \"benefits\", \"options\", \"efficiency\", \"positive\", \"change\", \"fostering\", \"sustainable\", \"transportation\", \"communities\", \"solutions\", \"car\", \"micromobility\", \"electric\", \"cities\", \"mobility\", \"public\", \"towards\", \"sharing\", \"urban\", \"positive\", \"infrastructure\", \"services\", \"make\", \"change\", \"also\", \"way\", \"cleaner\", \"fostering\", \"inclusive\", \"technology\", \"implementation\", \"continued\", \"moreover\", \"vehicles\", \"innovation\", \"future\", \"buses\", \"challenges\", \"development\", \"integration\", \"initiatives\", \"benefits\", \"options\", \"partnerships\", \"densely\", \"prioritizing\", \"widespread\", \"tailpipe\", \"replaced\", \"smart\", \"preferences\", \"modes\", \"contingent\", \"popularity\", \"key\", \"shift\", \"various\", \"ever\", \"focus\", \"existence\", \"opportunity\", \"associated\", \"players\", \"comprehensive\", \"impact\", \"programs\", \"ride\", \"methods\", \"imperative\", \"costeffective\", \"platform\", \"enhance\", \"fabric\", \"landscape\", \"embracing\", \"efficiency\", \"pave\", \"environment\", \"mobility\", \"role\", \"options\", \"development\", \"costs\", \"engagement\", \"benefits\", \"car\", \"electric\", \"global\", \"community\", \"cities\", \"planning\", \"transportation\", \"challenges\", \"sustainable\", \"sharing\", \"micromobility\", \"urban\", \"vehicles\", \"buses\", \"solutions\", \"way\", \"promoting\", \"sustainability\", \"infrastructure\", \"services\", \"also\", \"public\", \"integration\", \"ecofriendly\", \"cleaner\", \"initiatives\", \"modes\", \"ecofriendly\", \"tailpipe\", \"data\", \"fabric\", \"input\", \"swell\", \"opportunity\", \"ride\", \"prioritizing\", \"collective\", \"imperative\", \"requires\", \"global\", \"popularity\", \"businesses\", \"smart\", \"focus\", \"redefining\", \"partnerships\", \"associated\", \"choices\", \"presence\", \"impacts\", \"contribution\", \"densely\", \"means\", \"existence\", \"lead\", \"quieter\", \"development\", \"advancements\", \"transition\", \"reducing\", \"resilient\", \"embracing\", \"buses\", \"mobility\", \"initiatives\", \"sustainable\", \"future\", \"need\", \"enable\", \"sustainability\", \"electric\", \"transportation\", \"also\", \"solutions\", \"sharing\", \"urban\", \"car\", \"benefits\", \"efficiency\", \"challenges\", \"options\", \"environment\", \"promoting\", \"alternatives\", \"vehicles\", \"provide\", \"services\", \"micromobility\", \"integration\", \"public\", \"infrastructure\", \"towards\", \"cities\", \"communities\", \"tailpipe\", \"partnerships\", \"input\", \"communitycentric\", \"analytics\", \"prioritizing\", \"navigating\", \"embracing\", \"user\", \"means\", \"densely\", \"modes\", \"opportunity\", \"data\", \"spaces\", \"programs\", \"transition\", \"comprehensive\", \"contributing\", \"advocacy\", \"swell\", \"however\", \"existence\", \"collective\", \"rising\", \"options\", \"daily\", \"batteries\", \"urbanization\", \"quotient\", \"placed\", \"strategies\", \"efficiency\", \"costs\", \"development\", \"traditional\", \"buses\", \"bustling\", \"ecofriendly\", \"vehicles\", \"parking\", \"mobility\", \"sustainable\", \"sustainability\", \"environmental\", \"solutions\", \"transportation\", \"electric\", \"car\", \"integration\", \"role\", \"alternatives\", \"sharing\", \"urban\", \"initiatives\", \"effective\", \"furthermore\", \"also\", \"infrastructure\", \"micromobility\", \"challenges\", \"public\", \"communities\", \"cities\", \"future\", \"way\", \"benefits\", \"partnerships\", \"comprehensive\", \"ecofriendly\", \"strategic\", \"input\", \"associated\", \"fabric\", \"data\", \"opportunity\", \"tailpipe\", \"smart\", \"navigating\", \"densely\", \"quotient\", \"embracing\", \"imperative\", \"urbanization\", \"quieter\", \"success\", \"fundamental\", \"designed\", \"highlighting\", \"impact\", \"personal\", \"traffic\", \"ride\", \"traversing\", \"cornerstone\", \"popularity\", \"insights\", \"transition\", \"traditional\", \"widespread\", \"reducing\", \"buses\", \"significant\", \"collaboration\", \"environment\", \"capabilities\", \"programs\", \"sharing\", \"accessibility\", \"urban\", \"solutions\", \"transportation\", \"sustainable\", \"challenges\", \"efficiency\", \"options\", \"infrastructure\", \"engagement\", \"mobility\", \"various\", \"advancements\", \"cities\", \"also\", \"electric\", \"micromobility\", \"car\", \"way\", \"provide\", \"public\", \"future\", \"towards\", \"benefits\", \"integration\", \"initiatives\", \"development\", \"cleaner\", \"services\", \"vehicles\", \"densely\", \"tailpipe\", \"partnerships\", \"input\", \"modes\", \"term\", \"strategic\", \"opportunity\", \"means\", \"prioritizing\", \"quotient\", \"smart\", \"communitycentric\", \"comprehensive\", \"user\", \"data\", \"collective\", \"preferences\", \"navigating\", \"analytics\", \"requires\", \"motion\", \"placed\", \"imperative\", \"fabric\", \"energy\", \"authorities\", \"players\", \"popularity\", \"shift\", \"batteries\", \"global\", \"bolstered\", \"embracing\", \"ecofriendly\", \"sustainability\", \"development\", \"electric\", \"buses\", \"challenges\", \"programs\", \"widespread\", \"sustainable\", \"options\", \"environmental\", \"various\", \"bustling\", \"transportation\", \"solutions\", \"sharing\", \"also\", \"alternatives\", \"public\", \"urban\", \"mobility\", \"environment\", \"awareness\", \"micromobility\", \"infrastructure\", \"car\", \"furthermore\", \"vehicles\", \"engagement\", \"cities\", \"future\", \"moreover\", \"efficiency\", \"environmentally\", \"benefits\", \"positive\", \"services\", \"way\", \"towards\", \"partnerships\", \"densely\", \"tailpipe\", \"input\", \"comprehensive\", \"opportunity\", \"preferences\", \"means\", \"prioritizing\", \"modes\", \"communitycentric\", \"fabric\", \"data\", \"term\", \"urbanization\", \"collective\", \"existence\", \"smart\", \"run\", \"swell\", \"motion\", \"proliferation\", \"quotient\", \"focus\", \"batteries\", \"success\", \"analytics\", \"popularity\", \"players\", \"businesses\", \"vibrant\", \"life\", \"govern\", \"noise\", \"era\", \"efficiency\", \"electric\", \"mobility\", \"development\", \"travel\", \"sustainability\", \"buses\", \"transportation\", \"car\", \"sustainable\", \"sharing\", \"effective\", \"friendly\", \"vehicles\", \"advancements\", \"role\", \"furthermore\", \"reducing\", \"encouraging\", \"environmental\", \"initiatives\", \"solutions\", \"future\", \"ecofriendly\", \"services\", \"moreover\", \"micromobility\", \"benefits\", \"vital\", \"urban\", \"cities\", \"communities\", \"integration\", \"infrastructure\", \"way\", \"also\"], \"Freq\": [24.0, 15.0, 14.0, 12.0, 11.0, 10.0, 8.0, 6.0, 7.0, 6.0, 5.0, 4.0, 4.0, 4.0, 4.0, 4.0, 4.0, 4.0, 4.0, 3.0, 3.0, 3.0, 3.0, 3.0, 3.0, 3.0, 2.0, 3.0, 3.0, 3.0, 24.11744313712738, 15.964118752989336, 4.4851612576625275, 11.133388501395977, 10.02264362832021, 6.759972710503664, 12.60257853780626, 5.851596594458165, 14.646082222532115, 4.906140766444214, 4.097514811140339, 8.88672195799569, 7.140944795625465, 3.2294120335254775, 4.668652384030901, 3.873032078423817, 2.32885689145039, 3.0332954195485122, 4.492959878896917, 3.7284380242504067, 2.9958716410211412, 3.005579682639288, 2.2440978000917884, 2.9643115646677547, 2.235878947420183, 2.916820113836014, 2.9472668583596757, 4.327021776611348, 2.9122376373756538, 3.614154280123012, 6.988727630589395, 4.272633430473933, 4.328348701251951, 3.549826417367754, 3.444952678378211, 3.3707127845916265, 2.9978542459183934, 0.0003021571674934891, 0.00029956272122795796, 0.0002926112084354845, 0.0004913611985331121, 0.0002661760489971683, 0.00030115423593225473, 0.0002870754443275482, 0.00029114932117076044, 0.0002766439807224574, 0.0003040298745403823, 0.0002887784772451394, 0.00030122344380253507, 0.00029795233164994837, 0.0004941768836182118, 0.0003030060374752826, 0.0002852438492189889, 0.0002833414816562612, 0.0002629752598969949, 0.00027590200178033203, 0.0002839894524090303, 0.00026438411775462104, 0.000293716337284723, 0.0004391101885639812, 0.00027505612781023893, 0.00029056376732841736, 0.00027019579789565914, 0.0002951363802526975, 0.00029666181625448993, 0.00047217257581721626, 0.00026431291254320707, 0.0004696254665365522, 0.00040816311872733787, 0.0007599295129395597, 0.0006665345738893491, 0.0006033290466057576, 0.00262030970271444, 0.0006122488392183685, 0.0006989030182547227, 0.0009429134575098452, 0.00043080700844834127, 0.0005964768349566445, 0.0007448868045037624, 0.0017509392778374492, 0.001986369472472678, 0.000416683276668128, 0.0006069344470860764, 0.0010332962063964255, 0.00047737861219300883, 0.0020639426068888994, 0.000818769451707372, 0.002736257219706828, 0.0013370148286101502, 0.001093577959150569, 0.0011088356480703828, 0.0007874360960954843, 0.0010191111562434098, 0.0013349377269872486, 0.0006841015886278681, 0.0005501728083458458, 0.0005241059752570808, 0.0007223090600633011, 0.0006449242083379435, 0.0006829380708394898, 0.000706537055801577, 0.0006094530276775484, 0.0005507884554612689, 0.0005584011214579934, 0.0005613964008000256, 0.000291220454043052, 0.0008347995699222831, 0.00027346510833464385, 0.0002912872211058616, 0.00029759394599589357, 0.0002780129238521767, 0.000302857127655483, 0.0002785931249682764, 0.0002936898701402747, 0.00027593632175060615, 0.0002879647442809177, 0.0002853250821586348, 0.0002919121554883701, 0.00046243773017997974, 0.0002794041151240179, 0.0002855346362102045, 0.00027162363879300257, 0.00028000471913618055, 0.00028835609379463387, 0.00024241298224646516, 0.00027162209110186564, 0.00029351097035831993, 0.00029700961770342876, 0.0002935888874540513, 0.00030003160946204927, 0.00024739643121443806, 0.00027467989610055753, 0.0002744107975448172, 0.0002799458070219368, 0.00028317725298108597, 0.0011608957626118533, 0.0004461426060964871, 0.00041714456570011283, 0.0006032510632619714, 0.00045826192635787177, 0.0003894682535346608, 0.0013915808240361706, 0.0024895279607845206, 0.0007544305985932318, 0.0033693066969461196, 0.0007562408979682124, 0.00044804140677755477, 0.0004289708564395757, 0.0005404669586305054, 0.0018490253364879907, 0.0021886331057885586, 0.0008359572428926927, 0.0015638595500235765, 0.0013251507252066259, 0.0011307699047063558, 0.0014192175951893505, 0.000667375335283281, 0.0006113323408542734, 0.0007682210258783162, 0.0006044738391111723, 0.0005185688597945904, 0.0005398545056281332, 0.0005713352090265149, 0.0007207140306827393, 0.0005357922657234261, 0.000654171233311483, 0.0008542451607706002, 0.000621734489478335, 0.000662574364092902, 0.0006455690661214894, 0.000607132339796541, 0.0006229872206398633, 0.0005445285661452855, 0.0003015071298941211, 0.00029182334022563887, 0.0002968400492282177, 0.000313651164805381, 0.00030916264254273926, 0.0002894927952806263, 0.0002981395816445743, 0.00045442065244305946, 0.00030523575551868836, 0.000293131392856578, 0.0002628942496122861, 0.0002712008930346994, 0.0002681078554487318, 0.0002706100361226577, 0.00029914413491310103, 0.0004519634025882208, 0.0004519438660024399, 0.00027063146978746676, 0.00029544649491265983, 0.0002962170751010506, 0.0002726676679443254, 0.0002890512750983954, 0.0002760544532408591, 0.00027206472963426244, 0.00028752099796445943, 0.0008218715473563899, 0.0002822861914378223, 0.0002819986009135755, 0.0002745197163071026, 0.00026897967974946584, 0.00028241815491758597, 0.00044971216885941935, 0.0007492504302611363, 0.0004369847322238773, 0.0010131694686515823, 0.0004276252432229406, 0.0014613145171054143, 0.0004642638300319927, 0.0006366943352118827, 0.0009421343761880211, 0.00044075835523170833, 0.0021610159722830506, 0.0030392910073545414, 0.0005410178835594226, 0.0006118648989424935, 0.0016489932775641714, 0.0020409578948581046, 0.0016867317042603034, 0.0014237037604996664, 0.0007020885796726107, 0.0005472628014633181, 0.0005879863319333436, 0.0011526701432403247, 0.0010045035450869121, 0.0006459368376727514, 0.0005717008070932367, 0.0005326670082417746, 0.0006803743468599389, 0.0006809544536574878, 0.0007974057511828136, 0.0006433697236447225, 0.0006699796850693196, 0.0006451732800049736, 0.0006995369085335124, 0.0005956302291331756, 0.0005872862099256995, 0.0005698618385911272, 0.00028806918110711537, 0.00030812282160081134, 0.0008566179427846586, 0.00031371226221071165, 0.00028417068104319616, 0.00030344413571726885, 0.00029626530815551416, 0.0002874795580114645, 0.00028440346903287864, 0.00026942840665543014, 0.00028682831065096343, 0.00028807393935218747, 0.00026600611375479584, 0.0002926251508520145, 0.0004406585472720782, 0.00028417816779243555, 0.0002941733773202729, 0.0002977156744926039, 0.00029085807838487933, 0.00029184706132217816, 0.0002962338305342678, 0.0002933946223016153, 0.00029203622651962594, 0.0002892747141068575, 0.0003030029166287626, 0.00027389526744716036, 0.00028290974609908277, 0.00030888460665452647, 0.0002738374198313709, 0.00031281198893328896, 0.0004316411404693422, 0.0004515871381461968, 0.00042572414626160964, 0.0005878741910285575, 0.0013749985302003121, 0.00043810752897347946, 0.0004419973111338399, 0.0005579525824696522, 0.00044951317550913003, 0.00040229724275618687, 0.001492810814817455, 0.0004593143950455653, 0.0012088666994434626, 0.0016037145268831638, 0.00204293515245911, 0.0026297240643179303, 0.0007960854788946518, 0.0006209799306761828, 0.0006232387993822413, 0.0008394251056358654, 0.000551129658329516, 0.0017057338300870684, 0.0004219740169303941, 0.00041361660866615893, 0.0008930447378459815, 0.0007553529046107886, 0.0013789545950472718, 0.0009487054908198344, 0.0011746364833345264, 0.0006597235585198975, 0.0005399415933639818, 0.0007345034725846102, 0.0006316467847968935, 0.0006682740250911849, 0.0006077434245698778, 0.0006214579512965057, 0.0006072662690850227, 0.0006520832810094697, 0.0005446743834886941, 0.0005801426750007328, 0.0005486603620581701, 0.0003504357485077662, 0.00031925205094953887, 0.00030282740189287323, 0.0003094089623037606, 0.00031651230473938436, 0.0003326175754630139, 0.0003282042176467292, 0.0003076893120848853, 0.00032877257013822067, 0.0003025587491360459, 0.00032000050250518414, 0.00030494148834195317, 0.00030530055628048933, 0.000295146765170214, 0.0003184603862555769, 0.00029046418950221626, 0.0003041612252683317, 0.00030229076119673106, 0.0002981509425459911, 0.0003024153147577101, 0.0003086180621499381, 0.00031380091299614075, 0.0003135361826626375, 0.00029203000094868415, 0.00028814261350746496, 0.0003329024830080235, 0.0003098442515701123, 0.00029847254801769425, 0.0002902901735183025, 0.00030196533302433073, 0.0003023610324078092, 0.0004387651982343875, 0.0003167171017741299, 0.0003988252556999226, 0.0005946264119968169, 0.0005370795421822171, 0.0007758684304181775, 0.0014080067716709462, 0.0009575059487777628, 0.000709116829733364, 0.0003939767083399131, 0.0003964112368300491, 0.001804236546560941, 0.0005537934533385994, 0.0005336865462842166, 0.0004084104948734526, 0.00042498436222081334, 0.0013067272751353272, 0.0010666199208084486, 0.0009498652011058575, 0.0006604625589668288, 0.0005200727456706742, 0.0006584000955975995, 0.0007686653321147934, 0.001043627539545157, 0.0004698092841149763, 0.00041509879173598225, 0.0007116125546755317, 0.000613467207339396, 0.0007869110493018761, 0.00048057700095722935, 0.000570431442335047, 0.0004689415310567013, 0.0006333405972424907, 0.0005285444819924097, 0.0004923471296449275, 0.0004913916206749939, 0.0004774408240643326, 0.0005028896395547993, 0.000495945321468181, 0.000514641552242653, 0.0005072982106849935, 0.0005039613253850535, 0.0003110917495397728, 0.00031559934697422643, 0.00030679105189761733, 0.00031411399522087737, 0.0003264807939208197, 0.0003135200804942547, 0.0003272160093086778, 0.0003264236023784899, 0.0003045321355176835, 0.00030321992027539666, 0.0003157467622454495, 0.00031233643821958776, 0.0003037310883777305, 0.00032070591033485775, 0.00032878663328609324, 0.00031696014678065396, 0.0003211165529197322, 0.0003071993018090184, 0.00033336650939838955, 0.0003130574304929095, 0.0003270984692242964, 0.0003244853042439934, 0.00030860808801121825, 0.0003075500610939055, 0.0003188144354909729, 0.00031435073696844116, 0.000306353524967743, 0.00030371829422096294, 0.0003107967528394466, 0.00030999932794127975, 0.00032084491801734783, 0.00032205089191109993, 0.0003292228641845028, 0.0003279319836140206, 0.0003168465612538189, 0.000539818639135999, 0.0011045398250043663, 0.00117204392293085, 0.000628274182332422, 0.00041008655414451504, 0.0004678859019996843, 0.0007694796018709847, 0.0010743751246724428, 0.0008689488869181351, 0.0012602463744443076, 0.0008181754917913385, 0.0004888611078464777, 0.0004277340828950075, 0.0005786774508493282, 0.0003881503908139622, 0.000455771530351187, 0.0004643957224966474, 0.00044864010060052806, 0.0003963902930143317, 0.0004648493999724673, 0.0004984307383296963, 0.0007499165718471452, 0.0005046992105142777, 0.0004550932406530505, 0.0005130413330424836, 0.0004684604094859115, 0.0006052269544892291, 0.0004823147199916442, 0.00039952426325401424, 0.0005798682046812634, 0.0005406309850117986, 0.0004971592317680335, 0.00046878577984671964, 0.0004983042921829417, 0.00046429283753729065, 0.00045430179743856716], \"Total\": [24.0, 15.0, 14.0, 12.0, 11.0, 10.0, 8.0, 6.0, 7.0, 6.0, 5.0, 4.0, 4.0, 4.0, 4.0, 4.0, 4.0, 4.0, 4.0, 3.0, 3.0, 3.0, 3.0, 3.0, 3.0, 3.0, 2.0, 3.0, 3.0, 3.0, 24.13228219903671, 15.974836324149138, 4.488229238202766, 11.14135654297009, 10.030067985373291, 6.764983484374753, 12.611992165511204, 5.856019431113836, 14.657274481460462, 4.910023523951343, 4.100773927342292, 8.89379764520046, 7.146746304959568, 3.2320813042528083, 4.672652413215902, 3.87640597201838, 2.33091594057299, 3.036015432648242, 4.497029265818526, 3.7318568356851, 2.998620216902882, 3.008340949897818, 2.246196465782501, 2.967093413649214, 2.237987716474107, 2.919602186436061, 2.9500911580981346, 4.331169830369556, 2.9150472880827794, 3.6176565262489997, 6.995701621167629, 4.276806052445085, 4.333521905834485, 3.55331033256414, 3.448505677889709, 3.374287856354121, 3.0016020106404304, 0.8661772148516944, 0.8981377720280379, 0.9331596071225331, 1.5922256741595662, 0.8801782001251173, 1.0052488468001035, 0.9614415292389111, 0.9792700856322865, 0.9318372586211683, 1.0251814779911481, 0.9877017552959748, 1.0372305021671933, 1.029151344602617, 1.7091649783805904, 1.0550934899481306, 0.9944637063198105, 0.9978263963655818, 0.9280269093799418, 0.9737306425436134, 1.0120349358004495, 0.9436794094254913, 1.0485251978823271, 1.5734892120704476, 0.9867628218814086, 1.0438702327053684, 0.9754401775891686, 1.0659730082722976, 1.0719622179648176, 1.7145526199306094, 0.9628651642271471, 1.7332449283907156, 1.501067358241687, 2.9812746994568697, 2.6139415602201375, 2.3787346705535137, 14.657274481460462, 2.5485221284655295, 3.0016020106404304, 4.333521905834485, 1.6825840437259023, 2.5308895453091136, 3.374287856354121, 10.030067985373291, 12.611992165511204, 1.6234172960923732, 2.7605211540018457, 5.856019431113836, 1.991219711109777, 15.974836324149138, 4.276806052445085, 24.13228219903671, 8.89379764520046, 6.764983484374753, 7.146746304959568, 4.331169830369556, 6.995701621167629, 11.14135654297009, 3.7318568356851, 2.5513857548568786, 2.3675890321958626, 4.672652413215902, 3.87640597201838, 4.497029265818526, 4.910023523951343, 3.55331033256414, 2.686508452286482, 2.998620216902882, 3.448505677889709, 0.9318372586211683, 2.686508452286482, 0.8801782001251173, 0.9376332626443113, 0.9628651642271471, 0.9012498151963736, 0.9820631467390384, 0.9280269093799418, 0.9867628218814086, 0.9331596071225331, 0.9839809402105784, 0.9754401775891686, 1.0201682999399126, 1.6234172960923732, 0.9877017552959748, 1.0103030503057386, 0.9614415292389111, 0.9944637063198105, 1.02870241254108, 0.8661772148516944, 0.9737306425436134, 1.0532329832987204, 1.067797389349135, 1.0596458097237433, 1.0886928297550773, 0.8981377720280379, 0.998348478505755, 0.9978263963655818, 1.0205740453382277, 1.036310017252776, 4.333521905834485, 1.6571030520143375, 1.5735493557418818, 2.465643390957389, 1.8008565996195125, 1.501067358241687, 6.995701621167629, 14.657274481460462, 3.448505677889709, 24.13228219903671, 3.6176565262489997, 1.8360027796287308, 1.733968821574242, 2.3675890321958626, 12.611992165511204, 15.974836324149138, 4.497029265818526, 11.14135654297009, 8.89379764520046, 7.146746304959568, 10.030067985373291, 3.374287856354121, 2.9812746994568697, 4.276806052445085, 3.0016020106404304, 2.3787346705535137, 2.5513857548568786, 2.8683433345550573, 4.331169830369556, 2.618553588234528, 3.87640597201838, 6.764983484374753, 3.55331033256414, 4.910023523951343, 4.672652413215902, 4.100773927342292, 5.856019431113836, 4.488229238202766, 0.8801782001251173, 0.8661772148516944, 0.9012498151963736, 0.9716695108378929, 0.9954121811100614, 0.9331596071225331, 0.9676283805910447, 1.501067358241687, 1.0199979131990287, 0.998348478505755, 0.8981377720280379, 0.9318372586211683, 0.9280269093799418, 0.9376332626443113, 1.0376532592085221, 1.5734892120704476, 1.5735493557418818, 0.9436794094254913, 1.0324249232545082, 1.0455634361530775, 0.9820631467390384, 1.0444698066390252, 0.9978263963655818, 0.9839809402105784, 1.047986691242073, 3.0016020106404304, 1.0324360989531414, 1.0330435451920543, 1.0167518229206873, 0.9963321620174193, 1.0465309414559112, 1.7193986546510938, 2.9812746994568697, 1.6825840437259023, 4.333521905834485, 1.65917590892151, 6.995701621167629, 1.8424074040326628, 2.686508452286482, 4.331169830369556, 1.7675908798127247, 14.657274481460462, 24.13228219903671, 2.3675890321958626, 2.812536728876307, 11.14135654297009, 15.974836324149138, 12.611992165511204, 10.030067985373291, 3.55331033256414, 2.5485221284655295, 2.8683433345550573, 8.89379764520046, 7.146746304959568, 3.448505677889709, 2.788716166825777, 2.6904168688247347, 4.497029265818526, 4.672652413215902, 6.764983484374753, 4.276806052445085, 4.910023523951343, 4.488229238202766, 5.856019431113836, 3.6176565262489997, 3.7318568356851, 3.374287856354121, 0.8661772148516944, 0.9436794094254913, 2.686508452286482, 0.9846794438525414, 0.9012498151963736, 0.9737306425436134, 0.9628651642271471, 0.9376332626443113, 0.9280269093799418, 0.8801782001251173, 0.9614415292389111, 0.9676283805910447, 0.8981377720280379, 0.9963321620174193, 1.501067358241687, 0.9754401775891686, 1.0167518229206873, 1.036310017252776, 1.0197357861773453, 1.0305123953676485, 1.060415723596697, 1.05125677667276, 1.0485251978823271, 1.0401079016578276, 1.0906072500383104, 0.9867628218814086, 1.019591646703291, 1.1139338462186392, 0.9877017552959748, 1.1313214278589476, 1.5735493557418818, 1.65917590892151, 1.5922256741595662, 2.465643390957389, 6.995701621167629, 1.7324305623193845, 1.7533131212921071, 2.3787346705535137, 1.805409099139937, 1.5734892120704476, 8.89379764520046, 1.8926785967440518, 7.146746304959568, 11.14135654297009, 15.974836324149138, 24.13228219903671, 4.276806052445085, 2.9812746994568697, 3.0016020106404304, 4.672652413215902, 2.5308895453091136, 14.657274481460462, 1.7091649783805904, 1.6571030520143375, 5.856019431113836, 4.497029265818526, 12.611992165511204, 6.764983484374753, 10.030067985373291, 3.7318568356851, 2.618553588234528, 4.910023523951343, 3.6176565262489997, 4.100773927342292, 3.374287856354121, 3.55331033256414, 3.448505677889709, 4.333521905834485, 2.998620216902882, 3.87640597201838, 4.331169830369556, 0.8981377720280379, 0.8801782001251173, 0.8661772148516944, 0.9012498151963736, 0.9318372586211683, 0.9907415163306342, 0.9846794438525414, 0.9280269093799418, 0.998348478505755, 0.9331596071225331, 0.9963321620174193, 0.9614415292389111, 0.9716695108378929, 0.9436794094254913, 1.0199979131990287, 0.9376332626443113, 0.9839809402105784, 0.9792700856322865, 0.9676283805910447, 0.9954121811100614, 1.0201682999399126, 1.0469243353176685, 1.0465309414559112, 0.9754401775891686, 0.9628651642271471, 1.1193226590894425, 1.0482034144705743, 1.0120349358004495, 0.9877017552959748, 1.029151344602617, 1.0330435451920543, 1.6234172960923732, 1.0927785286319756, 1.501067358241687, 2.686508452286482, 2.3675890321958626, 4.333521905834485, 12.611992165511204, 6.995701621167629, 4.276806052445085, 1.5734892120704476, 1.5922256741595662, 24.13228219903671, 3.0016020106404304, 2.812536728876307, 1.7091649783805904, 1.8424074040326628, 15.974836324149138, 11.14135654297009, 8.89379764520046, 4.497029265818526, 2.8683433345550573, 4.910023523951343, 7.146746304959568, 14.657274481460462, 2.3787346705535137, 1.7909325711698756, 6.764983484374753, 4.672652413215902, 10.030067985373291, 2.6904168688247347, 4.331169830369556, 2.5308895453091136, 5.856019431113836, 3.6176565262489997, 2.9500911580981346, 2.9812746994568697, 2.7297710249305895, 3.374287856354121, 3.2320813042528083, 3.87640597201838, 3.7318568356851, 4.100773927342292, 0.8661772148516944, 0.8981377720280379, 0.8801782001251173, 0.9012498151963736, 0.9436794094254913, 0.9280269093799418, 0.9792700856322865, 0.998348478505755, 0.9331596071225331, 0.9318372586211683, 0.9716695108378929, 0.9628651642271471, 0.9376332626443113, 0.9907415163306342, 1.0167518229206873, 0.9839809402105784, 0.9978263963655818, 0.9614415292389111, 1.0450811381860077, 0.9820631467390384, 1.0469243353176685, 1.0436459012746477, 0.9963321620174193, 0.9944637063198105, 1.0330435451920543, 1.0197357861773453, 0.9954121811100614, 0.9877017552959748, 1.0120349358004495, 1.0103030503057386, 1.0508880011075077, 1.0567754627156283, 1.0958288472407598, 1.0924594700245607, 1.046676585089943, 2.9812746994568697, 12.611992165511204, 14.657274481460462, 4.333521905834485, 1.7653872388364986, 2.3675890321958626, 6.995701621167629, 15.974836324149138, 10.030067985373291, 24.13228219903671, 8.89379764520046, 2.788716166825777, 2.0427628375778273, 4.331169830369556, 1.6571030520143375, 2.5485221284655295, 2.6904168688247347, 2.465643390957389, 1.7781410226952477, 2.812536728876307, 3.448505677889709, 11.14135654297009, 3.6176565262489997, 2.686508452286482, 3.87640597201838, 2.9500911580981346, 6.764983484374753, 3.374287856354121, 1.8713505653453981, 7.146746304959568, 5.856019431113836, 4.488229238202766, 3.55331033256414, 4.672652413215902, 3.7318568356851, 4.497029265818526], \"Category\": [\"Default\", \"Default\", \"Default\", \"Default\", \"Default\", \"Default\", \"Default\", \"Default\", \"Default\", \"Default\", \"Default\", \"Default\", \"Default\", \"Default\", \"Default\", \"Default\", \"Default\", \"Default\", \"Default\", \"Default\", \"Default\", \"Default\", \"Default\", \"Default\", \"Default\", \"Default\", \"Default\", \"Default\", \"Default\", \"Default\", \"Topic1\", \"Topic1\", \"Topic1\", \"Topic1\", \"Topic1\", \"Topic1\", \"Topic1\", \"Topic1\", \"Topic1\", \"Topic1\", \"Topic1\", \"Topic1\", \"Topic1\", \"Topic1\", \"Topic1\", \"Topic1\", \"Topic1\", \"Topic1\", \"Topic1\", \"Topic1\", \"Topic1\", \"Topic1\", \"Topic1\", \"Topic1\", \"Topic1\", \"Topic1\", \"Topic1\", \"Topic1\", \"Topic1\", \"Topic1\", \"Topic1\", \"Topic1\", \"Topic1\", \"Topic1\", \"Topic1\", \"Topic1\", \"Topic1\", \"Topic2\", \"Topic2\", \"Topic2\", \"Topic2\", \"Topic2\", \"Topic2\", \"Topic2\", \"Topic2\", \"Topic2\", \"Topic2\", \"Topic2\", \"Topic2\", \"Topic2\", \"Topic2\", \"Topic2\", \"Topic2\", \"Topic2\", \"Topic2\", \"Topic2\", \"Topic2\", \"Topic2\", \"Topic2\", \"Topic2\", \"Topic2\", \"Topic2\", \"Topic2\", \"Topic2\", \"Topic2\", \"Topic2\", \"Topic2\", \"Topic2\", \"Topic2\", \"Topic2\", \"Topic2\", \"Topic2\", \"Topic2\", \"Topic2\", \"Topic2\", \"Topic2\", \"Topic2\", \"Topic2\", \"Topic2\", \"Topic2\", \"Topic2\", \"Topic2\", \"Topic2\", \"Topic2\", \"Topic2\", \"Topic2\", \"Topic2\", \"Topic2\", \"Topic2\", \"Topic2\", \"Topic2\", \"Topic2\", \"Topic2\", \"Topic2\", \"Topic2\", \"Topic2\", \"Topic2\", \"Topic2\", \"Topic2\", \"Topic2\", \"Topic2\", \"Topic2\", \"Topic2\", \"Topic2\", \"Topic2\", \"Topic3\", \"Topic3\", \"Topic3\", \"Topic3\", \"Topic3\", \"Topic3\", \"Topic3\", \"Topic3\", \"Topic3\", \"Topic3\", \"Topic3\", \"Topic3\", \"Topic3\", \"Topic3\", \"Topic3\", \"Topic3\", \"Topic3\", \"Topic3\", \"Topic3\", \"Topic3\", \"Topic3\", \"Topic3\", \"Topic3\", \"Topic3\", \"Topic3\", \"Topic3\", \"Topic3\", \"Topic3\", \"Topic3\", \"Topic3\", \"Topic3\", \"Topic3\", \"Topic3\", \"Topic3\", \"Topic3\", \"Topic3\", \"Topic3\", \"Topic3\", \"Topic3\", \"Topic3\", \"Topic3\", \"Topic3\", \"Topic3\", \"Topic3\", \"Topic3\", \"Topic3\", \"Topic3\", \"Topic3\", \"Topic3\", \"Topic3\", \"Topic3\", \"Topic3\", \"Topic3\", \"Topic3\", \"Topic3\", \"Topic3\", \"Topic3\", \"Topic3\", \"Topic3\", \"Topic3\", \"Topic3\", \"Topic3\", \"Topic3\", \"Topic3\", \"Topic3\", \"Topic3\", \"Topic3\", \"Topic3\", \"Topic4\", \"Topic4\", \"Topic4\", \"Topic4\", \"Topic4\", \"Topic4\", \"Topic4\", \"Topic4\", \"Topic4\", \"Topic4\", \"Topic4\", \"Topic4\", \"Topic4\", \"Topic4\", \"Topic4\", \"Topic4\", \"Topic4\", \"Topic4\", \"Topic4\", \"Topic4\", \"Topic4\", \"Topic4\", \"Topic4\", \"Topic4\", \"Topic4\", \"Topic4\", \"Topic4\", \"Topic4\", \"Topic4\", \"Topic4\", \"Topic4\", \"Topic4\", \"Topic4\", \"Topic4\", \"Topic4\", \"Topic4\", \"Topic4\", \"Topic4\", \"Topic4\", \"Topic4\", \"Topic4\", \"Topic4\", \"Topic4\", \"Topic4\", \"Topic4\", \"Topic4\", \"Topic4\", \"Topic4\", \"Topic4\", \"Topic4\", \"Topic4\", \"Topic4\", \"Topic4\", \"Topic4\", \"Topic4\", \"Topic4\", \"Topic4\", \"Topic4\", \"Topic4\", \"Topic4\", \"Topic4\", \"Topic4\", \"Topic4\", \"Topic4\", \"Topic4\", \"Topic4\", \"Topic4\", \"Topic5\", \"Topic5\", \"Topic5\", \"Topic5\", \"Topic5\", \"Topic5\", \"Topic5\", \"Topic5\", \"Topic5\", \"Topic5\", \"Topic5\", \"Topic5\", \"Topic5\", \"Topic5\", \"Topic5\", \"Topic5\", \"Topic5\", \"Topic5\", \"Topic5\", \"Topic5\", \"Topic5\", \"Topic5\", \"Topic5\", \"Topic5\", \"Topic5\", \"Topic5\", \"Topic5\", \"Topic5\", \"Topic5\", \"Topic5\", \"Topic5\", \"Topic5\", \"Topic5\", \"Topic5\", \"Topic5\", \"Topic5\", \"Topic5\", \"Topic5\", \"Topic5\", \"Topic5\", \"Topic5\", \"Topic5\", \"Topic5\", \"Topic5\", \"Topic5\", \"Topic5\", \"Topic5\", \"Topic5\", \"Topic5\", \"Topic5\", \"Topic5\", \"Topic5\", \"Topic5\", \"Topic5\", \"Topic5\", \"Topic5\", \"Topic5\", \"Topic5\", \"Topic5\", \"Topic5\", \"Topic5\", \"Topic5\", \"Topic5\", \"Topic5\", \"Topic5\", \"Topic5\", \"Topic5\", \"Topic5\", \"Topic5\", \"Topic5\", \"Topic5\", \"Topic6\", \"Topic6\", \"Topic6\", \"Topic6\", \"Topic6\", \"Topic6\", \"Topic6\", \"Topic6\", \"Topic6\", \"Topic6\", \"Topic6\", \"Topic6\", \"Topic6\", \"Topic6\", \"Topic6\", \"Topic6\", \"Topic6\", \"Topic6\", \"Topic6\", \"Topic6\", \"Topic6\", \"Topic6\", \"Topic6\", \"Topic6\", \"Topic6\", \"Topic6\", \"Topic6\", \"Topic6\", \"Topic6\", \"Topic6\", \"Topic6\", \"Topic6\", \"Topic6\", \"Topic6\", \"Topic6\", \"Topic6\", \"Topic6\", \"Topic6\", \"Topic6\", \"Topic6\", \"Topic6\", \"Topic6\", \"Topic6\", \"Topic6\", \"Topic6\", \"Topic6\", \"Topic6\", \"Topic6\", \"Topic6\", \"Topic6\", \"Topic6\", \"Topic6\", \"Topic6\", \"Topic6\", \"Topic6\", \"Topic6\", \"Topic6\", \"Topic6\", \"Topic6\", \"Topic6\", \"Topic6\", \"Topic6\", \"Topic6\", \"Topic6\", \"Topic6\", \"Topic6\", \"Topic6\", \"Topic6\", \"Topic6\", \"Topic6\", \"Topic6\", \"Topic6\", \"Topic6\", \"Topic7\", \"Topic7\", \"Topic7\", \"Topic7\", \"Topic7\", \"Topic7\", \"Topic7\", \"Topic7\", \"Topic7\", \"Topic7\", \"Topic7\", \"Topic7\", \"Topic7\", \"Topic7\", \"Topic7\", \"Topic7\", \"Topic7\", \"Topic7\", \"Topic7\", \"Topic7\", \"Topic7\", \"Topic7\", \"Topic7\", \"Topic7\", \"Topic7\", \"Topic7\", \"Topic7\", \"Topic7\", \"Topic7\", \"Topic7\", \"Topic7\", \"Topic7\", \"Topic7\", \"Topic7\", \"Topic7\", \"Topic7\", \"Topic7\", \"Topic7\", \"Topic7\", \"Topic7\", \"Topic7\", \"Topic7\", \"Topic7\", \"Topic7\", \"Topic7\", \"Topic7\", \"Topic7\", \"Topic7\", \"Topic7\", \"Topic7\", \"Topic7\", \"Topic7\", \"Topic7\", \"Topic7\", \"Topic7\", \"Topic7\", \"Topic7\", \"Topic7\", \"Topic7\", \"Topic7\", \"Topic7\", \"Topic7\", \"Topic7\", \"Topic7\", \"Topic7\", \"Topic7\", \"Topic7\", \"Topic7\", \"Topic7\", \"Topic7\", \"Topic7\"], \"logprob\": [30.0, 29.0, 28.0, 27.0, 26.0, 25.0, 24.0, 23.0, 22.0, 21.0, 20.0, 19.0, 18.0, 17.0, 16.0, 15.0, 14.0, 13.0, 12.0, 11.0, 10.0, 9.0, 8.0, 7.0, 6.0, 5.0, 4.0, 3.0, 2.0, 1.0, -3.3839, -3.7965, -5.0661, -4.1569, -4.262, -4.6559, -4.033, -4.8002, -3.8827, -4.9764, -5.1565, -4.3823, -4.601, -5.3946, -5.026, -5.2128, -5.7215, -5.4572, -5.0644, -5.2509, -5.4696, -5.4664, -5.7586, -5.4802, -5.7622, -5.4964, -5.486, -5.102, -5.498, -5.282, -4.6226, -5.1146, -5.1017, -5.3, -5.33, -5.3517, -5.469, -6.1595, -6.1681, -6.1916, -5.6732, -6.2863, -6.1628, -6.2107, -6.1966, -6.2477, -6.1533, -6.2048, -6.1626, -6.1735, -5.6675, -6.1567, -6.2171, -6.2238, -6.2984, -6.2504, -6.2215, -6.293, -6.1878, -5.7857, -6.2535, -6.1986, -6.2713, -6.183, -6.1778, -5.7131, -6.2933, -5.7185, -5.8588, -5.2372, -5.3683, -5.468, -3.9994, -5.4533, -5.3209, -5.0215, -5.8048, -5.4794, -5.2572, -4.4025, -4.2764, -5.8381, -5.462, -4.9299, -5.7021, -4.2381, -5.1626, -3.9561, -4.6722, -4.8732, -4.8594, -5.2016, -4.9437, -4.6738, -5.3423, -5.5602, -5.6087, -5.288, -5.4013, -5.344, -5.3101, -5.4579, -5.5591, -5.5453, -5.54, -6.1962, -5.1431, -6.2591, -6.196, -6.1745, -6.2426, -6.157, -6.2405, -6.1877, -6.2501, -6.2074, -6.2166, -6.1938, -5.7338, -6.2376, -6.2159, -6.2658, -6.2355, -6.2061, -6.3796, -6.2659, -6.1884, -6.1765, -6.1881, -6.1664, -6.3593, -6.2547, -6.2556, -6.2357, -6.2242, -4.8133, -5.7696, -5.8368, -5.4679, -5.7428, -5.9055, -4.6321, -4.0504, -5.2443, -3.7478, -5.2419, -5.7654, -5.8089, -5.5778, -4.3479, -4.1792, -5.1417, -4.5154, -4.681, -4.8396, -4.6124, -5.3669, -5.4546, -5.2262, -5.4659, -5.6192, -5.579, -5.5223, -5.29, -5.5865, -5.3869, -5.12, -5.4378, -5.3741, -5.4001, -5.4615, -5.4357, -5.5703, -6.1614, -6.1941, -6.177, -6.1219, -6.1364, -6.2021, -6.1727, -5.7512, -6.1491, -6.1896, -6.2985, -6.2674, -6.2788, -6.2695, -6.1693, -5.7566, -5.7567, -6.2695, -6.1817, -6.1791, -6.262, -6.2036, -6.2496, -6.2642, -6.2089, -5.1586, -6.2273, -6.2283, -6.2552, -6.2756, -6.2268, -5.7616, -5.2511, -5.7903, -4.9494, -5.812, -4.5831, -5.7298, -5.4139, -5.0221, -5.7817, -4.1919, -3.8508, -5.5768, -5.4537, -4.4623, -4.249, -4.4397, -4.6092, -5.3162, -5.5653, -5.4935, -4.8204, -4.958, -5.3995, -5.5216, -5.5923, -5.3476, -5.3467, -5.1889, -5.4035, -5.363, -5.4007, -5.3198, -5.4806, -5.4947, -5.5248, -6.2068, -6.1395, -5.117, -6.1215, -6.2204, -6.1548, -6.1787, -6.2088, -6.2196, -6.2737, -6.2111, -6.2068, -6.2865, -6.1911, -5.7817, -6.2204, -6.1858, -6.1738, -6.1972, -6.1938, -6.1788, -6.1885, -6.1931, -6.2026, -6.1562, -6.2572, -6.2249, -6.137, -6.2575, -6.1244, -5.8024, -5.7572, -5.8162, -5.4935, -4.6438, -5.7875, -5.7787, -5.5457, -5.7618, -5.8728, -4.5616, -5.7403, -4.7726, -4.4899, -4.2478, -3.9954, -5.1903, -5.4387, -5.4351, -5.1373, -5.558, -4.4282, -5.825, -5.845, -5.0754, -5.2428, -4.6409, -5.0149, -4.8013, -5.3782, -5.5785, -5.2708, -5.4217, -5.3653, -5.4602, -5.4379, -5.461, -5.3898, -5.5698, -5.5067, -5.5625, -6.0098, -6.103, -6.1558, -6.1343, -6.1116, -6.062, -6.0753, -6.1399, -6.0736, -6.1567, -6.1007, -6.1489, -6.1477, -6.1815, -6.1055, -6.1975, -6.1514, -6.1576, -6.1714, -6.1572, -6.1369, -6.1202, -6.1211, -6.1921, -6.2055, -6.0611, -6.1329, -6.1703, -6.1981, -6.1587, -6.1574, -5.785, -6.111, -5.8805, -5.481, -5.5828, -5.215, -4.619, -5.0046, -5.305, -5.8927, -5.8865, -4.3711, -5.5522, -5.5892, -5.8567, -5.8169, -4.6937, -4.8967, -5.0127, -5.376, -5.615, -5.3792, -5.2243, -4.9185, -5.7167, -5.8405, -5.3014, -5.4499, -5.2009, -5.694, -5.5226, -5.7185, -5.418, -5.5989, -5.6698, -5.6717, -5.7005, -5.6486, -5.6625, -5.6255, -5.6399, -5.6465, -6.1286, -6.1142, -6.1425, -6.1189, -6.0803, -6.1208, -6.0781, -6.0805, -6.1499, -6.1542, -6.1138, -6.1246, -6.1526, -6.0982, -6.0733, -6.1099, -6.0969, -6.1412, -6.0595, -6.1223, -6.0784, -6.0865, -6.1366, -6.1401, -6.1041, -6.1182, -6.144, -6.1526, -6.1296, -6.1321, -6.0977, -6.094, -6.072, -6.0759, -6.1103, -5.5775, -4.8615, -4.8022, -5.4257, -5.8523, -5.7205, -5.223, -4.8892, -5.1014, -4.7296, -5.1616, -5.6766, -5.8102, -5.508, -5.9073, -5.7467, -5.728, -5.7625, -5.8863, -5.727, -5.6572, -5.2487, -5.6447, -5.7482, -5.6283, -5.7192, -5.4631, -5.6901, -5.8784, -5.5059, -5.576, -5.6598, -5.7186, -5.6575, -5.7282, -5.7499], \"loglift\": [30.0, 29.0, 28.0, 27.0, 26.0, 25.0, 24.0, 23.0, 22.0, 21.0, 20.0, 19.0, 18.0, 17.0, 16.0, 15.0, 14.0, 13.0, 12.0, 11.0, 10.0, 9.0, 8.0, 7.0, 6.0, 5.0, 4.0, 3.0, 2.0, 1.0, 0.0006, 0.0005, 0.0005, 0.0005, 0.0005, 0.0005, 0.0005, 0.0004, 0.0004, 0.0004, 0.0004, 0.0004, 0.0004, 0.0004, 0.0003, 0.0003, 0.0003, 0.0003, 0.0003, 0.0003, 0.0003, 0.0003, 0.0003, 0.0003, 0.0003, 0.0003, 0.0002, 0.0002, 0.0002, 0.0002, 0.0002, 0.0002, 0.0, 0.0002, 0.0002, 0.0001, -0.0, 0.5523, 0.5074, 0.4457, 0.4297, 0.4094, 0.4, 0.3967, 0.3924, 0.391, 0.3899, 0.3757, 0.3689, 0.3659, 0.3645, 0.3578, 0.3565, 0.3465, 0.3444, 0.3443, 0.3346, 0.333, 0.3329, 0.3291, 0.328, 0.3265, 0.3217, 0.3212, 0.3208, 0.3158, 0.3126, 0.2996, 0.3031, 0.2385, 0.2389, 0.2335, -0.1162, 0.1793, 0.148, 0.0802, 0.243, 0.1601, 0.0947, -0.14, -0.2429, 0.2454, 0.0907, -0.1293, 0.1772, -0.441, -0.0478, -0.5716, -0.2895, -0.2169, -0.2579, -0.0994, -0.321, -0.5164, -0.0911, 0.0712, 0.0975, -0.2616, -0.1881, -0.2794, -0.3333, -0.1577, 0.0208, -0.0754, -0.2099, 0.4425, 0.4368, 0.4366, 0.4365, 0.4314, 0.4295, 0.4292, 0.4023, 0.3937, 0.3872, 0.3768, 0.3763, 0.3543, 0.3498, 0.3428, 0.3419, 0.3416, 0.3382, 0.3337, 0.3321, 0.3288, 0.3279, 0.326, 0.3221, 0.3167, 0.3162, 0.3151, 0.3146, 0.312, 0.3082, 0.2884, 0.2934, 0.2779, 0.1977, 0.237, 0.2564, -0.0093, -0.1673, 0.0858, -0.3633, 0.0403, 0.1951, 0.2088, 0.1284, -0.3144, -0.3822, -0.077, -0.3579, -0.2983, -0.2382, -0.3499, -0.015, 0.0211, -0.1113, 0.003, 0.0823, 0.0525, -0.0079, -0.1878, 0.0189, -0.1737, -0.4637, -0.1376, -0.3973, -0.3738, -0.3046, -0.6351, -0.5037, 0.5343, 0.5177, 0.495, 0.4749, 0.4363, 0.4352, 0.4283, 0.4107, 0.3991, 0.3801, 0.377, 0.3713, 0.3639, 0.3629, 0.3618, 0.3582, 0.3581, 0.3566, 0.3544, 0.3444, 0.3242, 0.321, 0.3206, 0.32, 0.3123, 0.3103, 0.3089, 0.3073, 0.2963, 0.2962, 0.2958, 0.2645, 0.2246, 0.2574, 0.1523, 0.2498, 0.0397, 0.2272, 0.1659, 0.0802, 0.2167, -0.3087, -0.4663, 0.1294, 0.0803, -0.3049, -0.452, -0.4062, -0.3467, -0.016, 0.0673, 0.0208, -0.4377, -0.3565, -0.0694, 0.0209, -0.0139, -0.2829, -0.3204, -0.5325, -0.2886, -0.3862, -0.3341, -0.5192, -0.1983, -0.2435, -0.1729, 0.505, 0.4866, 0.4628, 0.462, 0.4516, 0.4399, 0.4272, 0.4236, 0.4232, 0.422, 0.3963, 0.3942, 0.389, 0.3807, 0.3802, 0.3726, 0.3656, 0.3586, 0.3514, 0.3443, 0.3306, 0.3296, 0.3276, 0.3261, 0.3251, 0.3242, 0.3238, 0.3232, 0.323, 0.3203, 0.3123, 0.3045, 0.2867, 0.1721, -0.021, 0.231, 0.2279, 0.1558, 0.2155, 0.242, -0.1788, 0.1898, -0.1711, -0.3325, -0.4508, -0.6108, -0.0754, 0.037, 0.0339, -0.1109, 0.0815, -0.5451, 0.207, 0.218, -0.2747, -0.1781, -0.6075, -0.3586, -0.5388, -0.127, 0.0269, -0.294, -0.1394, -0.2084, -0.1083, -0.1377, -0.1309, -0.2881, -0.0999, -0.2935, -0.4603, 0.6657, 0.5927, 0.5559, 0.5377, 0.5271, 0.5154, 0.5082, 0.5029, 0.4961, 0.4806, 0.4711, 0.4585, 0.4491, 0.4445, 0.4428, 0.435, 0.4328, 0.4314, 0.4296, 0.4155, 0.4112, 0.402, 0.4015, 0.4008, 0.4004, 0.3942, 0.3881, 0.3858, 0.3824, 0.3807, 0.3782, 0.2985, 0.3684, 0.2814, 0.0988, 0.1234, -0.1133, -0.5856, -0.3819, -0.1901, 0.2221, 0.2164, -0.9866, -0.0833, -0.0552, 0.1754, 0.1401, -0.8966, -0.7393, -0.6299, -0.3114, -0.1007, -0.4024, -0.6229, -1.0354, -0.0151, 0.1449, -0.6451, -0.4235, -0.9384, -0.1156, -0.4203, -0.079, -0.6174, -0.3166, -0.1836, -0.196, -0.1367, -0.2967, -0.2676, -0.4123, -0.3887, -0.4896, 0.5831, 0.5613, 0.5532, 0.5531, 0.5457, 0.5219, 0.5109, 0.4892, 0.4873, 0.4844, 0.4831, 0.4813, 0.4799, 0.4792, 0.4782, 0.4743, 0.4734, 0.4662, 0.4645, 0.4639, 0.4438, 0.4389, 0.4351, 0.4336, 0.4315, 0.4303, 0.4287, 0.4279, 0.4266, 0.4257, 0.4207, 0.4189, 0.4046, 0.4038, 0.4122, -0.1017, -0.8281, -0.9191, -0.324, 0.1474, -0.0143, -0.6002, -1.0921, -0.8389, -1.3451, -0.7789, -0.1341, 0.0436, -0.4057, 0.1557, -0.1141, -0.1496, -0.0969, 0.1062, -0.193, -0.3271, -1.0913, -0.3625, -0.1684, -0.4152, -0.233, -0.8068, -0.3382, 0.063, -0.9045, -0.7754, -0.5932, -0.4184, -0.6311, -0.477, -0.6853]}, \"token.table\": {\"Topic\": [1, 1, 1, 1, 1, 1, 1, 1, 1, 1, 1, 1, 1, 1, 1, 1, 1, 1, 1, 1, 1, 1, 1, 1, 1, 1, 1, 1, 1, 1, 1, 1, 1, 1, 1, 1, 1, 1, 1, 1, 1, 1, 1, 1, 1, 1, 1, 1, 1, 1, 1, 1, 1, 1, 1, 1, 1, 1, 1, 1, 1, 1, 1, 1, 1, 1, 1, 1, 1, 1, 1, 1, 1, 1, 1, 1, 1, 1, 1, 1, 1, 1, 1, 1, 1, 1, 1, 1, 1, 1, 1, 1, 1, 1, 1, 1, 1, 1, 1, 1, 1, 1, 1, 1, 1, 1, 1, 1, 1, 1, 1, 1, 1, 1, 1, 1, 1, 1, 1, 1, 1, 1, 1, 1, 1, 1, 1, 1, 1, 1, 1, 1, 1, 1, 1, 1, 1, 1, 1, 1, 1, 1, 1, 1, 1, 1, 1, 1, 1, 1, 1, 1, 1, 1, 1, 1], \"Freq\": [1.056703448456897, 1.2069255424814074, 0.9564221217215493, 0.8894760882264218, 1.0458998976373814, 1.0046089639819582, 1.0269780535896096, 0.9540133014211551, 1.1167366277187962, 0.9680134052956004, 0.8890764889399404, 0.9150985069700053, 1.00061443141305, 0.9898020199952671, 1.0855362367858479, 1.1077821646920702, 0.9970022151976299, 0.9352773894699216, 0.9881372695734861, 0.9494575424973922, 1.0245867641970543, 1.0004601393298624, 1.1406975603571008, 1.0162798476421642, 0.8912200753813837, 1.0867513171022032, 1.02915650727548, 1.0596819110515472, 0.9754370533103159, 1.027537249402488, 0.9685934322930764, 0.9185327327130184, 0.8977193783945078, 0.9381100574214116, 1.1886479058551, 0.968582947665206, 1.0665150649410646, 1.113414924908405, 0.9430263789452499, 0.9230367555346971, 1.116691070689432, 1.0757638355913124, 1.0062809712055523, 1.0307649917155708, 0.6661926225425188, 1.1534232767716277, 1.1247701810334851, 0.8933974416398304, 1.1853539817888776, 1.1664850508238955, 0.8407831376731962, 1.0666527370821537, 1.0989932754804157, 0.9554049591298232, 0.9477833097512155, 1.0021783384788527, 1.0385670155619968, 1.0055671148630225, 0.9972273920952671, 0.9790661760674417, 0.9703910447804339, 1.1150688336675876, 1.1056881633114675, 1.2319691337612797, 0.9125512642945549, 0.9512423816805363, 0.9574235594400535, 0.9537205229017558, 0.9437115598661279, 1.0251781943937677, 0.8936599541086621, 0.8903940641288766, 1.0700560533580978, 0.8699420213325068, 1.0291428246342769, 1.109570269129109, 0.8839220891382951, 1.1257108514677692, 0.964105854880469, 1.1539050062918466, 0.9798407127516071, 0.9462748098165237, 0.8580317999405661, 1.0016542535295059, 0.9579734804855282, 1.0347401462498866, 1.0233826226678802, 1.0731487614904898, 1.0169177287165732, 0.9551788665764176, 1.0334545989537658, 1.0893229695460658, 0.915365766363413, 1.0775549608449897, 0.9994662814607828, 1.1314835479417606, 1.1544981590992538, 1.1476920699586528, 0.9614387107396265, 0.955537920941756, 1.0044095027993318, 0.9328686993265098, 0.9881081814720846, 1.0124513747576969, 0.9281944721045745, 1.021168740546515, 0.9365072531311767, 1.0716280391556747, 1.2710605097624634, 0.9581793966503953, 1.175831602214259, 1.1456706532489371, 1.0183250600755267, 0.9649622056640612, 1.003681340543252, 0.9720984298363023, 0.8111473083799909, 0.9947785597398977, 0.980230418901371, 1.1105825974275592, 1.013414751574601, 0.9542105909902355, 1.1771528159366254, 0.9568635041445136, 1.0318836646300147, 1.0119411705815966, 0.9716743851567593, 1.15444742404128, 1.040104852545336, 0.9873124477773505, 0.9637130622639374, 1.015558927570903, 1.1631973740294956, 0.9806461767402238, 0.8447411999307433, 0.9945184546597922, 1.018264460203523, 1.1361335691543486, 1.0110905124184526, 1.0093450042384982, 0.9754256320568241, 1.205417695161709, 0.9169203670385213, 1.271011927717424, 1.0015752071157575, 1.132895919944525, 0.9807848105007158, 0.9794666973336199, 0.9835241771462316, 0.980394162634795, 1.170162052989742, 0.9235380178243209, 0.9515761897996, 1.0687468382659007, 1.0718524788386408, 1.256103347947628], \"Term\": [\"accessibility\", \"advancements\", \"advocacy\", \"also\", \"alternatives\", \"analytics\", \"associated\", \"authorities\", \"awareness\", \"batteries\", \"benefits\", \"bolstered\", \"buses\", \"businesses\", \"bustling\", \"capabilities\", \"car\", \"challenges\", \"change\", \"choices\", \"cities\", \"cleaner\", \"collaboration\", \"collective\", \"communities\", \"community\", \"communitycentric\", \"comprehensive\", \"contingent\", \"continued\", \"contributing\", \"contribution\", \"cornerstone\", \"costeffective\", \"costs\", \"daily\", \"data\", \"densely\", \"designed\", \"development\", \"ecofriendly\", \"effective\", \"efficiency\", \"electric\", \"embracing\", \"enable\", \"encouraging\", \"energy\", \"engagement\", \"enhance\", \"environment\", \"environmental\", \"environmentally\", \"era\", \"ever\", \"existence\", \"fabric\", \"focus\", \"fostering\", \"friendly\", \"fundamental\", \"furthermore\", \"future\", \"global\", \"govern\", \"highlighting\", \"however\", \"impact\", \"impacts\", \"imperative\", \"implementation\", \"inclusive\", \"infrastructure\", \"initiatives\", \"innovation\", \"input\", \"insights\", \"integration\", \"key\", \"landscape\", \"lead\", \"life\", \"make\", \"means\", \"methods\", \"micromobility\", \"mobility\", \"modes\", \"moreover\", \"motion\", \"navigating\", \"need\", \"noise\", \"opportunity\", \"options\", \"parking\", \"partnerships\", \"pave\", \"personal\", \"placed\", \"planning\", \"platform\", \"players\", \"popularity\", \"positive\", \"preferences\", \"presence\", \"prioritizing\", \"programs\", \"proliferation\", \"promoting\", \"provide\", \"public\", \"quieter\", \"quotient\", \"redefining\", \"reducing\", \"replaced\", \"requires\", \"resilient\", \"ride\", \"rising\", \"role\", \"run\", \"services\", \"sharing\", \"shift\", \"significant\", \"smart\", \"solutions\", \"spaces\", \"strategic\", \"strategies\", \"success\", \"sustainability\", \"sustainable\", \"swell\", \"tailpipe\", \"technology\", \"term\", \"towards\", \"traditional\", \"traffic\", \"transition\", \"transportation\", \"travel\", \"traversing\", \"urban\", \"urbanization\", \"user\", \"various\", \"vehicles\", \"vibrant\", \"vital\", \"way\", \"widespread\"]}, \"R\": 30, \"lambda.step\": 0.01, \"plot.opts\": {\"xlab\": \"PC1\", \"ylab\": \"PC2\"}, \"topic.order\": [5, 2, 6, 3, 1, 4, 7]};\n",
              "\n",
              "function LDAvis_load_lib(url, callback){\n",
              "  var s = document.createElement('script');\n",
              "  s.src = url;\n",
              "  s.async = true;\n",
              "  s.onreadystatechange = s.onload = callback;\n",
              "  s.onerror = function(){console.warn(\"failed to load library \" + url);};\n",
              "  document.getElementsByTagName(\"head\")[0].appendChild(s);\n",
              "}\n",
              "\n",
              "if(typeof(LDAvis) !== \"undefined\"){\n",
              "   // already loaded: just create the visualization\n",
              "   !function(LDAvis){\n",
              "       new LDAvis(\"#\" + \"ldavis_el4151355389514869601910294657\", ldavis_el4151355389514869601910294657_data);\n",
              "   }(LDAvis);\n",
              "}else if(typeof define === \"function\" && define.amd){\n",
              "   // require.js is available: use it to load d3/LDAvis\n",
              "   require.config({paths: {d3: \"https://d3js.org/d3.v5\"}});\n",
              "   require([\"d3\"], function(d3){\n",
              "      window.d3 = d3;\n",
              "      LDAvis_load_lib(\"https://cdn.jsdelivr.net/gh/bmabey/pyLDAvis@3.4.0/pyLDAvis/js/ldavis.v3.0.0.js\", function(){\n",
              "        new LDAvis(\"#\" + \"ldavis_el4151355389514869601910294657\", ldavis_el4151355389514869601910294657_data);\n",
              "      });\n",
              "    });\n",
              "}else{\n",
              "    // require.js not available: dynamically load d3 & LDAvis\n",
              "    LDAvis_load_lib(\"https://d3js.org/d3.v5.js\", function(){\n",
              "         LDAvis_load_lib(\"https://cdn.jsdelivr.net/gh/bmabey/pyLDAvis@3.4.0/pyLDAvis/js/ldavis.v3.0.0.js\", function(){\n",
              "                 new LDAvis(\"#\" + \"ldavis_el4151355389514869601910294657\", ldavis_el4151355389514869601910294657_data);\n",
              "            })\n",
              "         });\n",
              "}\n",
              "</script>"
            ]
          },
          "metadata": {},
          "execution_count": 5
        }
      ],
      "source": [
        "import gensim\n",
        "from gensim import corpora\n",
        "from gensim.models import CoherenceModel\n",
        "import nltk\n",
        "from nltk.corpus import stopwords\n",
        "from nltk.tokenize import word_tokenize\n",
        "\n",
        "import pyLDAvis\n",
        "import pyLDAvis.gensim\n",
        "pyLDAvis.enable_notebook()\n",
        "\n",
        "\n",
        "import re\n",
        "import numpy as np\n",
        "import string\n",
        "\n",
        "nltk.download('punkt')\n",
        "nltk.download('stopwords')\n",
        "\n",
        "# Sample article text\n",
        "article_text = \"\"\"\n",
        "In recent years, the global conversation surrounding sustainability has intensified, with a growing emphasis on reducing our carbon footprint. The transportation sector, known for its significant contribution to pollution, has seen a surge in the adoption of sustainable mobility solutions. Among these, electric buses, car sharing, and micro-mobility have emerged as key players in reshaping the way we navigate urban landscapes.\n",
        "\n",
        "Electric Buses: The Backbone of Eco-Friendly Public Transportation\n",
        "\n",
        "In bustling cities, the hum of traditional buses has been gradually replaced by the whisper of electric buses. These vehicles represent a fundamental shift in public transportation, offering an environmentally friendly alternative to their gas-guzzling counterparts. Electric buses run on rechargeable batteries, emitting zero tailpipe emissions, and reducing noise pollution, making them a promising solution for tackling air quality issues in densely populated areas.\n",
        "\n",
        "The integration of electric buses into public transportation networks has yielded remarkable results. Not only do they contribute to cleaner air, but they also provide a smoother and quieter ride for passengers. Moreover, with advancements in battery technology, the range and efficiency of electric buses have improved significantly, addressing concerns regarding their operational capabilities and potential limitations.\n",
        "\n",
        "Car sharing: Driving Towards a Sustainable Future\n",
        "\n",
        "As urban populations continue to swell, the demand for convenient and cost-effective transportation options has led to the rise of car sharing services. Car sharing programs enable individuals to access vehicles on an as-needed basis, eliminating the need for personal car ownership. By encouraging resource-sharing and reducing the number of cars on the road, these initiatives play a vital role in promoting sustainable mobility.\n",
        "\n",
        "The benefits of car sharing extend beyond environmental conservation. They include reduced traffic congestion, minimized parking space requirements, and lower overall transportation costs for users. Furthermore, the incorporation of electric or hybrid vehicles within car sharing fleets has further bolstered the sustainability quotient, offering users an eco-friendly alternative for their transportation needs.\n",
        "\n",
        "Micro-Mobility: Redefining Short-Distance Travel\n",
        "\n",
        "In bustling city centers, the streets have witnessed the emergence of a new mode of transportation – micro-mobility. This term encompasses various compact and lightweight modes of transport such as electric scooters, bicycles, and even electric skateboards. Designed for short-distance travel, these alternatives provide a convenient and eco-conscious solution for navigating congested urban areas.\n",
        "\n",
        "The rising popularity of micro-mobility options can be attributed to their accessibility, flexibility, and user-friendly nature. These alternatives provide an effective means of traversing short distances, lessening the dependence on traditional transportation methods for daily commutes. Moreover, their eco-friendly nature resonates with the increasing focus on curbing carbon emissions and fostering sustainable development in urban areas.\n",
        "\n",
        "The Role of Infrastructure and Policy in Promoting Sustainable Mobility\n",
        "\n",
        "The effectiveness of sustainable mobility solutions heavily relies on the existence of supportive infrastructure and conducive policies. While the proliferation of these solutions is a positive step, their success is contingent on the presence of appropriate infrastructure and well-designed policies. Developing charging infrastructure for electric buses and vehicles, along with the implementation of dedicated lanes and parking spaces, is vital in promoting the widespread adoption of eco-friendly transportation options.\n",
        "\n",
        "Furthermore, policy initiatives aimed at incentivizing the use of sustainable mobility solutions, such as tax benefits for electric vehicle users and the integration of car sharing services into urban planning strategies, can significantly influence consumer behavior and encourage the transition towards more sustainable transportation practices.\n",
        "\n",
        "Challenges and Opportunities on the Horizon\n",
        "\n",
        "Despite the evident benefits of sustainable mobility solutions, several challenges persist in their widespread implementation. These challenges include the initial costs associated with infrastructure development, the need for continued technological advancements to enhance the efficiency of electric vehicles, and the requirement for comprehensive regulatory frameworks to govern the operations of car sharing and micro-mobility services.\n",
        "\n",
        "However, these challenges also present an opportunity for innovation and collaboration within the public and private sectors. Investments in research and development, coupled with strategic partnerships between governments, businesses, and communities, can pave the way for the seamless integration of sustainable mobility solutions into the fabric of urban life.\n",
        "\n",
        "A Sustainable Future in Motion\n",
        "\n",
        "In an era where the impacts of climate change and environmental decline loom large, the importance of sustainable mobility solutions becomes ever more evident. Embracing the capabilities of electric buses, car sharing, and micro-mobility can enable cities to cultivate a transportation ecosystem that is not only cleaner and more efficient but also more inclusive, benefiting both the environment and the people who inhabit it.\n",
        "\n",
        "The journey towards sustainable mobility requires a collective effort, with stakeholders across various sectors playing a pivotal role in driving positive change. Through continued innovation, investment, and advocacy, we can pave the way for a future where mobility is not only efficient and accessible but also sustainable and environmentally conscious. Together, we can steer our cities toward a more sustainable and vibrant tomorrow.\n",
        "\n",
        "Empowering Communities through Education and Engagement\n",
        "\n",
        "Fostering community empowerment through education and engagement forms the cornerstone of successful sustainable mobility solutions. Educational programs and awareness campaigns are instrumental in cultivating a culture of sustainability, encouraging individuals to make informed choices about their transportation habits. By highlighting the benefits of environmentally friendly alternatives and showcasing their positive impact on the environment, communities can be inspired to actively participate in the transition towards sustainable mobility.\n",
        "\n",
        "Moreover, community engagement initiatives can serve as a platform for gathering valuable feedback and insights from residents, enabling policymakers and transportation authorities to tailor their strategies and solutions according to the specific needs and preferences of the local populace. By incorporating community input into the planning and development of sustainable mobility projects, cities can ensure that their efforts are not only effective but also inclusive and community-centric.\n",
        "\n",
        "Looking Ahead: The Evolution of Sustainable Mobility\n",
        "\n",
        "As technology continues to advance and societal awareness of environmental issues grows, the landscape of sustainable mobility is poised for further evolution. Continued research and development in the fields of electric vehicle technology, battery efficiency, and renewable energy sources are expected to drive significant improvements in the performance and accessibility of sustainable transportation options.\n",
        "\n",
        "Furthermore, the integration of smart technologies and data-driven solutions holds the potential to optimize the efficiency of public transportation networks, enhance the user experience of car sharing services, and streamline the operations of micro-mobility initiatives. By leveraging the power of data and analytics, cities can make data-driven decisions that lead to more effective and sustainable mobility solutions, ultimately contributing to a cleaner and more resilient urban environment.\n",
        "\n",
        "In the face of global challenges such as climate change and urbanization, the pursuit of sustainable mobility solutions remains imperative for building a more sustainable and resilient future. By embracing innovation, fostering collaboration, and prioritizing the needs of communities, cities can pave the way for a more sustainable and equitable transportation landscape, where the well-being of both the planet and its inhabitants is placed at the forefront of urban development.\"\"\"\n",
        "\n",
        "lda_model= None\n",
        "# Preprocess the text\n",
        "def preprocess_text(text):\n",
        "    # Remove punctuation and convert to lowercase\n",
        "    text = text.translate(str.maketrans('', '', string.punctuation)).lower()\n",
        "    tokens = word_tokenize(text)\n",
        "    stop_words = set(stopwords.words('english'))\n",
        "    tokens = [word for word in tokens if word not in stop_words]\n",
        "    return tokens\n",
        "\n",
        "# Tokenize and preprocess the text\n",
        "tokens = preprocess_text(article_text)\n",
        "dictionary = corpora.Dictionary([tokens])\n",
        "corpus = [dictionary.doc2bow(tokens)]\n",
        "\n",
        "# Calculate coherence scores for different numbers of topics\n",
        "def calculate_coherence_scores(corpus, dictionary, texts, limit, start=2, step=1):\n",
        "    coherence_scores = []\n",
        "    for num_topics in range(start, limit, step):\n",
        "        model = gensim.models.LdaModel(corpus=corpus, id2word=dictionary, num_topics=num_topics)\n",
        "        coherencemodel = CoherenceModel(model=model, texts=texts, dictionary=dictionary, coherence='c_v')\n",
        "        coherence_score = coherencemodel.get_coherence()\n",
        "        coherence_scores.append((num_topics, coherence_score))\n",
        "        print(f'Coherence Score for {num_topics} topics: {coherence_score:.4f}')\n",
        "    return coherence_scores\n",
        "\n",
        "# Main function\n",
        "def main():\n",
        "    limit = 10\n",
        "    global lda_model\n",
        "    coherence_scores = calculate_coherence_scores(corpus, dictionary, [tokens], limit=limit, start=2, step=1)\n",
        "    optimal_num_topics, _ = max(coherence_scores, key=lambda x: x[1])\n",
        "    lda_model = gensim.models.LdaModel(corpus=corpus, id2word=dictionary, num_topics=optimal_num_topics)\n",
        "    topics = lda_model.show_topics(formatted=False)\n",
        "\n",
        "    print(f'Optimal number of topics: {optimal_num_topics}')\n",
        "\n",
        "    for topic_id, topic in topics:\n",
        "        words = [word for word, weight in topic]\n",
        "        top_words = \", \".join([f\"{word} ({weight:.4f})\" for word, weight in topic])\n",
        "        print(f'Topic {topic_id + 1}: {top_words}')\n",
        "\n",
        "if __name__ == \"__main__\":\n",
        "    main()\n",
        "\n",
        "\n",
        "vis_data = pyLDAvis.gensim.prepare(lda_model, corpus, dictionary)\n",
        "pyLDAvis.display(vis_data)"
      ]
    },
    {
      "cell_type": "markdown",
      "metadata": {
        "id": "qgJjlPk9PqVL"
      },
      "source": [
        "## (2) (10 points) Generate K topics by using LSA, the number of topics K should be decided by the coherence score, then summarize what are the topics. You may refer the code here:\n",
        "\n",
        "https://www.datacamp.com/community/tutorials/discovering-hidden-topics-python"
      ]
    },
    {
      "cell_type": "code",
      "execution_count": 21,
      "metadata": {
        "id": "61TDm1ngiDei",
        "outputId": "1e6a20cc-336f-47df-c392-bf11ff272590",
        "colab": {
          "base_uri": "https://localhost:8080/",
          "height": 1000
        }
      },
      "outputs": [
        {
          "output_type": "stream",
          "name": "stderr",
          "text": [
            "/usr/local/lib/python3.10/dist-packages/ipykernel/ipkernel.py:283: DeprecationWarning: `should_run_async` will not call `transform_cell` automatically in the future. Please pass the result to `transformed_cell` argument and any exception that happen during thetransform in `preprocessing_exc_tuple` in IPython 7.17 and above.\n",
            "  and should_run_async(code)\n",
            "[nltk_data] Downloading package punkt to /root/nltk_data...\n",
            "[nltk_data]   Package punkt is already up-to-date!\n",
            "[nltk_data] Downloading package stopwords to /root/nltk_data...\n",
            "[nltk_data]   Package stopwords is already up-to-date!\n",
            "WARNING:gensim.models.ldamodel:too few updates, training might not converge; consider increasing the number of passes or iterations to improve accuracy\n",
            "WARNING:gensim.models.ldamodel:too few updates, training might not converge; consider increasing the number of passes or iterations to improve accuracy\n",
            "WARNING:gensim.models.ldamodel:too few updates, training might not converge; consider increasing the number of passes or iterations to improve accuracy\n"
          ]
        },
        {
          "output_type": "stream",
          "name": "stdout",
          "text": [
            "Coherence Score for 2 topics: 0.3115\n",
            "Coherence Score for 3 topics: 0.3229\n"
          ]
        },
        {
          "output_type": "stream",
          "name": "stderr",
          "text": [
            "WARNING:gensim.models.ldamodel:too few updates, training might not converge; consider increasing the number of passes or iterations to improve accuracy\n",
            "WARNING:gensim.models.ldamodel:too few updates, training might not converge; consider increasing the number of passes or iterations to improve accuracy\n",
            "WARNING:gensim.models.ldamodel:too few updates, training might not converge; consider increasing the number of passes or iterations to improve accuracy\n"
          ]
        },
        {
          "output_type": "stream",
          "name": "stdout",
          "text": [
            "Coherence Score for 4 topics: 0.3407\n",
            "Coherence Score for 5 topics: 0.3292\n",
            "Coherence Score for 6 topics: 0.3432\n"
          ]
        },
        {
          "output_type": "stream",
          "name": "stderr",
          "text": [
            "WARNING:gensim.models.ldamodel:too few updates, training might not converge; consider increasing the number of passes or iterations to improve accuracy\n",
            "WARNING:gensim.models.ldamodel:too few updates, training might not converge; consider increasing the number of passes or iterations to improve accuracy\n"
          ]
        },
        {
          "output_type": "stream",
          "name": "stdout",
          "text": [
            "Coherence Score for 7 topics: 0.3371\n",
            "Coherence Score for 8 topics: 0.3353\n",
            "Coherence Score for 9 topics: 0.3557\n",
            "\n",
            "Coherence Score (LSA):  0.3318181331509592\n"
          ]
        },
        {
          "output_type": "stream",
          "name": "stderr",
          "text": [
            "/usr/local/lib/python3.10/dist-packages/gensim/models/lsimodel.py:963: DeprecationWarning: Please use `csc_matvecs` from the `scipy.sparse` namespace, the `scipy.sparse.sparsetools` namespace is deprecated.\n",
            "  sparsetools.csc_matvecs(\n",
            "/usr/local/lib/python3.10/dist-packages/scipy/linalg/_special_matrices.py:154: DeprecationWarning: 'tri'/'tril/'triu' are deprecated as of SciPy 1.11.0 and will be removed in v1.13.0. Please use numpy.(tri/tril/triu) instead.\n",
            "  out = (1 - tri(m.shape[0], m.shape[1], k - 1, m.dtype.char)) * m\n",
            "/usr/local/lib/python3.10/dist-packages/scipy/linalg/_special_matrices.py:154: DeprecationWarning: 'tri'/'tril/'triu' are deprecated as of SciPy 1.11.0 and will be removed in v1.13.0. Please use numpy.(tri/tril/triu) instead.\n",
            "  out = (1 - tri(m.shape[0], m.shape[1], k - 1, m.dtype.char)) * m\n",
            "/usr/local/lib/python3.10/dist-packages/scipy/linalg/_special_matrices.py:154: DeprecationWarning: 'tri'/'tril/'triu' are deprecated as of SciPy 1.11.0 and will be removed in v1.13.0. Please use numpy.(tri/tril/triu) instead.\n",
            "  out = (1 - tri(m.shape[0], m.shape[1], k - 1, m.dtype.char)) * m\n",
            "/usr/local/lib/python3.10/dist-packages/gensim/models/lsimodel.py:963: DeprecationWarning: Please use `csc_matvecs` from the `scipy.sparse` namespace, the `scipy.sparse.sparsetools` namespace is deprecated.\n",
            "  sparsetools.csc_matvecs(\n",
            "/usr/local/lib/python3.10/dist-packages/scipy/linalg/_special_matrices.py:154: DeprecationWarning: 'tri'/'tril/'triu' are deprecated as of SciPy 1.11.0 and will be removed in v1.13.0. Please use numpy.(tri/tril/triu) instead.\n",
            "  out = (1 - tri(m.shape[0], m.shape[1], k - 1, m.dtype.char)) * m\n",
            "/usr/local/lib/python3.10/dist-packages/scipy/linalg/_special_matrices.py:154: DeprecationWarning: 'tri'/'tril/'triu' are deprecated as of SciPy 1.11.0 and will be removed in v1.13.0. Please use numpy.(tri/tril/triu) instead.\n",
            "  out = (1 - tri(m.shape[0], m.shape[1], k - 1, m.dtype.char)) * m\n",
            "/usr/local/lib/python3.10/dist-packages/scipy/linalg/_special_matrices.py:154: DeprecationWarning: 'tri'/'tril/'triu' are deprecated as of SciPy 1.11.0 and will be removed in v1.13.0. Please use numpy.(tri/tril/triu) instead.\n",
            "  out = (1 - tri(m.shape[0], m.shape[1], k - 1, m.dtype.char)) * m\n"
          ]
        },
        {
          "output_type": "stream",
          "name": "stdout",
          "text": [
            "\n",
            "Coherence Score (LSA):  0.30470007259654264\n",
            "\n",
            "Coherence Score (LSA):  0.30470007259654264\n"
          ]
        },
        {
          "output_type": "stream",
          "name": "stderr",
          "text": [
            "/usr/local/lib/python3.10/dist-packages/gensim/models/lsimodel.py:963: DeprecationWarning: Please use `csc_matvecs` from the `scipy.sparse` namespace, the `scipy.sparse.sparsetools` namespace is deprecated.\n",
            "  sparsetools.csc_matvecs(\n",
            "/usr/local/lib/python3.10/dist-packages/scipy/linalg/_special_matrices.py:154: DeprecationWarning: 'tri'/'tril/'triu' are deprecated as of SciPy 1.11.0 and will be removed in v1.13.0. Please use numpy.(tri/tril/triu) instead.\n",
            "  out = (1 - tri(m.shape[0], m.shape[1], k - 1, m.dtype.char)) * m\n",
            "/usr/local/lib/python3.10/dist-packages/scipy/linalg/_special_matrices.py:154: DeprecationWarning: 'tri'/'tril/'triu' are deprecated as of SciPy 1.11.0 and will be removed in v1.13.0. Please use numpy.(tri/tril/triu) instead.\n",
            "  out = (1 - tri(m.shape[0], m.shape[1], k - 1, m.dtype.char)) * m\n",
            "/usr/local/lib/python3.10/dist-packages/scipy/linalg/_special_matrices.py:154: DeprecationWarning: 'tri'/'tril/'triu' are deprecated as of SciPy 1.11.0 and will be removed in v1.13.0. Please use numpy.(tri/tril/triu) instead.\n",
            "  out = (1 - tri(m.shape[0], m.shape[1], k - 1, m.dtype.char)) * m\n",
            "/usr/local/lib/python3.10/dist-packages/gensim/models/lsimodel.py:963: DeprecationWarning: Please use `csc_matvecs` from the `scipy.sparse` namespace, the `scipy.sparse.sparsetools` namespace is deprecated.\n",
            "  sparsetools.csc_matvecs(\n",
            "/usr/local/lib/python3.10/dist-packages/scipy/linalg/_special_matrices.py:154: DeprecationWarning: 'tri'/'tril/'triu' are deprecated as of SciPy 1.11.0 and will be removed in v1.13.0. Please use numpy.(tri/tril/triu) instead.\n",
            "  out = (1 - tri(m.shape[0], m.shape[1], k - 1, m.dtype.char)) * m\n",
            "/usr/local/lib/python3.10/dist-packages/scipy/linalg/_special_matrices.py:154: DeprecationWarning: 'tri'/'tril/'triu' are deprecated as of SciPy 1.11.0 and will be removed in v1.13.0. Please use numpy.(tri/tril/triu) instead.\n",
            "  out = (1 - tri(m.shape[0], m.shape[1], k - 1, m.dtype.char)) * m\n",
            "/usr/local/lib/python3.10/dist-packages/scipy/linalg/_special_matrices.py:154: DeprecationWarning: 'tri'/'tril/'triu' are deprecated as of SciPy 1.11.0 and will be removed in v1.13.0. Please use numpy.(tri/tril/triu) instead.\n",
            "  out = (1 - tri(m.shape[0], m.shape[1], k - 1, m.dtype.char)) * m\n"
          ]
        },
        {
          "output_type": "stream",
          "name": "stdout",
          "text": [
            "\n",
            "Coherence Score (LSA):  0.30470007259654264\n",
            "\n",
            "Coherence Score (LSA):  0.30470007259654264\n"
          ]
        },
        {
          "output_type": "stream",
          "name": "stderr",
          "text": [
            "/usr/local/lib/python3.10/dist-packages/gensim/models/lsimodel.py:963: DeprecationWarning: Please use `csc_matvecs` from the `scipy.sparse` namespace, the `scipy.sparse.sparsetools` namespace is deprecated.\n",
            "  sparsetools.csc_matvecs(\n",
            "/usr/local/lib/python3.10/dist-packages/scipy/linalg/_special_matrices.py:154: DeprecationWarning: 'tri'/'tril/'triu' are deprecated as of SciPy 1.11.0 and will be removed in v1.13.0. Please use numpy.(tri/tril/triu) instead.\n",
            "  out = (1 - tri(m.shape[0], m.shape[1], k - 1, m.dtype.char)) * m\n",
            "/usr/local/lib/python3.10/dist-packages/scipy/linalg/_special_matrices.py:154: DeprecationWarning: 'tri'/'tril/'triu' are deprecated as of SciPy 1.11.0 and will be removed in v1.13.0. Please use numpy.(tri/tril/triu) instead.\n",
            "  out = (1 - tri(m.shape[0], m.shape[1], k - 1, m.dtype.char)) * m\n",
            "/usr/local/lib/python3.10/dist-packages/scipy/linalg/_special_matrices.py:154: DeprecationWarning: 'tri'/'tril/'triu' are deprecated as of SciPy 1.11.0 and will be removed in v1.13.0. Please use numpy.(tri/tril/triu) instead.\n",
            "  out = (1 - tri(m.shape[0], m.shape[1], k - 1, m.dtype.char)) * m\n",
            "/usr/local/lib/python3.10/dist-packages/gensim/models/lsimodel.py:963: DeprecationWarning: Please use `csc_matvecs` from the `scipy.sparse` namespace, the `scipy.sparse.sparsetools` namespace is deprecated.\n",
            "  sparsetools.csc_matvecs(\n",
            "/usr/local/lib/python3.10/dist-packages/scipy/linalg/_special_matrices.py:154: DeprecationWarning: 'tri'/'tril/'triu' are deprecated as of SciPy 1.11.0 and will be removed in v1.13.0. Please use numpy.(tri/tril/triu) instead.\n",
            "  out = (1 - tri(m.shape[0], m.shape[1], k - 1, m.dtype.char)) * m\n",
            "/usr/local/lib/python3.10/dist-packages/scipy/linalg/_special_matrices.py:154: DeprecationWarning: 'tri'/'tril/'triu' are deprecated as of SciPy 1.11.0 and will be removed in v1.13.0. Please use numpy.(tri/tril/triu) instead.\n",
            "  out = (1 - tri(m.shape[0], m.shape[1], k - 1, m.dtype.char)) * m\n",
            "/usr/local/lib/python3.10/dist-packages/scipy/linalg/_special_matrices.py:154: DeprecationWarning: 'tri'/'tril/'triu' are deprecated as of SciPy 1.11.0 and will be removed in v1.13.0. Please use numpy.(tri/tril/triu) instead.\n",
            "  out = (1 - tri(m.shape[0], m.shape[1], k - 1, m.dtype.char)) * m\n"
          ]
        },
        {
          "output_type": "stream",
          "name": "stdout",
          "text": [
            "\n",
            "Coherence Score (LSA):  0.2975727657677375\n",
            "\n",
            "Coherence Score (LSA):  0.35127058300010117\n"
          ]
        },
        {
          "output_type": "stream",
          "name": "stderr",
          "text": [
            "/usr/local/lib/python3.10/dist-packages/gensim/models/lsimodel.py:963: DeprecationWarning: Please use `csc_matvecs` from the `scipy.sparse` namespace, the `scipy.sparse.sparsetools` namespace is deprecated.\n",
            "  sparsetools.csc_matvecs(\n",
            "/usr/local/lib/python3.10/dist-packages/scipy/linalg/_special_matrices.py:154: DeprecationWarning: 'tri'/'tril/'triu' are deprecated as of SciPy 1.11.0 and will be removed in v1.13.0. Please use numpy.(tri/tril/triu) instead.\n",
            "  out = (1 - tri(m.shape[0], m.shape[1], k - 1, m.dtype.char)) * m\n",
            "/usr/local/lib/python3.10/dist-packages/scipy/linalg/_special_matrices.py:154: DeprecationWarning: 'tri'/'tril/'triu' are deprecated as of SciPy 1.11.0 and will be removed in v1.13.0. Please use numpy.(tri/tril/triu) instead.\n",
            "  out = (1 - tri(m.shape[0], m.shape[1], k - 1, m.dtype.char)) * m\n",
            "/usr/local/lib/python3.10/dist-packages/scipy/linalg/_special_matrices.py:154: DeprecationWarning: 'tri'/'tril/'triu' are deprecated as of SciPy 1.11.0 and will be removed in v1.13.0. Please use numpy.(tri/tril/triu) instead.\n",
            "  out = (1 - tri(m.shape[0], m.shape[1], k - 1, m.dtype.char)) * m\n",
            "/usr/local/lib/python3.10/dist-packages/gensim/models/lsimodel.py:963: DeprecationWarning: Please use `csc_matvecs` from the `scipy.sparse` namespace, the `scipy.sparse.sparsetools` namespace is deprecated.\n",
            "  sparsetools.csc_matvecs(\n",
            "/usr/local/lib/python3.10/dist-packages/scipy/linalg/_special_matrices.py:154: DeprecationWarning: 'tri'/'tril/'triu' are deprecated as of SciPy 1.11.0 and will be removed in v1.13.0. Please use numpy.(tri/tril/triu) instead.\n",
            "  out = (1 - tri(m.shape[0], m.shape[1], k - 1, m.dtype.char)) * m\n",
            "/usr/local/lib/python3.10/dist-packages/scipy/linalg/_special_matrices.py:154: DeprecationWarning: 'tri'/'tril/'triu' are deprecated as of SciPy 1.11.0 and will be removed in v1.13.0. Please use numpy.(tri/tril/triu) instead.\n",
            "  out = (1 - tri(m.shape[0], m.shape[1], k - 1, m.dtype.char)) * m\n",
            "/usr/local/lib/python3.10/dist-packages/scipy/linalg/_special_matrices.py:154: DeprecationWarning: 'tri'/'tril/'triu' are deprecated as of SciPy 1.11.0 and will be removed in v1.13.0. Please use numpy.(tri/tril/triu) instead.\n",
            "  out = (1 - tri(m.shape[0], m.shape[1], k - 1, m.dtype.char)) * m\n"
          ]
        },
        {
          "output_type": "stream",
          "name": "stdout",
          "text": [
            "\n",
            "Coherence Score (LSA):  0.33247579208174727\n",
            "Optimal number of topics: 9\n",
            "Topic 1: sustainable (0.4486), mobility (0.3050), transportation (0.3050), electric (0.2512), solutions (0.2153), car (0.1974), sharing (0.1794), buses (0.1615), urban (0.1435), micromobility (0.1256)\n",
            "Optimal number of topics (LSA): 8\n",
            "Topics (LSA):\n",
            "Topic (LSA) 1: sustainable, mobility, transportation, electric, solutions, car, sharing, buses, urban, micromobility\n",
            "\n",
            "Coherence Score (LSA):  0.3219934781895585\n"
          ]
        },
        {
          "output_type": "stream",
          "name": "stderr",
          "text": [
            "/usr/local/lib/python3.10/dist-packages/gensim/models/lsimodel.py:963: DeprecationWarning: Please use `csc_matvecs` from the `scipy.sparse` namespace, the `scipy.sparse.sparsetools` namespace is deprecated.\n",
            "  sparsetools.csc_matvecs(\n",
            "/usr/local/lib/python3.10/dist-packages/scipy/linalg/_special_matrices.py:154: DeprecationWarning: 'tri'/'tril/'triu' are deprecated as of SciPy 1.11.0 and will be removed in v1.13.0. Please use numpy.(tri/tril/triu) instead.\n",
            "  out = (1 - tri(m.shape[0], m.shape[1], k - 1, m.dtype.char)) * m\n",
            "/usr/local/lib/python3.10/dist-packages/scipy/linalg/_special_matrices.py:154: DeprecationWarning: 'tri'/'tril/'triu' are deprecated as of SciPy 1.11.0 and will be removed in v1.13.0. Please use numpy.(tri/tril/triu) instead.\n",
            "  out = (1 - tri(m.shape[0], m.shape[1], k - 1, m.dtype.char)) * m\n",
            "/usr/local/lib/python3.10/dist-packages/scipy/linalg/_special_matrices.py:154: DeprecationWarning: 'tri'/'tril/'triu' are deprecated as of SciPy 1.11.0 and will be removed in v1.13.0. Please use numpy.(tri/tril/triu) instead.\n",
            "  out = (1 - tri(m.shape[0], m.shape[1], k - 1, m.dtype.char)) * m\n",
            "/usr/local/lib/python3.10/dist-packages/gensim/models/lsimodel.py:963: DeprecationWarning: Please use `csc_matvecs` from the `scipy.sparse` namespace, the `scipy.sparse.sparsetools` namespace is deprecated.\n",
            "  sparsetools.csc_matvecs(\n",
            "/usr/local/lib/python3.10/dist-packages/scipy/linalg/_special_matrices.py:154: DeprecationWarning: 'tri'/'tril/'triu' are deprecated as of SciPy 1.11.0 and will be removed in v1.13.0. Please use numpy.(tri/tril/triu) instead.\n",
            "  out = (1 - tri(m.shape[0], m.shape[1], k - 1, m.dtype.char)) * m\n",
            "/usr/local/lib/python3.10/dist-packages/scipy/linalg/_special_matrices.py:154: DeprecationWarning: 'tri'/'tril/'triu' are deprecated as of SciPy 1.11.0 and will be removed in v1.13.0. Please use numpy.(tri/tril/triu) instead.\n",
            "  out = (1 - tri(m.shape[0], m.shape[1], k - 1, m.dtype.char)) * m\n",
            "/usr/local/lib/python3.10/dist-packages/scipy/linalg/_special_matrices.py:154: DeprecationWarning: 'tri'/'tril/'triu' are deprecated as of SciPy 1.11.0 and will be removed in v1.13.0. Please use numpy.(tri/tril/triu) instead.\n",
            "  out = (1 - tri(m.shape[0], m.shape[1], k - 1, m.dtype.char)) * m\n",
            "/usr/local/lib/python3.10/dist-packages/gensim/models/lsimodel.py:963: DeprecationWarning: Please use `csc_matvecs` from the `scipy.sparse` namespace, the `scipy.sparse.sparsetools` namespace is deprecated.\n",
            "  sparsetools.csc_matvecs(\n",
            "/usr/local/lib/python3.10/dist-packages/scipy/linalg/_special_matrices.py:154: DeprecationWarning: 'tri'/'tril/'triu' are deprecated as of SciPy 1.11.0 and will be removed in v1.13.0. Please use numpy.(tri/tril/triu) instead.\n",
            "  out = (1 - tri(m.shape[0], m.shape[1], k - 1, m.dtype.char)) * m\n",
            "/usr/local/lib/python3.10/dist-packages/scipy/linalg/_special_matrices.py:154: DeprecationWarning: 'tri'/'tril/'triu' are deprecated as of SciPy 1.11.0 and will be removed in v1.13.0. Please use numpy.(tri/tril/triu) instead.\n",
            "  out = (1 - tri(m.shape[0], m.shape[1], k - 1, m.dtype.char)) * m\n",
            "/usr/local/lib/python3.10/dist-packages/scipy/linalg/_special_matrices.py:154: DeprecationWarning: 'tri'/'tril/'triu' are deprecated as of SciPy 1.11.0 and will be removed in v1.13.0. Please use numpy.(tri/tril/triu) instead.\n",
            "  out = (1 - tri(m.shape[0], m.shape[1], k - 1, m.dtype.char)) * m\n"
          ]
        },
        {
          "output_type": "stream",
          "name": "stdout",
          "text": [
            "\n",
            "Coherence Score (LSA):  0.3045428751829489\n",
            "\n",
            "Coherence Score (LSA):  0.3527109744987218\n"
          ]
        },
        {
          "output_type": "stream",
          "name": "stderr",
          "text": [
            "/usr/local/lib/python3.10/dist-packages/gensim/models/lsimodel.py:963: DeprecationWarning: Please use `csc_matvecs` from the `scipy.sparse` namespace, the `scipy.sparse.sparsetools` namespace is deprecated.\n",
            "  sparsetools.csc_matvecs(\n",
            "/usr/local/lib/python3.10/dist-packages/scipy/linalg/_special_matrices.py:154: DeprecationWarning: 'tri'/'tril/'triu' are deprecated as of SciPy 1.11.0 and will be removed in v1.13.0. Please use numpy.(tri/tril/triu) instead.\n",
            "  out = (1 - tri(m.shape[0], m.shape[1], k - 1, m.dtype.char)) * m\n",
            "/usr/local/lib/python3.10/dist-packages/scipy/linalg/_special_matrices.py:154: DeprecationWarning: 'tri'/'tril/'triu' are deprecated as of SciPy 1.11.0 and will be removed in v1.13.0. Please use numpy.(tri/tril/triu) instead.\n",
            "  out = (1 - tri(m.shape[0], m.shape[1], k - 1, m.dtype.char)) * m\n",
            "/usr/local/lib/python3.10/dist-packages/scipy/linalg/_special_matrices.py:154: DeprecationWarning: 'tri'/'tril/'triu' are deprecated as of SciPy 1.11.0 and will be removed in v1.13.0. Please use numpy.(tri/tril/triu) instead.\n",
            "  out = (1 - tri(m.shape[0], m.shape[1], k - 1, m.dtype.char)) * m\n",
            "/usr/local/lib/python3.10/dist-packages/gensim/models/lsimodel.py:963: DeprecationWarning: Please use `csc_matvecs` from the `scipy.sparse` namespace, the `scipy.sparse.sparsetools` namespace is deprecated.\n",
            "  sparsetools.csc_matvecs(\n",
            "/usr/local/lib/python3.10/dist-packages/scipy/linalg/_special_matrices.py:154: DeprecationWarning: 'tri'/'tril/'triu' are deprecated as of SciPy 1.11.0 and will be removed in v1.13.0. Please use numpy.(tri/tril/triu) instead.\n",
            "  out = (1 - tri(m.shape[0], m.shape[1], k - 1, m.dtype.char)) * m\n",
            "/usr/local/lib/python3.10/dist-packages/scipy/linalg/_special_matrices.py:154: DeprecationWarning: 'tri'/'tril/'triu' are deprecated as of SciPy 1.11.0 and will be removed in v1.13.0. Please use numpy.(tri/tril/triu) instead.\n",
            "  out = (1 - tri(m.shape[0], m.shape[1], k - 1, m.dtype.char)) * m\n",
            "/usr/local/lib/python3.10/dist-packages/scipy/linalg/_special_matrices.py:154: DeprecationWarning: 'tri'/'tril/'triu' are deprecated as of SciPy 1.11.0 and will be removed in v1.13.0. Please use numpy.(tri/tril/triu) instead.\n",
            "  out = (1 - tri(m.shape[0], m.shape[1], k - 1, m.dtype.char)) * m\n",
            "/usr/local/lib/python3.10/dist-packages/gensim/models/lsimodel.py:963: DeprecationWarning: Please use `csc_matvecs` from the `scipy.sparse` namespace, the `scipy.sparse.sparsetools` namespace is deprecated.\n",
            "  sparsetools.csc_matvecs(\n",
            "/usr/local/lib/python3.10/dist-packages/scipy/linalg/_special_matrices.py:154: DeprecationWarning: 'tri'/'tril/'triu' are deprecated as of SciPy 1.11.0 and will be removed in v1.13.0. Please use numpy.(tri/tril/triu) instead.\n",
            "  out = (1 - tri(m.shape[0], m.shape[1], k - 1, m.dtype.char)) * m\n",
            "/usr/local/lib/python3.10/dist-packages/scipy/linalg/_special_matrices.py:154: DeprecationWarning: 'tri'/'tril/'triu' are deprecated as of SciPy 1.11.0 and will be removed in v1.13.0. Please use numpy.(tri/tril/triu) instead.\n",
            "  out = (1 - tri(m.shape[0], m.shape[1], k - 1, m.dtype.char)) * m\n",
            "/usr/local/lib/python3.10/dist-packages/scipy/linalg/_special_matrices.py:154: DeprecationWarning: 'tri'/'tril/'triu' are deprecated as of SciPy 1.11.0 and will be removed in v1.13.0. Please use numpy.(tri/tril/triu) instead.\n",
            "  out = (1 - tri(m.shape[0], m.shape[1], k - 1, m.dtype.char)) * m\n"
          ]
        },
        {
          "output_type": "stream",
          "name": "stdout",
          "text": [
            "\n",
            "Coherence Score (LSA):  0.3563388682227829\n",
            "\n",
            "Coherence Score (LSA):  0.34124454078167776\n"
          ]
        },
        {
          "output_type": "stream",
          "name": "stderr",
          "text": [
            "/usr/local/lib/python3.10/dist-packages/gensim/models/lsimodel.py:963: DeprecationWarning: Please use `csc_matvecs` from the `scipy.sparse` namespace, the `scipy.sparse.sparsetools` namespace is deprecated.\n",
            "  sparsetools.csc_matvecs(\n",
            "/usr/local/lib/python3.10/dist-packages/scipy/linalg/_special_matrices.py:154: DeprecationWarning: 'tri'/'tril/'triu' are deprecated as of SciPy 1.11.0 and will be removed in v1.13.0. Please use numpy.(tri/tril/triu) instead.\n",
            "  out = (1 - tri(m.shape[0], m.shape[1], k - 1, m.dtype.char)) * m\n",
            "/usr/local/lib/python3.10/dist-packages/scipy/linalg/_special_matrices.py:154: DeprecationWarning: 'tri'/'tril/'triu' are deprecated as of SciPy 1.11.0 and will be removed in v1.13.0. Please use numpy.(tri/tril/triu) instead.\n",
            "  out = (1 - tri(m.shape[0], m.shape[1], k - 1, m.dtype.char)) * m\n",
            "/usr/local/lib/python3.10/dist-packages/scipy/linalg/_special_matrices.py:154: DeprecationWarning: 'tri'/'tril/'triu' are deprecated as of SciPy 1.11.0 and will be removed in v1.13.0. Please use numpy.(tri/tril/triu) instead.\n",
            "  out = (1 - tri(m.shape[0], m.shape[1], k - 1, m.dtype.char)) * m\n",
            "/usr/local/lib/python3.10/dist-packages/gensim/models/lsimodel.py:963: DeprecationWarning: Please use `csc_matvecs` from the `scipy.sparse` namespace, the `scipy.sparse.sparsetools` namespace is deprecated.\n",
            "  sparsetools.csc_matvecs(\n",
            "/usr/local/lib/python3.10/dist-packages/scipy/linalg/_special_matrices.py:154: DeprecationWarning: 'tri'/'tril/'triu' are deprecated as of SciPy 1.11.0 and will be removed in v1.13.0. Please use numpy.(tri/tril/triu) instead.\n",
            "  out = (1 - tri(m.shape[0], m.shape[1], k - 1, m.dtype.char)) * m\n",
            "/usr/local/lib/python3.10/dist-packages/scipy/linalg/_special_matrices.py:154: DeprecationWarning: 'tri'/'tril/'triu' are deprecated as of SciPy 1.11.0 and will be removed in v1.13.0. Please use numpy.(tri/tril/triu) instead.\n",
            "  out = (1 - tri(m.shape[0], m.shape[1], k - 1, m.dtype.char)) * m\n",
            "/usr/local/lib/python3.10/dist-packages/scipy/linalg/_special_matrices.py:154: DeprecationWarning: 'tri'/'tril/'triu' are deprecated as of SciPy 1.11.0 and will be removed in v1.13.0. Please use numpy.(tri/tril/triu) instead.\n",
            "  out = (1 - tri(m.shape[0], m.shape[1], k - 1, m.dtype.char)) * m\n"
          ]
        },
        {
          "output_type": "stream",
          "name": "stdout",
          "text": [
            "\n",
            "Coherence Score (LSA):  0.33130556529131083\n",
            "\n",
            "Coherence Score (LSA):  0.34460108499813136\n"
          ]
        },
        {
          "output_type": "stream",
          "name": "stderr",
          "text": [
            "/usr/local/lib/python3.10/dist-packages/gensim/models/lsimodel.py:963: DeprecationWarning: Please use `csc_matvecs` from the `scipy.sparse` namespace, the `scipy.sparse.sparsetools` namespace is deprecated.\n",
            "  sparsetools.csc_matvecs(\n",
            "/usr/local/lib/python3.10/dist-packages/scipy/linalg/_special_matrices.py:154: DeprecationWarning: 'tri'/'tril/'triu' are deprecated as of SciPy 1.11.0 and will be removed in v1.13.0. Please use numpy.(tri/tril/triu) instead.\n",
            "  out = (1 - tri(m.shape[0], m.shape[1], k - 1, m.dtype.char)) * m\n",
            "/usr/local/lib/python3.10/dist-packages/scipy/linalg/_special_matrices.py:154: DeprecationWarning: 'tri'/'tril/'triu' are deprecated as of SciPy 1.11.0 and will be removed in v1.13.0. Please use numpy.(tri/tril/triu) instead.\n",
            "  out = (1 - tri(m.shape[0], m.shape[1], k - 1, m.dtype.char)) * m\n",
            "/usr/local/lib/python3.10/dist-packages/scipy/linalg/_special_matrices.py:154: DeprecationWarning: 'tri'/'tril/'triu' are deprecated as of SciPy 1.11.0 and will be removed in v1.13.0. Please use numpy.(tri/tril/triu) instead.\n",
            "  out = (1 - tri(m.shape[0], m.shape[1], k - 1, m.dtype.char)) * m\n"
          ]
        },
        {
          "output_type": "stream",
          "name": "stdout",
          "text": [
            "\n",
            "Coherence Score (LSA):  0.3047000725965426\n",
            "\n",
            "Coherence Score (LSA):  0.3286796791711287\n"
          ]
        },
        {
          "output_type": "stream",
          "name": "stderr",
          "text": [
            "/usr/local/lib/python3.10/dist-packages/gensim/models/lsimodel.py:963: DeprecationWarning: Please use `csc_matvecs` from the `scipy.sparse` namespace, the `scipy.sparse.sparsetools` namespace is deprecated.\n",
            "  sparsetools.csc_matvecs(\n",
            "/usr/local/lib/python3.10/dist-packages/scipy/linalg/_special_matrices.py:154: DeprecationWarning: 'tri'/'tril/'triu' are deprecated as of SciPy 1.11.0 and will be removed in v1.13.0. Please use numpy.(tri/tril/triu) instead.\n",
            "  out = (1 - tri(m.shape[0], m.shape[1], k - 1, m.dtype.char)) * m\n",
            "/usr/local/lib/python3.10/dist-packages/scipy/linalg/_special_matrices.py:154: DeprecationWarning: 'tri'/'tril/'triu' are deprecated as of SciPy 1.11.0 and will be removed in v1.13.0. Please use numpy.(tri/tril/triu) instead.\n",
            "  out = (1 - tri(m.shape[0], m.shape[1], k - 1, m.dtype.char)) * m\n",
            "/usr/local/lib/python3.10/dist-packages/scipy/linalg/_special_matrices.py:154: DeprecationWarning: 'tri'/'tril/'triu' are deprecated as of SciPy 1.11.0 and will be removed in v1.13.0. Please use numpy.(tri/tril/triu) instead.\n",
            "  out = (1 - tri(m.shape[0], m.shape[1], k - 1, m.dtype.char)) * m\n",
            "/usr/local/lib/python3.10/dist-packages/gensim/models/lsimodel.py:963: DeprecationWarning: Please use `csc_matvecs` from the `scipy.sparse` namespace, the `scipy.sparse.sparsetools` namespace is deprecated.\n",
            "  sparsetools.csc_matvecs(\n",
            "/usr/local/lib/python3.10/dist-packages/scipy/linalg/_special_matrices.py:154: DeprecationWarning: 'tri'/'tril/'triu' are deprecated as of SciPy 1.11.0 and will be removed in v1.13.0. Please use numpy.(tri/tril/triu) instead.\n",
            "  out = (1 - tri(m.shape[0], m.shape[1], k - 1, m.dtype.char)) * m\n",
            "/usr/local/lib/python3.10/dist-packages/scipy/linalg/_special_matrices.py:154: DeprecationWarning: 'tri'/'tril/'triu' are deprecated as of SciPy 1.11.0 and will be removed in v1.13.0. Please use numpy.(tri/tril/triu) instead.\n",
            "  out = (1 - tri(m.shape[0], m.shape[1], k - 1, m.dtype.char)) * m\n",
            "/usr/local/lib/python3.10/dist-packages/scipy/linalg/_special_matrices.py:154: DeprecationWarning: 'tri'/'tril/'triu' are deprecated as of SciPy 1.11.0 and will be removed in v1.13.0. Please use numpy.(tri/tril/triu) instead.\n",
            "  out = (1 - tri(m.shape[0], m.shape[1], k - 1, m.dtype.char)) * m\n"
          ]
        },
        {
          "output_type": "stream",
          "name": "stdout",
          "text": [
            "\n",
            "Coherence Score (LSA):  0.33634560484841874\n"
          ]
        },
        {
          "output_type": "display_data",
          "data": {
            "text/plain": [
              "<Figure size 640x480 with 1 Axes>"
            ],
            "image/png": "[encoded data removed]"
          },
          "metadata": {}
        }
      ],
      "source": [
        "# Write your code here\n",
        "import gensim\n",
        "from gensim import corpora\n",
        "from gensim.models import CoherenceModel\n",
        "import nltk\n",
        "from nltk.corpus import stopwords\n",
        "from nltk.tokenize import word_tokenize\n",
        "\n",
        "import pyLDAvis\n",
        "import pyLDAvis.gensim\n",
        "pyLDAvis.enable_notebook()\n",
        "\n",
        "\n",
        "import re\n",
        "import numpy as np\n",
        "import string\n",
        "\n",
        "nltk.download('punkt')\n",
        "nltk.download('stopwords')\n",
        "\n",
        "\n",
        "article_text = \"\"\"\n",
        "In recent years, the global conversation surrounding sustainability has intensified, with a growing emphasis on reducing our carbon footprint. The transportation sector, known for its significant contribution to pollution, has seen a surge in the adoption of sustainable mobility solutions. Among these, electric buses, car sharing, and micro-mobility have emerged as key players in reshaping the way we navigate urban landscapes.\n",
        "\n",
        "Electric Buses: The Backbone of Eco-Friendly Public Transportation\n",
        "\n",
        "In bustling cities, the hum of traditional buses has been gradually replaced by the whisper of electric buses. These vehicles represent a fundamental shift in public transportation, offering an environmentally friendly alternative to their gas-guzzling counterparts. Electric buses run on rechargeable batteries, emitting zero tailpipe emissions, and reducing noise pollution, making them a promising solution for tackling air quality issues in densely populated areas.\n",
        "\n",
        "The integration of electric buses into public transportation networks has yielded remarkable results. Not only do they contribute to cleaner air, but they also provide a smoother and quieter ride for passengers. Moreover, with advancements in battery technology, the range and efficiency of electric buses have improved significantly, addressing concerns regarding their operational capabilities and potential limitations.\n",
        "\n",
        "Car sharing: Driving Towards a Sustainable Future\n",
        "\n",
        "As urban populations continue to swell, the demand for convenient and cost-effective transportation options has led to the rise of car sharing services. Car sharing programs enable individuals to access vehicles on an as-needed basis, eliminating the need for personal car ownership. By encouraging resource-sharing and reducing the number of cars on the road, these initiatives play a vital role in promoting sustainable mobility.\n",
        "\n",
        "The benefits of car sharing extend beyond environmental conservation. They include reduced traffic congestion, minimized parking space requirements, and lower overall transportation costs for users. Furthermore, the incorporation of electric or hybrid vehicles within car sharing fleets has further bolstered the sustainability quotient, offering users an eco-friendly alternative for their transportation needs.\n",
        "\n",
        "Micro-Mobility: Redefining Short-Distance Travel\n",
        "\n",
        "In bustling city centers, the streets have witnessed the emergence of a new mode of transportation – micro-mobility. This term encompasses various compact and lightweight modes of transport such as electric scooters, bicycles, and even electric skateboards. Designed for short-distance travel, these alternatives provide a convenient and eco-conscious solution for navigating congested urban areas.\n",
        "\n",
        "The rising popularity of micro-mobility options can be attributed to their accessibility, flexibility, and user-friendly nature. These alternatives provide an effective means of traversing short distances, lessening the dependence on traditional transportation methods for daily commutes. Moreover, their eco-friendly nature resonates with the increasing focus on curbing carbon emissions and fostering sustainable development in urban areas.\n",
        "\n",
        "The Role of Infrastructure and Policy in Promoting Sustainable Mobility\n",
        "\n",
        "The effectiveness of sustainable mobility solutions heavily relies on the existence of supportive infrastructure and conducive policies. While the proliferation of these solutions is a positive step, their success is contingent on the presence of appropriate infrastructure and well-designed policies. Developing charging infrastructure for electric buses and vehicles, along with the implementation of dedicated lanes and parking spaces, is vital in promoting the widespread adoption of eco-friendly transportation options.\n",
        "\n",
        "Furthermore, policy initiatives aimed at incentivizing the use of sustainable mobility solutions, such as tax benefits for electric vehicle users and the integration of car sharing services into urban planning strategies, can significantly influence consumer behavior and encourage the transition towards more sustainable transportation practices.\n",
        "\n",
        "Challenges and Opportunities on the Horizon\n",
        "\n",
        "Despite the evident benefits of sustainable mobility solutions, several challenges persist in their widespread implementation. These challenges include the initial costs associated with infrastructure development, the need for continued technological advancements to enhance the efficiency of electric vehicles, and the requirement for comprehensive regulatory frameworks to govern the operations of car sharing and micro-mobility services.\n",
        "\n",
        "However, these challenges also present an opportunity for innovation and collaboration within the public and private sectors. Investments in research and development, coupled with strategic partnerships between governments, businesses, and communities, can pave the way for the seamless integration of sustainable mobility solutions into the fabric of urban life.\n",
        "\n",
        "A Sustainable Future in Motion\n",
        "\n",
        "In an era where the impacts of climate change and environmental decline loom large, the importance of sustainable mobility solutions becomes ever more evident. Embracing the capabilities of electric buses, car sharing, and micro-mobility can enable cities to cultivate a transportation ecosystem that is not only cleaner and more efficient but also more inclusive, benefiting both the environment and the people who inhabit it.\n",
        "\n",
        "The journey towards sustainable mobility requires a collective effort, with stakeholders across various sectors playing a pivotal role in driving positive change. Through continued innovation, investment, and advocacy, we can pave the way for a future where mobility is not only efficient and accessible but also sustainable and environmentally conscious. Together, we can steer our cities toward a more sustainable and vibrant tomorrow.\n",
        "\n",
        "Empowering Communities through Education and Engagement\n",
        "\n",
        "Fostering community empowerment through education and engagement forms the cornerstone of successful sustainable mobility solutions. Educational programs and awareness campaigns are instrumental in cultivating a culture of sustainability, encouraging individuals to make informed choices about their transportation habits. By highlighting the benefits of environmentally friendly alternatives and showcasing their positive impact on the environment, communities can be inspired to actively participate in the transition towards sustainable mobility.\n",
        "\n",
        "Moreover, community engagement initiatives can serve as a platform for gathering valuable feedback and insights from residents, enabling policymakers and transportation authorities to tailor their strategies and solutions according to the specific needs and preferences of the local populace. By incorporating community input into the planning and development of sustainable mobility projects, cities can ensure that their efforts are not only effective but also inclusive and community-centric.\n",
        "\n",
        "Looking Ahead: The Evolution of Sustainable Mobility\n",
        "\n",
        "As technology continues to advance and societal awareness of environmental issues grows, the landscape of sustainable mobility is poised for further evolution. Continued research and development in the fields of electric vehicle technology, battery efficiency, and renewable energy sources are expected to drive significant improvements in the performance and accessibility of sustainable transportation options.\n",
        "\n",
        "Furthermore, the integration of smart technologies and data-driven solutions holds the potential to optimize the efficiency of public transportation networks, enhance the user experience of car sharing services, and streamline the operations of micro-mobility initiatives. By leveraging the power of data and analytics, cities can make data-driven decisions that lead to more effective and sustainable mobility solutions, ultimately contributing to a cleaner and more resilient urban environment.\n",
        "\n",
        "In the face of global challenges such as climate change and urbanization, the pursuit of sustainable mobility solutions remains imperative for building a more sustainable and resilient future. By embracing innovation, fostering collaboration, and prioritizing the needs of communities, cities can pave the way for a more sustainable and equitable transportation landscape, where the well-being of both the planet and its inhabitants is placed at the forefront of urban development.\"\"\"\n",
        "\n",
        "lsa_model = None\n",
        "\n",
        "def preprocess_text(text):\n",
        "\n",
        "    text = text.translate(str.maketrans('', '', string.punctuation)).lower()\n",
        "    tokens = word_tokenize(text)\n",
        "    stop_words = set(stopwords.words('english'))\n",
        "    tokens = [word for word in tokens if word not in stop_words]\n",
        "    return tokens\n",
        "\n",
        "\n",
        "tokens = preprocess_text(article_text)\n",
        "dictionary = corpora.Dictionary([tokens])\n",
        "corpus = [dictionary.doc2bow(tokens)]\n",
        "\n",
        "# Calculate coherence scores for different numbers of topics\n",
        "def calculate_coherence_scores(corpus, dictionary, texts, limit, start=2, step=1):\n",
        "    coherence_scores = []\n",
        "    for num_topics in range(start, limit, step):\n",
        "        model = gensim.models.LdaModel(corpus=corpus, id2word=dictionary, num_topics=num_topics)\n",
        "        coherencemodel = CoherenceModel(model=model, texts=texts, dictionary=dictionary, coherence='c_v')\n",
        "        coherence_score = coherencemodel.get_coherence()\n",
        "        coherence_scores.append((num_topics, coherence_score))\n",
        "        print(f'Coherence Score for {num_topics} topics: {coherence_score:.4f}')\n",
        "    return coherence_scores\n",
        "def main():\n",
        "    limit = 10\n",
        "    global lsa_model\n",
        "    global optimal_num_topics_lsa\n",
        "    coherence_scores = calculate_coherence_scores(corpus, dictionary, [tokens], limit=limit, start=2, step=1)\n",
        "    optimal_num_topics, _ = max(coherence_scores, key=lambda x: x[1])\n",
        "    lsa_coherence_values = compute_coherence_values_lsa(dictionary, corpus, [tokens], limit=10)\n",
        "    optimal_num_topics_lsa = np.argmax(lsa_coherence_values) + 2\n",
        "\n",
        "\n",
        "    lsa_model = gensim.models.LsiModel(corpus=corpus, id2word=dictionary, num_topics=optimal_num_topics_lsa)\n",
        "    topics = lsa_model.show_topics(formatted=False)\n",
        "\n",
        "    print(f'Optimal number of topics: {optimal_num_topics}')\n",
        "\n",
        "    for topic_id, topic in topics:\n",
        "        words = [word for word, weight in topic]\n",
        "        top_words = \", \".join([f\"{word} ({weight:.4f})\" for word, weight in topic])\n",
        "        print(f'Topic {topic_id + 1}: {top_words}')\n",
        "\n",
        "def compute_coherence_values_lsa(dictionary, corpus, texts, limit, start=2, step=1):\n",
        "    coherence_values = []\n",
        "    for num_topics in range(start, limit, step):\n",
        "        model = gensim.models.LsiModel(corpus=corpus, id2word=dictionary, num_topics=num_topics)\n",
        "        coherencemodel = CoherenceModel(model=model, texts=texts, dictionary=dictionary, coherence='c_v')\n",
        "        coherence_values.append(coherencemodel.get_coherence())\n",
        "        coherence_lsa = coherencemodel.get_coherence()\n",
        "        print('\\nCoherence Score (LSA): ', coherence_lsa)\n",
        "    return coherence_values\n",
        "\n",
        "\n",
        "if __name__ == \"__main__\":\n",
        "    main()\n",
        "\n",
        "\n",
        "lsa_topics = lsa_model.show_topics(formatted=False)\n",
        "\n",
        "print(f\"Optimal number of topics (LSA): {optimal_num_topics_lsa}\")\n",
        "\n",
        "print(f\"Topics (LSA):\")\n",
        "for topic_id, topic in lsa_topics:\n",
        "    words = [word for word, _ in topic]\n",
        "    print(f\"Topic (LSA) {topic_id + 1}: {', '.join(words)}\")\n",
        "\n",
        "# Display\n",
        "import matplotlib.pyplot as plt\n",
        "\n",
        "def plot_lsa_coherence(corpus, dictionary, texts, start, stop, step):\n",
        "    lsa_coherence_values = compute_coherence_values_lsa(dictionary, corpus, texts, stop, start, step)\n",
        "\n",
        "    x = range(start, stop, step)\n",
        "    plt.plot(x, lsa_coherence_values)\n",
        "    plt.xlabel(\"Number of Topics (LSA)\")\n",
        "    plt.ylabel(\"Coherence Score (LSA)\")\n",
        "    plt.legend((\"coherence_values (LSA)\"), loc='best')\n",
        "    plt.show()\n",
        "\n",
        "\n",
        "\n",
        "start, stop, step = 2, 12, 1\n",
        "plot_lsa_coherence(corpus, dictionary, [tokens], start, stop, step)\n"
      ]
    },
    {
      "cell_type": "markdown",
      "metadata": {
        "id": "CDS2klbhPqVM"
      },
      "source": [
        "## (3) (10 points) Generate K topics by using  lda2vec, the number of topics K should be decided by the coherence score, then summarize what are the topics. You may refer the code here:\n",
        "\n",
        "https://nbviewer.org/github/cemoody/lda2vec/blob/master/examples/twenty_newsgroups/lda2vec/lda2vec.ipynb"
      ]
    },
    {
      "cell_type": "code",
      "execution_count": 22,
      "metadata": {
        "colab": {
          "base_uri": "https://localhost:8080/",
          "height": 1000
        },
        "id": "lOc_-qpSPqVN",
        "outputId": "7663e42e-ec78-4ee3-ef63-66ee9fd9ed52"
      },
      "outputs": [
        {
          "output_type": "stream",
          "name": "stderr",
          "text": [
            "/usr/local/lib/python3.10/dist-packages/ipykernel/ipkernel.py:283: DeprecationWarning: `should_run_async` will not call `transform_cell` automatically in the future. Please pass the result to `transformed_cell` argument and any exception that happen during thetransform in `preprocessing_exc_tuple` in IPython 7.17 and above.\n",
            "  and should_run_async(code)\n",
            "[nltk_data] Downloading package punkt to /root/nltk_data...\n",
            "[nltk_data]   Package punkt is already up-to-date!\n",
            "[nltk_data] Downloading package stopwords to /root/nltk_data...\n",
            "[nltk_data]   Package stopwords is already up-to-date!\n",
            "WARNING:gensim.models.ldamodel:too few updates, training might not converge; consider increasing the number of passes or iterations to improve accuracy\n",
            "WARNING:gensim.models.ldamodel:too few updates, training might not converge; consider increasing the number of passes or iterations to improve accuracy\n",
            "WARNING:gensim.models.ldamodel:too few updates, training might not converge; consider increasing the number of passes or iterations to improve accuracy\n"
          ]
        },
        {
          "output_type": "stream",
          "name": "stdout",
          "text": [
            "Coherence Score for 2 topics: 0.3561\n",
            "Coherence Score for 3 topics: 0.3504\n"
          ]
        },
        {
          "output_type": "stream",
          "name": "stderr",
          "text": [
            "WARNING:gensim.models.ldamodel:too few updates, training might not converge; consider increasing the number of passes or iterations to improve accuracy\n",
            "WARNING:gensim.models.ldamodel:too few updates, training might not converge; consider increasing the number of passes or iterations to improve accuracy\n"
          ]
        },
        {
          "output_type": "stream",
          "name": "stdout",
          "text": [
            "Coherence Score for 4 topics: 0.3206\n",
            "Coherence Score for 5 topics: 0.3322\n"
          ]
        },
        {
          "output_type": "stream",
          "name": "stderr",
          "text": [
            "WARNING:gensim.models.ldamodel:too few updates, training might not converge; consider increasing the number of passes or iterations to improve accuracy\n",
            "WARNING:gensim.models.ldamodel:too few updates, training might not converge; consider increasing the number of passes or iterations to improve accuracy\n"
          ]
        },
        {
          "output_type": "stream",
          "name": "stdout",
          "text": [
            "Coherence Score for 6 topics: 0.3284\n",
            "Coherence Score for 7 topics: 0.3479\n"
          ]
        },
        {
          "output_type": "stream",
          "name": "stderr",
          "text": [
            "WARNING:gensim.models.ldamodel:too few updates, training might not converge; consider increasing the number of passes or iterations to improve accuracy\n"
          ]
        },
        {
          "output_type": "stream",
          "name": "stdout",
          "text": [
            "Coherence Score for 8 topics: 0.3262\n",
            "Coherence Score for 9 topics: 0.3302\n"
          ]
        },
        {
          "output_type": "stream",
          "name": "stderr",
          "text": [
            "/usr/local/lib/python3.10/dist-packages/gensim/models/lsimodel.py:963: DeprecationWarning: Please use `csc_matvecs` from the `scipy.sparse` namespace, the `scipy.sparse.sparsetools` namespace is deprecated.\n",
            "  sparsetools.csc_matvecs(\n",
            "/usr/local/lib/python3.10/dist-packages/scipy/linalg/_special_matrices.py:154: DeprecationWarning: 'tri'/'tril/'triu' are deprecated as of SciPy 1.11.0 and will be removed in v1.13.0. Please use numpy.(tri/tril/triu) instead.\n",
            "  out = (1 - tri(m.shape[0], m.shape[1], k - 1, m.dtype.char)) * m\n",
            "/usr/local/lib/python3.10/dist-packages/scipy/linalg/_special_matrices.py:154: DeprecationWarning: 'tri'/'tril/'triu' are deprecated as of SciPy 1.11.0 and will be removed in v1.13.0. Please use numpy.(tri/tril/triu) instead.\n",
            "  out = (1 - tri(m.shape[0], m.shape[1], k - 1, m.dtype.char)) * m\n",
            "/usr/local/lib/python3.10/dist-packages/scipy/linalg/_special_matrices.py:154: DeprecationWarning: 'tri'/'tril/'triu' are deprecated as of SciPy 1.11.0 and will be removed in v1.13.0. Please use numpy.(tri/tril/triu) instead.\n",
            "  out = (1 - tri(m.shape[0], m.shape[1], k - 1, m.dtype.char)) * m\n"
          ]
        },
        {
          "output_type": "stream",
          "name": "stdout",
          "text": [
            "\n",
            "Coherence Score (LDA2VE):  0.342901508734501\n",
            "\n",
            "Coherence Score (LDA2VE):  0.32516568174907723\n"
          ]
        },
        {
          "output_type": "stream",
          "name": "stderr",
          "text": [
            "/usr/local/lib/python3.10/dist-packages/gensim/models/lsimodel.py:963: DeprecationWarning: Please use `csc_matvecs` from the `scipy.sparse` namespace, the `scipy.sparse.sparsetools` namespace is deprecated.\n",
            "  sparsetools.csc_matvecs(\n",
            "/usr/local/lib/python3.10/dist-packages/scipy/linalg/_special_matrices.py:154: DeprecationWarning: 'tri'/'tril/'triu' are deprecated as of SciPy 1.11.0 and will be removed in v1.13.0. Please use numpy.(tri/tril/triu) instead.\n",
            "  out = (1 - tri(m.shape[0], m.shape[1], k - 1, m.dtype.char)) * m\n",
            "/usr/local/lib/python3.10/dist-packages/scipy/linalg/_special_matrices.py:154: DeprecationWarning: 'tri'/'tril/'triu' are deprecated as of SciPy 1.11.0 and will be removed in v1.13.0. Please use numpy.(tri/tril/triu) instead.\n",
            "  out = (1 - tri(m.shape[0], m.shape[1], k - 1, m.dtype.char)) * m\n",
            "/usr/local/lib/python3.10/dist-packages/scipy/linalg/_special_matrices.py:154: DeprecationWarning: 'tri'/'tril/'triu' are deprecated as of SciPy 1.11.0 and will be removed in v1.13.0. Please use numpy.(tri/tril/triu) instead.\n",
            "  out = (1 - tri(m.shape[0], m.shape[1], k - 1, m.dtype.char)) * m\n",
            "/usr/local/lib/python3.10/dist-packages/gensim/models/lsimodel.py:963: DeprecationWarning: Please use `csc_matvecs` from the `scipy.sparse` namespace, the `scipy.sparse.sparsetools` namespace is deprecated.\n",
            "  sparsetools.csc_matvecs(\n",
            "/usr/local/lib/python3.10/dist-packages/scipy/linalg/_special_matrices.py:154: DeprecationWarning: 'tri'/'tril/'triu' are deprecated as of SciPy 1.11.0 and will be removed in v1.13.0. Please use numpy.(tri/tril/triu) instead.\n",
            "  out = (1 - tri(m.shape[0], m.shape[1], k - 1, m.dtype.char)) * m\n",
            "/usr/local/lib/python3.10/dist-packages/scipy/linalg/_special_matrices.py:154: DeprecationWarning: 'tri'/'tril/'triu' are deprecated as of SciPy 1.11.0 and will be removed in v1.13.0. Please use numpy.(tri/tril/triu) instead.\n",
            "  out = (1 - tri(m.shape[0], m.shape[1], k - 1, m.dtype.char)) * m\n",
            "/usr/local/lib/python3.10/dist-packages/scipy/linalg/_special_matrices.py:154: DeprecationWarning: 'tri'/'tril/'triu' are deprecated as of SciPy 1.11.0 and will be removed in v1.13.0. Please use numpy.(tri/tril/triu) instead.\n",
            "  out = (1 - tri(m.shape[0], m.shape[1], k - 1, m.dtype.char)) * m\n"
          ]
        },
        {
          "output_type": "stream",
          "name": "stdout",
          "text": [
            "\n",
            "Coherence Score (LDA2VE):  0.3977901801216096\n",
            "\n",
            "Coherence Score (LDA2VE):  0.35230732431338\n"
          ]
        },
        {
          "output_type": "stream",
          "name": "stderr",
          "text": [
            "/usr/local/lib/python3.10/dist-packages/gensim/models/lsimodel.py:963: DeprecationWarning: Please use `csc_matvecs` from the `scipy.sparse` namespace, the `scipy.sparse.sparsetools` namespace is deprecated.\n",
            "  sparsetools.csc_matvecs(\n",
            "/usr/local/lib/python3.10/dist-packages/scipy/linalg/_special_matrices.py:154: DeprecationWarning: 'tri'/'tril/'triu' are deprecated as of SciPy 1.11.0 and will be removed in v1.13.0. Please use numpy.(tri/tril/triu) instead.\n",
            "  out = (1 - tri(m.shape[0], m.shape[1], k - 1, m.dtype.char)) * m\n",
            "/usr/local/lib/python3.10/dist-packages/scipy/linalg/_special_matrices.py:154: DeprecationWarning: 'tri'/'tril/'triu' are deprecated as of SciPy 1.11.0 and will be removed in v1.13.0. Please use numpy.(tri/tril/triu) instead.\n",
            "  out = (1 - tri(m.shape[0], m.shape[1], k - 1, m.dtype.char)) * m\n",
            "/usr/local/lib/python3.10/dist-packages/scipy/linalg/_special_matrices.py:154: DeprecationWarning: 'tri'/'tril/'triu' are deprecated as of SciPy 1.11.0 and will be removed in v1.13.0. Please use numpy.(tri/tril/triu) instead.\n",
            "  out = (1 - tri(m.shape[0], m.shape[1], k - 1, m.dtype.char)) * m\n",
            "/usr/local/lib/python3.10/dist-packages/gensim/models/lsimodel.py:963: DeprecationWarning: Please use `csc_matvecs` from the `scipy.sparse` namespace, the `scipy.sparse.sparsetools` namespace is deprecated.\n",
            "  sparsetools.csc_matvecs(\n",
            "/usr/local/lib/python3.10/dist-packages/scipy/linalg/_special_matrices.py:154: DeprecationWarning: 'tri'/'tril/'triu' are deprecated as of SciPy 1.11.0 and will be removed in v1.13.0. Please use numpy.(tri/tril/triu) instead.\n",
            "  out = (1 - tri(m.shape[0], m.shape[1], k - 1, m.dtype.char)) * m\n",
            "/usr/local/lib/python3.10/dist-packages/scipy/linalg/_special_matrices.py:154: DeprecationWarning: 'tri'/'tril/'triu' are deprecated as of SciPy 1.11.0 and will be removed in v1.13.0. Please use numpy.(tri/tril/triu) instead.\n",
            "  out = (1 - tri(m.shape[0], m.shape[1], k - 1, m.dtype.char)) * m\n",
            "/usr/local/lib/python3.10/dist-packages/scipy/linalg/_special_matrices.py:154: DeprecationWarning: 'tri'/'tril/'triu' are deprecated as of SciPy 1.11.0 and will be removed in v1.13.0. Please use numpy.(tri/tril/triu) instead.\n",
            "  out = (1 - tri(m.shape[0], m.shape[1], k - 1, m.dtype.char)) * m\n"
          ]
        },
        {
          "output_type": "stream",
          "name": "stdout",
          "text": [
            "\n",
            "Coherence Score (LDA2VE):  0.339322266684007\n",
            "\n",
            "Coherence Score (LDA2VE):  0.36266666222807725\n"
          ]
        },
        {
          "output_type": "stream",
          "name": "stderr",
          "text": [
            "/usr/local/lib/python3.10/dist-packages/gensim/models/lsimodel.py:963: DeprecationWarning: Please use `csc_matvecs` from the `scipy.sparse` namespace, the `scipy.sparse.sparsetools` namespace is deprecated.\n",
            "  sparsetools.csc_matvecs(\n",
            "/usr/local/lib/python3.10/dist-packages/scipy/linalg/_special_matrices.py:154: DeprecationWarning: 'tri'/'tril/'triu' are deprecated as of SciPy 1.11.0 and will be removed in v1.13.0. Please use numpy.(tri/tril/triu) instead.\n",
            "  out = (1 - tri(m.shape[0], m.shape[1], k - 1, m.dtype.char)) * m\n",
            "/usr/local/lib/python3.10/dist-packages/scipy/linalg/_special_matrices.py:154: DeprecationWarning: 'tri'/'tril/'triu' are deprecated as of SciPy 1.11.0 and will be removed in v1.13.0. Please use numpy.(tri/tril/triu) instead.\n",
            "  out = (1 - tri(m.shape[0], m.shape[1], k - 1, m.dtype.char)) * m\n",
            "/usr/local/lib/python3.10/dist-packages/scipy/linalg/_special_matrices.py:154: DeprecationWarning: 'tri'/'tril/'triu' are deprecated as of SciPy 1.11.0 and will be removed in v1.13.0. Please use numpy.(tri/tril/triu) instead.\n",
            "  out = (1 - tri(m.shape[0], m.shape[1], k - 1, m.dtype.char)) * m\n",
            "/usr/local/lib/python3.10/dist-packages/gensim/models/lsimodel.py:963: DeprecationWarning: Please use `csc_matvecs` from the `scipy.sparse` namespace, the `scipy.sparse.sparsetools` namespace is deprecated.\n",
            "  sparsetools.csc_matvecs(\n",
            "/usr/local/lib/python3.10/dist-packages/scipy/linalg/_special_matrices.py:154: DeprecationWarning: 'tri'/'tril/'triu' are deprecated as of SciPy 1.11.0 and will be removed in v1.13.0. Please use numpy.(tri/tril/triu) instead.\n",
            "  out = (1 - tri(m.shape[0], m.shape[1], k - 1, m.dtype.char)) * m\n",
            "/usr/local/lib/python3.10/dist-packages/scipy/linalg/_special_matrices.py:154: DeprecationWarning: 'tri'/'tril/'triu' are deprecated as of SciPy 1.11.0 and will be removed in v1.13.0. Please use numpy.(tri/tril/triu) instead.\n",
            "  out = (1 - tri(m.shape[0], m.shape[1], k - 1, m.dtype.char)) * m\n",
            "/usr/local/lib/python3.10/dist-packages/scipy/linalg/_special_matrices.py:154: DeprecationWarning: 'tri'/'tril/'triu' are deprecated as of SciPy 1.11.0 and will be removed in v1.13.0. Please use numpy.(tri/tril/triu) instead.\n",
            "  out = (1 - tri(m.shape[0], m.shape[1], k - 1, m.dtype.char)) * m\n"
          ]
        },
        {
          "output_type": "stream",
          "name": "stdout",
          "text": [
            "\n",
            "Coherence Score (LDA2VE):  0.33850508182600525\n",
            "\n",
            "Coherence Score (LDA2VE):  0.34223159315416535\n"
          ]
        },
        {
          "output_type": "stream",
          "name": "stderr",
          "text": [
            "/usr/local/lib/python3.10/dist-packages/gensim/models/lsimodel.py:963: DeprecationWarning: Please use `csc_matvecs` from the `scipy.sparse` namespace, the `scipy.sparse.sparsetools` namespace is deprecated.\n",
            "  sparsetools.csc_matvecs(\n",
            "/usr/local/lib/python3.10/dist-packages/scipy/linalg/_special_matrices.py:154: DeprecationWarning: 'tri'/'tril/'triu' are deprecated as of SciPy 1.11.0 and will be removed in v1.13.0. Please use numpy.(tri/tril/triu) instead.\n",
            "  out = (1 - tri(m.shape[0], m.shape[1], k - 1, m.dtype.char)) * m\n",
            "/usr/local/lib/python3.10/dist-packages/scipy/linalg/_special_matrices.py:154: DeprecationWarning: 'tri'/'tril/'triu' are deprecated as of SciPy 1.11.0 and will be removed in v1.13.0. Please use numpy.(tri/tril/triu) instead.\n",
            "  out = (1 - tri(m.shape[0], m.shape[1], k - 1, m.dtype.char)) * m\n",
            "/usr/local/lib/python3.10/dist-packages/scipy/linalg/_special_matrices.py:154: DeprecationWarning: 'tri'/'tril/'triu' are deprecated as of SciPy 1.11.0 and will be removed in v1.13.0. Please use numpy.(tri/tril/triu) instead.\n",
            "  out = (1 - tri(m.shape[0], m.shape[1], k - 1, m.dtype.char)) * m\n",
            "/usr/local/lib/python3.10/dist-packages/gensim/models/lsimodel.py:963: DeprecationWarning: Please use `csc_matvecs` from the `scipy.sparse` namespace, the `scipy.sparse.sparsetools` namespace is deprecated.\n",
            "  sparsetools.csc_matvecs(\n",
            "/usr/local/lib/python3.10/dist-packages/scipy/linalg/_special_matrices.py:154: DeprecationWarning: 'tri'/'tril/'triu' are deprecated as of SciPy 1.11.0 and will be removed in v1.13.0. Please use numpy.(tri/tril/triu) instead.\n",
            "  out = (1 - tri(m.shape[0], m.shape[1], k - 1, m.dtype.char)) * m\n",
            "/usr/local/lib/python3.10/dist-packages/scipy/linalg/_special_matrices.py:154: DeprecationWarning: 'tri'/'tril/'triu' are deprecated as of SciPy 1.11.0 and will be removed in v1.13.0. Please use numpy.(tri/tril/triu) instead.\n",
            "  out = (1 - tri(m.shape[0], m.shape[1], k - 1, m.dtype.char)) * m\n",
            "/usr/local/lib/python3.10/dist-packages/scipy/linalg/_special_matrices.py:154: DeprecationWarning: 'tri'/'tril/'triu' are deprecated as of SciPy 1.11.0 and will be removed in v1.13.0. Please use numpy.(tri/tril/triu) instead.\n",
            "  out = (1 - tri(m.shape[0], m.shape[1], k - 1, m.dtype.char)) * m\n",
            "/usr/local/lib/python3.10/dist-packages/gensim/models/lsimodel.py:963: DeprecationWarning: Please use `csc_matvecs` from the `scipy.sparse` namespace, the `scipy.sparse.sparsetools` namespace is deprecated.\n",
            "  sparsetools.csc_matvecs(\n",
            "/usr/local/lib/python3.10/dist-packages/scipy/linalg/_special_matrices.py:154: DeprecationWarning: 'tri'/'tril/'triu' are deprecated as of SciPy 1.11.0 and will be removed in v1.13.0. Please use numpy.(tri/tril/triu) instead.\n",
            "  out = (1 - tri(m.shape[0], m.shape[1], k - 1, m.dtype.char)) * m\n",
            "/usr/local/lib/python3.10/dist-packages/scipy/linalg/_special_matrices.py:154: DeprecationWarning: 'tri'/'tril/'triu' are deprecated as of SciPy 1.11.0 and will be removed in v1.13.0. Please use numpy.(tri/tril/triu) instead.\n",
            "  out = (1 - tri(m.shape[0], m.shape[1], k - 1, m.dtype.char)) * m\n",
            "/usr/local/lib/python3.10/dist-packages/scipy/linalg/_special_matrices.py:154: DeprecationWarning: 'tri'/'tril/'triu' are deprecated as of SciPy 1.11.0 and will be removed in v1.13.0. Please use numpy.(tri/tril/triu) instead.\n",
            "  out = (1 - tri(m.shape[0], m.shape[1], k - 1, m.dtype.char)) * m\n"
          ]
        },
        {
          "output_type": "stream",
          "name": "stdout",
          "text": [
            "Optimal number of topics: 2\n",
            "Topic 1: sustainable (0.4486), mobility (0.3050), transportation (0.3050), electric (0.2512), solutions (0.2153), car (0.1974), sharing (0.1794), buses (0.1615), urban (0.1435), micromobility (0.1256)\n",
            "Optimal number of topics (LDA2VEC): 4\n",
            "Topics (LDA2VEC:\n",
            "Topic (LDA2VEC) 1: sustainable, mobility, transportation, electric, solutions, car, sharing, buses, urban, micromobility\n",
            "\n",
            "Coherence Score (LDA2VE):  0.3849513692644152\n"
          ]
        },
        {
          "output_type": "stream",
          "name": "stderr",
          "text": [
            "/usr/local/lib/python3.10/dist-packages/gensim/models/lsimodel.py:963: DeprecationWarning: Please use `csc_matvecs` from the `scipy.sparse` namespace, the `scipy.sparse.sparsetools` namespace is deprecated.\n",
            "  sparsetools.csc_matvecs(\n",
            "/usr/local/lib/python3.10/dist-packages/scipy/linalg/_special_matrices.py:154: DeprecationWarning: 'tri'/'tril/'triu' are deprecated as of SciPy 1.11.0 and will be removed in v1.13.0. Please use numpy.(tri/tril/triu) instead.\n",
            "  out = (1 - tri(m.shape[0], m.shape[1], k - 1, m.dtype.char)) * m\n",
            "/usr/local/lib/python3.10/dist-packages/scipy/linalg/_special_matrices.py:154: DeprecationWarning: 'tri'/'tril/'triu' are deprecated as of SciPy 1.11.0 and will be removed in v1.13.0. Please use numpy.(tri/tril/triu) instead.\n",
            "  out = (1 - tri(m.shape[0], m.shape[1], k - 1, m.dtype.char)) * m\n",
            "/usr/local/lib/python3.10/dist-packages/scipy/linalg/_special_matrices.py:154: DeprecationWarning: 'tri'/'tril/'triu' are deprecated as of SciPy 1.11.0 and will be removed in v1.13.0. Please use numpy.(tri/tril/triu) instead.\n",
            "  out = (1 - tri(m.shape[0], m.shape[1], k - 1, m.dtype.char)) * m\n"
          ]
        },
        {
          "output_type": "stream",
          "name": "stdout",
          "text": [
            "\n",
            "Coherence Score (LDA2VE):  0.3405754918683316\n"
          ]
        },
        {
          "output_type": "stream",
          "name": "stderr",
          "text": [
            "/usr/local/lib/python3.10/dist-packages/gensim/models/lsimodel.py:963: DeprecationWarning: Please use `csc_matvecs` from the `scipy.sparse` namespace, the `scipy.sparse.sparsetools` namespace is deprecated.\n",
            "  sparsetools.csc_matvecs(\n",
            "/usr/local/lib/python3.10/dist-packages/scipy/linalg/_special_matrices.py:154: DeprecationWarning: 'tri'/'tril/'triu' are deprecated as of SciPy 1.11.0 and will be removed in v1.13.0. Please use numpy.(tri/tril/triu) instead.\n",
            "  out = (1 - tri(m.shape[0], m.shape[1], k - 1, m.dtype.char)) * m\n",
            "/usr/local/lib/python3.10/dist-packages/scipy/linalg/_special_matrices.py:154: DeprecationWarning: 'tri'/'tril/'triu' are deprecated as of SciPy 1.11.0 and will be removed in v1.13.0. Please use numpy.(tri/tril/triu) instead.\n",
            "  out = (1 - tri(m.shape[0], m.shape[1], k - 1, m.dtype.char)) * m\n",
            "/usr/local/lib/python3.10/dist-packages/scipy/linalg/_special_matrices.py:154: DeprecationWarning: 'tri'/'tril/'triu' are deprecated as of SciPy 1.11.0 and will be removed in v1.13.0. Please use numpy.(tri/tril/triu) instead.\n",
            "  out = (1 - tri(m.shape[0], m.shape[1], k - 1, m.dtype.char)) * m\n"
          ]
        },
        {
          "output_type": "stream",
          "name": "stdout",
          "text": [
            "\n",
            "Coherence Score (LDA2VE):  0.33247579208174727\n"
          ]
        },
        {
          "output_type": "stream",
          "name": "stderr",
          "text": [
            "/usr/local/lib/python3.10/dist-packages/gensim/models/lsimodel.py:963: DeprecationWarning: Please use `csc_matvecs` from the `scipy.sparse` namespace, the `scipy.sparse.sparsetools` namespace is deprecated.\n",
            "  sparsetools.csc_matvecs(\n",
            "/usr/local/lib/python3.10/dist-packages/scipy/linalg/_special_matrices.py:154: DeprecationWarning: 'tri'/'tril/'triu' are deprecated as of SciPy 1.11.0 and will be removed in v1.13.0. Please use numpy.(tri/tril/triu) instead.\n",
            "  out = (1 - tri(m.shape[0], m.shape[1], k - 1, m.dtype.char)) * m\n",
            "/usr/local/lib/python3.10/dist-packages/scipy/linalg/_special_matrices.py:154: DeprecationWarning: 'tri'/'tril/'triu' are deprecated as of SciPy 1.11.0 and will be removed in v1.13.0. Please use numpy.(tri/tril/triu) instead.\n",
            "  out = (1 - tri(m.shape[0], m.shape[1], k - 1, m.dtype.char)) * m\n",
            "/usr/local/lib/python3.10/dist-packages/scipy/linalg/_special_matrices.py:154: DeprecationWarning: 'tri'/'tril/'triu' are deprecated as of SciPy 1.11.0 and will be removed in v1.13.0. Please use numpy.(tri/tril/triu) instead.\n",
            "  out = (1 - tri(m.shape[0], m.shape[1], k - 1, m.dtype.char)) * m\n"
          ]
        },
        {
          "output_type": "stream",
          "name": "stdout",
          "text": [
            "\n",
            "Coherence Score (LDA2VE):  0.31034073209118407\n"
          ]
        },
        {
          "output_type": "stream",
          "name": "stderr",
          "text": [
            "/usr/local/lib/python3.10/dist-packages/gensim/models/lsimodel.py:963: DeprecationWarning: Please use `csc_matvecs` from the `scipy.sparse` namespace, the `scipy.sparse.sparsetools` namespace is deprecated.\n",
            "  sparsetools.csc_matvecs(\n",
            "/usr/local/lib/python3.10/dist-packages/scipy/linalg/_special_matrices.py:154: DeprecationWarning: 'tri'/'tril/'triu' are deprecated as of SciPy 1.11.0 and will be removed in v1.13.0. Please use numpy.(tri/tril/triu) instead.\n",
            "  out = (1 - tri(m.shape[0], m.shape[1], k - 1, m.dtype.char)) * m\n",
            "/usr/local/lib/python3.10/dist-packages/scipy/linalg/_special_matrices.py:154: DeprecationWarning: 'tri'/'tril/'triu' are deprecated as of SciPy 1.11.0 and will be removed in v1.13.0. Please use numpy.(tri/tril/triu) instead.\n",
            "  out = (1 - tri(m.shape[0], m.shape[1], k - 1, m.dtype.char)) * m\n",
            "/usr/local/lib/python3.10/dist-packages/scipy/linalg/_special_matrices.py:154: DeprecationWarning: 'tri'/'tril/'triu' are deprecated as of SciPy 1.11.0 and will be removed in v1.13.0. Please use numpy.(tri/tril/triu) instead.\n",
            "  out = (1 - tri(m.shape[0], m.shape[1], k - 1, m.dtype.char)) * m\n"
          ]
        },
        {
          "output_type": "stream",
          "name": "stdout",
          "text": [
            "\n",
            "Coherence Score (LDA2VE):  0.30470007259654264\n"
          ]
        },
        {
          "output_type": "stream",
          "name": "stderr",
          "text": [
            "/usr/local/lib/python3.10/dist-packages/gensim/models/lsimodel.py:963: DeprecationWarning: Please use `csc_matvecs` from the `scipy.sparse` namespace, the `scipy.sparse.sparsetools` namespace is deprecated.\n",
            "  sparsetools.csc_matvecs(\n",
            "/usr/local/lib/python3.10/dist-packages/scipy/linalg/_special_matrices.py:154: DeprecationWarning: 'tri'/'tril/'triu' are deprecated as of SciPy 1.11.0 and will be removed in v1.13.0. Please use numpy.(tri/tril/triu) instead.\n",
            "  out = (1 - tri(m.shape[0], m.shape[1], k - 1, m.dtype.char)) * m\n",
            "/usr/local/lib/python3.10/dist-packages/scipy/linalg/_special_matrices.py:154: DeprecationWarning: 'tri'/'tril/'triu' are deprecated as of SciPy 1.11.0 and will be removed in v1.13.0. Please use numpy.(tri/tril/triu) instead.\n",
            "  out = (1 - tri(m.shape[0], m.shape[1], k - 1, m.dtype.char)) * m\n",
            "/usr/local/lib/python3.10/dist-packages/scipy/linalg/_special_matrices.py:154: DeprecationWarning: 'tri'/'tril/'triu' are deprecated as of SciPy 1.11.0 and will be removed in v1.13.0. Please use numpy.(tri/tril/triu) instead.\n",
            "  out = (1 - tri(m.shape[0], m.shape[1], k - 1, m.dtype.char)) * m\n"
          ]
        },
        {
          "output_type": "stream",
          "name": "stdout",
          "text": [
            "\n",
            "Coherence Score (LDA2VE):  0.30470007259654264\n"
          ]
        },
        {
          "output_type": "stream",
          "name": "stderr",
          "text": [
            "/usr/local/lib/python3.10/dist-packages/gensim/models/lsimodel.py:963: DeprecationWarning: Please use `csc_matvecs` from the `scipy.sparse` namespace, the `scipy.sparse.sparsetools` namespace is deprecated.\n",
            "  sparsetools.csc_matvecs(\n",
            "/usr/local/lib/python3.10/dist-packages/scipy/linalg/_special_matrices.py:154: DeprecationWarning: 'tri'/'tril/'triu' are deprecated as of SciPy 1.11.0 and will be removed in v1.13.0. Please use numpy.(tri/tril/triu) instead.\n",
            "  out = (1 - tri(m.shape[0], m.shape[1], k - 1, m.dtype.char)) * m\n",
            "/usr/local/lib/python3.10/dist-packages/scipy/linalg/_special_matrices.py:154: DeprecationWarning: 'tri'/'tril/'triu' are deprecated as of SciPy 1.11.0 and will be removed in v1.13.0. Please use numpy.(tri/tril/triu) instead.\n",
            "  out = (1 - tri(m.shape[0], m.shape[1], k - 1, m.dtype.char)) * m\n",
            "/usr/local/lib/python3.10/dist-packages/scipy/linalg/_special_matrices.py:154: DeprecationWarning: 'tri'/'tril/'triu' are deprecated as of SciPy 1.11.0 and will be removed in v1.13.0. Please use numpy.(tri/tril/triu) instead.\n",
            "  out = (1 - tri(m.shape[0], m.shape[1], k - 1, m.dtype.char)) * m\n"
          ]
        },
        {
          "output_type": "stream",
          "name": "stdout",
          "text": [
            "\n",
            "Coherence Score (LDA2VE):  0.37205494083106727\n"
          ]
        },
        {
          "output_type": "stream",
          "name": "stderr",
          "text": [
            "/usr/local/lib/python3.10/dist-packages/gensim/models/lsimodel.py:963: DeprecationWarning: Please use `csc_matvecs` from the `scipy.sparse` namespace, the `scipy.sparse.sparsetools` namespace is deprecated.\n",
            "  sparsetools.csc_matvecs(\n",
            "/usr/local/lib/python3.10/dist-packages/scipy/linalg/_special_matrices.py:154: DeprecationWarning: 'tri'/'tril/'triu' are deprecated as of SciPy 1.11.0 and will be removed in v1.13.0. Please use numpy.(tri/tril/triu) instead.\n",
            "  out = (1 - tri(m.shape[0], m.shape[1], k - 1, m.dtype.char)) * m\n",
            "/usr/local/lib/python3.10/dist-packages/scipy/linalg/_special_matrices.py:154: DeprecationWarning: 'tri'/'tril/'triu' are deprecated as of SciPy 1.11.0 and will be removed in v1.13.0. Please use numpy.(tri/tril/triu) instead.\n",
            "  out = (1 - tri(m.shape[0], m.shape[1], k - 1, m.dtype.char)) * m\n",
            "/usr/local/lib/python3.10/dist-packages/scipy/linalg/_special_matrices.py:154: DeprecationWarning: 'tri'/'tril/'triu' are deprecated as of SciPy 1.11.0 and will be removed in v1.13.0. Please use numpy.(tri/tril/triu) instead.\n",
            "  out = (1 - tri(m.shape[0], m.shape[1], k - 1, m.dtype.char)) * m\n"
          ]
        },
        {
          "output_type": "stream",
          "name": "stdout",
          "text": [
            "\n",
            "Coherence Score (LDA2VE):  0.3047000725965426\n"
          ]
        },
        {
          "output_type": "stream",
          "name": "stderr",
          "text": [
            "/usr/local/lib/python3.10/dist-packages/gensim/models/lsimodel.py:963: DeprecationWarning: Please use `csc_matvecs` from the `scipy.sparse` namespace, the `scipy.sparse.sparsetools` namespace is deprecated.\n",
            "  sparsetools.csc_matvecs(\n",
            "/usr/local/lib/python3.10/dist-packages/scipy/linalg/_special_matrices.py:154: DeprecationWarning: 'tri'/'tril/'triu' are deprecated as of SciPy 1.11.0 and will be removed in v1.13.0. Please use numpy.(tri/tril/triu) instead.\n",
            "  out = (1 - tri(m.shape[0], m.shape[1], k - 1, m.dtype.char)) * m\n",
            "/usr/local/lib/python3.10/dist-packages/scipy/linalg/_special_matrices.py:154: DeprecationWarning: 'tri'/'tril/'triu' are deprecated as of SciPy 1.11.0 and will be removed in v1.13.0. Please use numpy.(tri/tril/triu) instead.\n",
            "  out = (1 - tri(m.shape[0], m.shape[1], k - 1, m.dtype.char)) * m\n",
            "/usr/local/lib/python3.10/dist-packages/scipy/linalg/_special_matrices.py:154: DeprecationWarning: 'tri'/'tril/'triu' are deprecated as of SciPy 1.11.0 and will be removed in v1.13.0. Please use numpy.(tri/tril/triu) instead.\n",
            "  out = (1 - tri(m.shape[0], m.shape[1], k - 1, m.dtype.char)) * m\n"
          ]
        },
        {
          "output_type": "stream",
          "name": "stdout",
          "text": [
            "\n",
            "Coherence Score (LDA2VE):  0.2931072062602464\n"
          ]
        },
        {
          "output_type": "stream",
          "name": "stderr",
          "text": [
            "/usr/local/lib/python3.10/dist-packages/gensim/models/lsimodel.py:963: DeprecationWarning: Please use `csc_matvecs` from the `scipy.sparse` namespace, the `scipy.sparse.sparsetools` namespace is deprecated.\n",
            "  sparsetools.csc_matvecs(\n",
            "/usr/local/lib/python3.10/dist-packages/scipy/linalg/_special_matrices.py:154: DeprecationWarning: 'tri'/'tril/'triu' are deprecated as of SciPy 1.11.0 and will be removed in v1.13.0. Please use numpy.(tri/tril/triu) instead.\n",
            "  out = (1 - tri(m.shape[0], m.shape[1], k - 1, m.dtype.char)) * m\n",
            "/usr/local/lib/python3.10/dist-packages/scipy/linalg/_special_matrices.py:154: DeprecationWarning: 'tri'/'tril/'triu' are deprecated as of SciPy 1.11.0 and will be removed in v1.13.0. Please use numpy.(tri/tril/triu) instead.\n",
            "  out = (1 - tri(m.shape[0], m.shape[1], k - 1, m.dtype.char)) * m\n",
            "/usr/local/lib/python3.10/dist-packages/scipy/linalg/_special_matrices.py:154: DeprecationWarning: 'tri'/'tril/'triu' are deprecated as of SciPy 1.11.0 and will be removed in v1.13.0. Please use numpy.(tri/tril/triu) instead.\n",
            "  out = (1 - tri(m.shape[0], m.shape[1], k - 1, m.dtype.char)) * m\n"
          ]
        },
        {
          "output_type": "stream",
          "name": "stdout",
          "text": [
            "\n",
            "Coherence Score (LDA2VE):  0.319181722602886\n"
          ]
        },
        {
          "output_type": "display_data",
          "data": {
            "text/plain": [
              "<Figure size 640x480 with 1 Axes>"
            ],
            "image/png": "[encoded data removed]"
          },
          "metadata": {}
        }
      ],
      "source": [
        "# Write your code here\n",
        "import gensim\n",
        "from gensim import corpora\n",
        "from gensim.models import CoherenceModel\n",
        "import nltk\n",
        "from nltk.corpus import stopwords\n",
        "from nltk.tokenize import word_tokenize\n",
        "\n",
        "import pyLDAvis\n",
        "import pyLDAvis.gensim\n",
        "pyLDAvis.enable_notebook()\n",
        "\n",
        "\n",
        "import re\n",
        "import numpy as np\n",
        "import string\n",
        "\n",
        "nltk.download('punkt')\n",
        "nltk.download('stopwords')\n",
        "\n",
        "\n",
        "article_text = \"\"\"\n",
        "In recent years, the global conversation surrounding sustainability has intensified, with a growing emphasis on reducing our carbon footprint. The transportation sector, known for its significant contribution to pollution, has seen a surge in the adoption of sustainable mobility solutions. Among these, electric buses, car sharing, and micro-mobility have emerged as key players in reshaping the way we navigate urban landscapes.\n",
        "\n",
        "Electric Buses: The Backbone of Eco-Friendly Public Transportation\n",
        "\n",
        "In bustling cities, the hum of traditional buses has been gradually replaced by the whisper of electric buses. These vehicles represent a fundamental shift in public transportation, offering an environmentally friendly alternative to their gas-guzzling counterparts. Electric buses run on rechargeable batteries, emitting zero tailpipe emissions, and reducing noise pollution, making them a promising solution for tackling air quality issues in densely populated areas.\n",
        "\n",
        "The integration of electric buses into public transportation networks has yielded remarkable results. Not only do they contribute to cleaner air, but they also provide a smoother and quieter ride for passengers. Moreover, with advancements in battery technology, the range and efficiency of electric buses have improved significantly, addressing concerns regarding their operational capabilities and potential limitations.\n",
        "\n",
        "Car sharing: Driving Towards a Sustainable Future\n",
        "\n",
        "As urban populations continue to swell, the demand for convenient and cost-effective transportation options has led to the rise of car sharing services. Car sharing programs enable individuals to access vehicles on an as-needed basis, eliminating the need for personal car ownership. By encouraging resource-sharing and reducing the number of cars on the road, these initiatives play a vital role in promoting sustainable mobility.\n",
        "\n",
        "The benefits of car sharing extend beyond environmental conservation. They include reduced traffic congestion, minimized parking space requirements, and lower overall transportation costs for users. Furthermore, the incorporation of electric or hybrid vehicles within car sharing fleets has further bolstered the sustainability quotient, offering users an eco-friendly alternative for their transportation needs.\n",
        "\n",
        "Micro-Mobility: Redefining Short-Distance Travel\n",
        "\n",
        "In bustling city centers, the streets have witnessed the emergence of a new mode of transportation – micro-mobility. This term encompasses various compact and lightweight modes of transport such as electric scooters, bicycles, and even electric skateboards. Designed for short-distance travel, these alternatives provide a convenient and eco-conscious solution for navigating congested urban areas.\n",
        "\n",
        "The rising popularity of micro-mobility options can be attributed to their accessibility, flexibility, and user-friendly nature. These alternatives provide an effective means of traversing short distances, lessening the dependence on traditional transportation methods for daily commutes. Moreover, their eco-friendly nature resonates with the increasing focus on curbing carbon emissions and fostering sustainable development in urban areas.\n",
        "\n",
        "The Role of Infrastructure and Policy in Promoting Sustainable Mobility\n",
        "\n",
        "The effectiveness of sustainable mobility solutions heavily relies on the existence of supportive infrastructure and conducive policies. While the proliferation of these solutions is a positive step, their success is contingent on the presence of appropriate infrastructure and well-designed policies. Developing charging infrastructure for electric buses and vehicles, along with the implementation of dedicated lanes and parking spaces, is vital in promoting the widespread adoption of eco-friendly transportation options.\n",
        "\n",
        "Furthermore, policy initiatives aimed at incentivizing the use of sustainable mobility solutions, such as tax benefits for electric vehicle users and the integration of car sharing services into urban planning strategies, can significantly influence consumer behavior and encourage the transition towards more sustainable transportation practices.\n",
        "\n",
        "Challenges and Opportunities on the Horizon\n",
        "\n",
        "Despite the evident benefits of sustainable mobility solutions, several challenges persist in their widespread implementation. These challenges include the initial costs associated with infrastructure development, the need for continued technological advancements to enhance the efficiency of electric vehicles, and the requirement for comprehensive regulatory frameworks to govern the operations of car sharing and micro-mobility services.\n",
        "\n",
        "However, these challenges also present an opportunity for innovation and collaboration within the public and private sectors. Investments in research and development, coupled with strategic partnerships between governments, businesses, and communities, can pave the way for the seamless integration of sustainable mobility solutions into the fabric of urban life.\n",
        "\n",
        "A Sustainable Future in Motion\n",
        "\n",
        "In an era where the impacts of climate change and environmental decline loom large, the importance of sustainable mobility solutions becomes ever more evident. Embracing the capabilities of electric buses, car sharing, and micro-mobility can enable cities to cultivate a transportation ecosystem that is not only cleaner and more efficient but also more inclusive, benefiting both the environment and the people who inhabit it.\n",
        "\n",
        "The journey towards sustainable mobility requires a collective effort, with stakeholders across various sectors playing a pivotal role in driving positive change. Through continued innovation, investment, and advocacy, we can pave the way for a future where mobility is not only efficient and accessible but also sustainable and environmentally conscious. Together, we can steer our cities toward a more sustainable and vibrant tomorrow.\n",
        "\n",
        "Empowering Communities through Education and Engagement\n",
        "\n",
        "Fostering community empowerment through education and engagement forms the cornerstone of successful sustainable mobility solutions. Educational programs and awareness campaigns are instrumental in cultivating a culture of sustainability, encouraging individuals to make informed choices about their transportation habits. By highlighting the benefits of environmentally friendly alternatives and showcasing their positive impact on the environment, communities can be inspired to actively participate in the transition towards sustainable mobility.\n",
        "\n",
        "Moreover, community engagement initiatives can serve as a platform for gathering valuable feedback and insights from residents, enabling policymakers and transportation authorities to tailor their strategies and solutions according to the specific needs and preferences of the local populace. By incorporating community input into the planning and development of sustainable mobility projects, cities can ensure that their efforts are not only effective but also inclusive and community-centric.\n",
        "\n",
        "Looking Ahead: The Evolution of Sustainable Mobility\n",
        "\n",
        "As technology continues to advance and societal awareness of environmental issues grows, the landscape of sustainable mobility is poised for further evolution. Continued research and development in the fields of electric vehicle technology, battery efficiency, and renewable energy sources are expected to drive significant improvements in the performance and accessibility of sustainable transportation options.\n",
        "\n",
        "Furthermore, the integration of smart technologies and data-driven solutions holds the potential to optimize the efficiency of public transportation networks, enhance the user experience of car sharing services, and streamline the operations of micro-mobility initiatives. By leveraging the power of data and analytics, cities can make data-driven decisions that lead to more effective and sustainable mobility solutions, ultimately contributing to a cleaner and more resilient urban environment.\n",
        "\n",
        "In the face of global challenges such as climate change and urbanization, the pursuit of sustainable mobility solutions remains imperative for building a more sustainable and resilient future. By embracing innovation, fostering collaboration, and prioritizing the needs of communities, cities can pave the way for a more sustainable and equitable transportation landscape, where the well-being of both the planet and its inhabitants is placed at the forefront of urban development.\"\"\"\n",
        "\n",
        "lda2vec_model = None\n",
        "\n",
        "def preprocess_text(text):\n",
        "\n",
        "    text = text.translate(str.maketrans('', '', string.punctuation)).lower()\n",
        "    tokens = word_tokenize(text)\n",
        "    stop_words = set(stopwords.words('english'))\n",
        "    tokens = [word for word in tokens if word not in stop_words]\n",
        "    return tokens\n",
        "\n",
        "\n",
        "tokens = preprocess_text(article_text)\n",
        "dictionary = corpora.Dictionary([tokens])\n",
        "corpus = [dictionary.doc2bow(tokens)]\n",
        "\n",
        "def main():\n",
        "    limit = 10\n",
        "    global lda2vec_model\n",
        "    global optimal_num_topics_lda2vec\n",
        "    coherence_scores = calculate_coherence_scores(corpus, dictionary, [tokens], limit=limit, start=2, step=1)\n",
        "    optimal_num_topics, _ = max(coherence_scores, key=lambda x: x[1])\n",
        "    lda2vec_coherence_values = compute_coherence_values_lda2vec(dictionary, corpus, [tokens], limit=10)\n",
        "    optimal_num_topics_lda2vec = np.argmax(lda2vec_coherence_values) + 2\n",
        "\n",
        "\n",
        "    lda2vec_model = gensim.models.LsiModel(corpus=corpus, id2word=dictionary, num_topics=optimal_num_topics_lda2vec)\n",
        "    topics = lda2vec_model.show_topics(formatted=False)\n",
        "\n",
        "    print(f'Optimal number of topics: {optimal_num_topics}')\n",
        "\n",
        "    for topic_id, topic in topics:\n",
        "        words = [word for word, weight in topic]\n",
        "        top_words = \", \".join([f\"{word} ({weight:.4f})\" for word, weight in topic])\n",
        "        print(f'Topic {topic_id + 1}: {top_words}')\n",
        "\n",
        "def compute_coherence_values_lda2vec(dictionary, corpus, texts, limit, start=2, step=1):\n",
        "    coherence_values = []\n",
        "    for num_topics in range(start, limit, step):\n",
        "        model = gensim.models.LsiModel(corpus=corpus, id2word=dictionary, num_topics=num_topics)\n",
        "        coherencemodel = CoherenceModel(model=model, texts=texts, dictionary=dictionary, coherence='c_v')\n",
        "        coherence_values.append(coherencemodel.get_coherence())\n",
        "        coherence_lda2vec = coherencemodel.get_coherence()\n",
        "        print('\\nCoherence Score (LDA2VE): ', coherence_lda2vec)\n",
        "    return coherence_values\n",
        "\n",
        "\n",
        "if __name__ == \"__main__\":\n",
        "    main()\n",
        "\n",
        "\n",
        "lda2vec_topics = lda2vec_model.show_topics(formatted=False)\n",
        "\n",
        "print(f\"Optimal number of topics (LDA2VEC): {optimal_num_topics_lda2vec}\")\n",
        "\n",
        "print(f\"Topics (LDA2VEC:\")\n",
        "for topic_id, topic in lsa_topics:\n",
        "    words = [word for word, _ in topic]\n",
        "    print(f\"Topic (LDA2VEC) {topic_id + 1}: {', '.join(words)}\")\n",
        "\n",
        "# Display\n",
        "import matplotlib.pyplot as plt\n",
        "\n",
        "def plot_lda2vec_coherence(corpus, dictionary, texts, start, stop, step):\n",
        "    lda2vec_coherence_values = compute_coherence_values_lda2vec(dictionary, corpus, texts, stop, start, step)\n",
        "\n",
        "    x = range(start, stop, step)\n",
        "    plt.plot(x, lda2vec_coherence_values)\n",
        "    plt.xlabel(\"Number of Topics (LDA2VEC)\")\n",
        "    plt.ylabel(\"Coherence Score (LDA2VEC)\")\n",
        "    plt.legend((\"coherence_values (LDA2VEC)\"), loc='best')\n",
        "    plt.show()\n",
        "\n",
        "\n",
        "\n",
        "start, stop, step = 2, 12, 1\n",
        "plot_lda2vec_coherence(corpus, dictionary, [tokens], start, stop, step)\n",
        "\n",
        "\n"
      ]
    },
    {
      "cell_type": "markdown",
      "metadata": {
        "id": "uRg-otYIPqVN"
      },
      "source": [
        "## (4) (10 points) Generate K topics by using BERTopic, the number of topics K should be decided by the coherence score, then summarize what are the topics. You may refer the code here:\n",
        "\n",
        "https://colab.research.google.com/drive/1FieRA9fLdkQEGDIMYl0I3MCjSUKVF8C-?usp=sharing"
      ]
    },
    {
      "cell_type": "code",
      "execution_count": 28,
      "metadata": {
        "id": "VkKxJk75PqVO",
        "colab": {
          "base_uri": "https://localhost:8080/",
          "height": 1000
        },
        "outputId": "68d30d6c-9a17-481e-bc08-f1d24a39e0ed"
      },
      "outputs": [
        {
          "output_type": "stream",
          "name": "stderr",
          "text": [
            "/usr/local/lib/python3.10/dist-packages/ipykernel/ipkernel.py:283: DeprecationWarning: `should_run_async` will not call `transform_cell` automatically in the future. Please pass the result to `transformed_cell` argument and any exception that happen during thetransform in `preprocessing_exc_tuple` in IPython 7.17 and above.\n",
            "  and should_run_async(code)\n"
          ]
        },
        {
          "output_type": "stream",
          "name": "stdout",
          "text": [
            "Collecting bertopic\n",
            "  Downloading bertopic-0.15.0-py2.py3-none-any.whl.metadata (20 kB)\n",
            "Requirement already satisfied: numpy>=1.20.0 in /usr/local/lib/python3.10/dist-packages (from bertopic) (1.26.1)\n",
            "Collecting hdbscan>=0.8.29 (from bertopic)\n",
            "  Downloading hdbscan-0.8.33.tar.gz (5.2 MB)\n",
            "\u001b[2K     \u001b[90m━━━━━━━━━━━━━━━━━━━━━━━━━━━━━━━━━━━━━━━━\u001b[0m \u001b[32m5.2/5.2 MB\u001b[0m \u001b[31m36.2 MB/s\u001b[0m eta \u001b[36m0:00:00\u001b[0m\n",
            "\u001b[?25h  Installing build dependencies ... \u001b[?25l\u001b[?25hdone\n",
            "  Getting requirements to build wheel ... \u001b[?25l\u001b[?25hdone\n",
            "  Preparing metadata (pyproject.toml) ... \u001b[?25l\u001b[?25hdone\n",
            "Collecting umap-learn>=0.5.0 (from bertopic)\n",
            "  Downloading umap-learn-0.5.4.tar.gz (90 kB)\n",
            "\u001b[2K     \u001b[90m━━━━━━━━━━━━━━━━━━━━━━━━━━━━━━━━━━━━━━━━\u001b[0m \u001b[32m90.8/90.8 kB\u001b[0m \u001b[31m6.6 MB/s\u001b[0m eta \u001b[36m0:00:00\u001b[0m\n",
            "\u001b[?25h  Preparing metadata (setup.py) ... \u001b[?25l\u001b[?25hdone\n",
            "Requirement already satisfied: pandas>=1.1.5 in /usr/local/lib/python3.10/dist-packages (from bertopic) (2.1.2)\n",
            "Requirement already satisfied: scikit-learn>=0.22.2.post1 in /usr/local/lib/python3.10/dist-packages (from bertopic) (1.2.2)\n",
            "Requirement already satisfied: tqdm>=4.41.1 in /usr/local/lib/python3.10/dist-packages (from bertopic) (4.66.1)\n",
            "Collecting sentence-transformers>=0.4.1 (from bertopic)\n",
            "  Downloading sentence-transformers-2.2.2.tar.gz (85 kB)\n",
            "\u001b[2K     \u001b[90m━━━━━━━━━━━━━━━━━━━━━━━━━━━━━━━━━━━━━━━━\u001b[0m \u001b[32m86.0/86.0 kB\u001b[0m \u001b[31m6.5 MB/s\u001b[0m eta \u001b[36m0:00:00\u001b[0m\n",
            "\u001b[?25h  Preparing metadata (setup.py) ... \u001b[?25l\u001b[?25hdone\n",
            "Requirement already satisfied: plotly>=4.7.0 in /usr/local/lib/python3.10/dist-packages (from bertopic) (5.15.0)\n",
            "Collecting cython<3,>=0.27 (from hdbscan>=0.8.29->bertopic)\n",
            "  Using cached Cython-0.29.36-cp310-cp310-manylinux_2_17_x86_64.manylinux2014_x86_64.manylinux_2_24_x86_64.whl.metadata (3.1 kB)\n",
            "Requirement already satisfied: scipy>=1.0 in /usr/local/lib/python3.10/dist-packages (from hdbscan>=0.8.29->bertopic) (1.11.3)\n",
            "Requirement already satisfied: joblib>=1.0 in /usr/local/lib/python3.10/dist-packages (from hdbscan>=0.8.29->bertopic) (1.3.2)\n",
            "Requirement already satisfied: python-dateutil>=2.8.2 in /usr/local/lib/python3.10/dist-packages (from pandas>=1.1.5->bertopic) (2.8.2)\n",
            "Requirement already satisfied: pytz>=2020.1 in /usr/local/lib/python3.10/dist-packages (from pandas>=1.1.5->bertopic) (2023.3.post1)\n",
            "Requirement already satisfied: tzdata>=2022.1 in /usr/local/lib/python3.10/dist-packages (from pandas>=1.1.5->bertopic) (2023.3)\n",
            "Requirement already satisfied: tenacity>=6.2.0 in /usr/local/lib/python3.10/dist-packages (from plotly>=4.7.0->bertopic) (8.2.3)\n",
            "Requirement already satisfied: packaging in /usr/local/lib/python3.10/dist-packages (from plotly>=4.7.0->bertopic) (23.2)\n",
            "Requirement already satisfied: threadpoolctl>=2.0.0 in /usr/local/lib/python3.10/dist-packages (from scikit-learn>=0.22.2.post1->bertopic) (3.2.0)\n",
            "Collecting transformers<5.0.0,>=4.6.0 (from sentence-transformers>=0.4.1->bertopic)\n",
            "  Downloading transformers-4.35.0-py3-none-any.whl.metadata (123 kB)\n",
            "\u001b[2K     \u001b[90m━━━━━━━━━━━━━━━━━━━━━━━━━━━━━━━━━━━━━━━━\u001b[0m \u001b[32m123.1/123.1 kB\u001b[0m \u001b[31m8.8 MB/s\u001b[0m eta \u001b[36m0:00:00\u001b[0m\n",
            "\u001b[?25hRequirement already satisfied: torch>=1.6.0 in /usr/local/lib/python3.10/dist-packages (from sentence-transformers>=0.4.1->bertopic) (2.1.0+cu118)\n",
            "Requirement already satisfied: torchvision in /usr/local/lib/python3.10/dist-packages (from sentence-transformers>=0.4.1->bertopic) (0.16.0+cu118)\n",
            "Requirement already satisfied: nltk in /usr/local/lib/python3.10/dist-packages (from sentence-transformers>=0.4.1->bertopic) (3.8.1)\n",
            "Collecting sentencepiece (from sentence-transformers>=0.4.1->bertopic)\n",
            "  Downloading sentencepiece-0.1.99-cp310-cp310-manylinux_2_17_x86_64.manylinux2014_x86_64.whl (1.3 MB)\n",
            "\u001b[2K     \u001b[90m━━━━━━━━━━━━━━━━━━━━━━━━━━━━━━━━━━━━━━━━\u001b[0m \u001b[32m1.3/1.3 MB\u001b[0m \u001b[31m48.8 MB/s\u001b[0m eta \u001b[36m0:00:00\u001b[0m\n",
            "\u001b[?25hCollecting huggingface-hub>=0.4.0 (from sentence-transformers>=0.4.1->bertopic)\n",
            "  Downloading huggingface_hub-0.18.0-py3-none-any.whl.metadata (13 kB)\n",
            "Requirement already satisfied: numba>=0.51.2 in /usr/local/lib/python3.10/dist-packages (from umap-learn>=0.5.0->bertopic) (0.56.4)\n",
            "Collecting pynndescent>=0.5 (from umap-learn>=0.5.0->bertopic)\n",
            "  Downloading pynndescent-0.5.10.tar.gz (1.1 MB)\n",
            "\u001b[2K     \u001b[90m━━━━━━━━━━━━━━━━━━━━━━━━━━━━━━━━━━━━━━━━\u001b[0m \u001b[32m1.1/1.1 MB\u001b[0m \u001b[31m45.2 MB/s\u001b[0m eta \u001b[36m0:00:00\u001b[0m\n",
            "\u001b[?25h  Preparing metadata (setup.py) ... \u001b[?25l\u001b[?25hdone\n",
            "Requirement already satisfied: tbb>=2019.0 in /usr/local/lib/python3.10/dist-packages (from umap-learn>=0.5.0->bertopic) (2021.10.0)\n",
            "Requirement already satisfied: filelock in /usr/local/lib/python3.10/dist-packages (from huggingface-hub>=0.4.0->sentence-transformers>=0.4.1->bertopic) (3.12.4)\n",
            "Requirement already satisfied: fsspec>=2023.5.0 in /usr/local/lib/python3.10/dist-packages (from huggingface-hub>=0.4.0->sentence-transformers>=0.4.1->bertopic) (2023.6.0)\n",
            "Requirement already satisfied: requests in /usr/local/lib/python3.10/dist-packages (from huggingface-hub>=0.4.0->sentence-transformers>=0.4.1->bertopic) (2.31.0)\n",
            "Requirement already satisfied: pyyaml>=5.1 in /usr/local/lib/python3.10/dist-packages (from huggingface-hub>=0.4.0->sentence-transformers>=0.4.1->bertopic) (6.0.1)\n",
            "Requirement already satisfied: typing-extensions>=3.7.4.3 in /usr/local/lib/python3.10/dist-packages (from huggingface-hub>=0.4.0->sentence-transformers>=0.4.1->bertopic) (4.5.0)\n",
            "Requirement already satisfied: llvmlite<0.40,>=0.39.0dev0 in /usr/local/lib/python3.10/dist-packages (from numba>=0.51.2->umap-learn>=0.5.0->bertopic) (0.39.1)\n",
            "Collecting numpy>=1.20.0 (from bertopic)\n",
            "  Downloading numpy-1.23.5-cp310-cp310-manylinux_2_17_x86_64.manylinux2014_x86_64.whl (17.1 MB)\n",
            "\u001b[2K     \u001b[90m━━━━━━━━━━━━━━━━━━━━━━━━━━━━━━━━━━━━━━━━\u001b[0m \u001b[32m17.1/17.1 MB\u001b[0m \u001b[31m61.0 MB/s\u001b[0m eta \u001b[36m0:00:00\u001b[0m\n",
            "\u001b[?25hRequirement already satisfied: setuptools in /usr/local/lib/python3.10/dist-packages (from numba>=0.51.2->umap-learn>=0.5.0->bertopic) (67.7.2)\n",
            "Requirement already satisfied: six>=1.5 in /usr/local/lib/python3.10/dist-packages (from python-dateutil>=2.8.2->pandas>=1.1.5->bertopic) (1.16.0)\n",
            "Requirement already satisfied: sympy in /usr/local/lib/python3.10/dist-packages (from torch>=1.6.0->sentence-transformers>=0.4.1->bertopic) (1.12)\n",
            "Requirement already satisfied: networkx in /usr/local/lib/python3.10/dist-packages (from torch>=1.6.0->sentence-transformers>=0.4.1->bertopic) (3.2)\n",
            "Requirement already satisfied: jinja2 in /usr/local/lib/python3.10/dist-packages (from torch>=1.6.0->sentence-transformers>=0.4.1->bertopic) (3.1.2)\n",
            "Requirement already satisfied: triton==2.1.0 in /usr/local/lib/python3.10/dist-packages (from torch>=1.6.0->sentence-transformers>=0.4.1->bertopic) (2.1.0)\n",
            "Requirement already satisfied: regex!=2019.12.17 in /usr/local/lib/python3.10/dist-packages (from transformers<5.0.0,>=4.6.0->sentence-transformers>=0.4.1->bertopic) (2023.6.3)\n",
            "Collecting tokenizers<0.15,>=0.14 (from transformers<5.0.0,>=4.6.0->sentence-transformers>=0.4.1->bertopic)\n",
            "  Downloading tokenizers-0.14.1-cp310-cp310-manylinux_2_17_x86_64.manylinux2014_x86_64.whl.metadata (6.7 kB)\n",
            "Collecting safetensors>=0.3.1 (from transformers<5.0.0,>=4.6.0->sentence-transformers>=0.4.1->bertopic)\n",
            "  Downloading safetensors-0.4.0-cp310-cp310-manylinux_2_17_x86_64.manylinux2014_x86_64.whl.metadata (3.8 kB)\n",
            "Requirement already satisfied: click in /usr/local/lib/python3.10/dist-packages (from nltk->sentence-transformers>=0.4.1->bertopic) (8.1.7)\n",
            "Requirement already satisfied: pillow!=8.3.*,>=5.3.0 in /usr/local/lib/python3.10/dist-packages (from torchvision->sentence-transformers>=0.4.1->bertopic) (9.4.0)\n",
            "Collecting huggingface-hub>=0.4.0 (from sentence-transformers>=0.4.1->bertopic)\n",
            "  Downloading huggingface_hub-0.17.3-py3-none-any.whl.metadata (13 kB)\n",
            "Requirement already satisfied: MarkupSafe>=2.0 in /usr/local/lib/python3.10/dist-packages (from jinja2->torch>=1.6.0->sentence-transformers>=0.4.1->bertopic) (2.1.3)\n",
            "Requirement already satisfied: charset-normalizer<4,>=2 in /usr/local/lib/python3.10/dist-packages (from requests->huggingface-hub>=0.4.0->sentence-transformers>=0.4.1->bertopic) (3.3.1)\n",
            "Requirement already satisfied: idna<4,>=2.5 in /usr/local/lib/python3.10/dist-packages (from requests->huggingface-hub>=0.4.0->sentence-transformers>=0.4.1->bertopic) (3.4)\n",
            "Requirement already satisfied: urllib3<3,>=1.21.1 in /usr/local/lib/python3.10/dist-packages (from requests->huggingface-hub>=0.4.0->sentence-transformers>=0.4.1->bertopic) (2.0.7)\n",
            "Requirement already satisfied: certifi>=2017.4.17 in /usr/local/lib/python3.10/dist-packages (from requests->huggingface-hub>=0.4.0->sentence-transformers>=0.4.1->bertopic) (2023.7.22)\n",
            "Requirement already satisfied: mpmath>=0.19 in /usr/local/lib/python3.10/dist-packages (from sympy->torch>=1.6.0->sentence-transformers>=0.4.1->bertopic) (1.3.0)\n",
            "Downloading bertopic-0.15.0-py2.py3-none-any.whl (143 kB)\n",
            "\u001b[2K   \u001b[90m━━━━━━━━━━━━━━━━━━━━━━━━━━━━━━━━━━━━━━━━\u001b[0m \u001b[32m143.4/143.4 kB\u001b[0m \u001b[31m8.3 MB/s\u001b[0m eta \u001b[36m0:00:00\u001b[0m\n",
            "\u001b[?25hUsing cached Cython-0.29.36-cp310-cp310-manylinux_2_17_x86_64.manylinux2014_x86_64.manylinux_2_24_x86_64.whl (1.9 MB)\n",
            "Downloading transformers-4.35.0-py3-none-any.whl (7.9 MB)\n",
            "\u001b[2K   \u001b[90m━━━━━━━━━━━━━━━━━━━━━━━━━━━━━━━━━━━━━━━━\u001b[0m \u001b[32m7.9/7.9 MB\u001b[0m \u001b[31m62.8 MB/s\u001b[0m eta \u001b[36m0:00:00\u001b[0m\n",
            "\u001b[?25hDownloading safetensors-0.4.0-cp310-cp310-manylinux_2_17_x86_64.manylinux2014_x86_64.whl (1.3 MB)\n",
            "\u001b[2K   \u001b[90m━━━━━━━━━━━━━━━━━━━━━━━━━━━━━━━━━━━━━━━━\u001b[0m \u001b[32m1.3/1.3 MB\u001b[0m \u001b[31m49.9 MB/s\u001b[0m eta \u001b[36m0:00:00\u001b[0m\n",
            "\u001b[?25hDownloading tokenizers-0.14.1-cp310-cp310-manylinux_2_17_x86_64.manylinux2014_x86_64.whl (3.8 MB)\n",
            "\u001b[2K   \u001b[90m━━━━━━━━━━━━━━━━━━━━━━━━━━━━━━━━━━━━━━━━\u001b[0m \u001b[32m3.8/3.8 MB\u001b[0m \u001b[31m63.8 MB/s\u001b[0m eta \u001b[36m0:00:00\u001b[0m\n",
            "\u001b[?25hDownloading huggingface_hub-0.17.3-py3-none-any.whl (295 kB)\n",
            "\u001b[2K   \u001b[90m━━━━━━━━━━━━━━━━━━━━━━━━━━━━━━━━━━━━━━━━\u001b[0m \u001b[32m295.0/295.0 kB\u001b[0m \u001b[31m17.5 MB/s\u001b[0m eta \u001b[36m0:00:00\u001b[0m\n",
            "\u001b[?25hBuilding wheels for collected packages: hdbscan, sentence-transformers, umap-learn, pynndescent\n",
            "  Building wheel for hdbscan (pyproject.toml) ... \u001b[?25l\u001b[?25hdone\n",
            "  Created wheel for hdbscan: filename=hdbscan-0.8.33-cp310-cp310-linux_x86_64.whl size=3039180 sha256=8cebf79ce1671e65171b975fd3d92c082a1cdd3b370ab044c11abbea557db198\n",
            "  Stored in directory: /root/.cache/pip/wheels/75/0b/3b/dc4f60b7cc455efaefb62883a7483e76f09d06ca81cf87d610\n",
            "  Building wheel for sentence-transformers (setup.py) ... \u001b[?25l\u001b[?25hdone\n",
            "  Created wheel for sentence-transformers: filename=sentence_transformers-2.2.2-py3-none-any.whl size=125923 sha256=1152cdedb61b0ab933ee423442db4f75713df4c21fde06478901e445e59a0557\n",
            "  Stored in directory: /root/.cache/pip/wheels/62/f2/10/1e606fd5f02395388f74e7462910fe851042f97238cbbd902f\n",
            "  Building wheel for umap-learn (setup.py) ... \u001b[?25l\u001b[?25hdone\n",
            "  Created wheel for umap-learn: filename=umap_learn-0.5.4-py3-none-any.whl size=86770 sha256=55a5800ec0b14ed8f92395d43b35a9765b0422a0b08d24717214ff0cee268e4a\n",
            "  Stored in directory: /root/.cache/pip/wheels/fb/66/29/199acf5784d0f7b8add6d466175ab45506c96e386ed5dd0633\n",
            "  Building wheel for pynndescent (setup.py) ... \u001b[?25l\u001b[?25hdone\n",
            "  Created wheel for pynndescent: filename=pynndescent-0.5.10-py3-none-any.whl size=55615 sha256=ece22e8e70da1532a9f35417dbe0c988639eed76e569adfce57f2415b537a38e\n",
            "  Stored in directory: /root/.cache/pip/wheels/4a/38/5d/f60a40a66a9512b7e5e83517ebc2d1b42d857be97d135f1096\n",
            "Successfully built hdbscan sentence-transformers umap-learn pynndescent\n",
            "Installing collected packages: sentencepiece, safetensors, numpy, cython, huggingface-hub, tokenizers, transformers, pynndescent, hdbscan, umap-learn, sentence-transformers, bertopic\n",
            "  Attempting uninstall: numpy\n",
            "    Found existing installation: numpy 1.26.1\n",
            "    Uninstalling numpy-1.26.1:\n",
            "      Successfully uninstalled numpy-1.26.1\n",
            "  Attempting uninstall: cython\n",
            "    Found existing installation: Cython 3.0.4\n",
            "    Uninstalling Cython-3.0.4:\n",
            "      Successfully uninstalled Cython-3.0.4\n",
            "\u001b[31mERROR: pip's dependency resolver does not currently take into account all the packages that are installed. This behaviour is the source of the following dependency conflicts.\n",
            "lida 0.0.10 requires fastapi, which is not installed.\n",
            "lida 0.0.10 requires kaleido, which is not installed.\n",
            "lida 0.0.10 requires python-multipart, which is not installed.\n",
            "lida 0.0.10 requires uvicorn, which is not installed.\n",
            "pyldavis 3.4.1 requires numpy>=1.24.2, but you have numpy 1.23.5 which is incompatible.\u001b[0m\u001b[31m\n",
            "\u001b[0mSuccessfully installed bertopic-0.15.0 cython-0.29.36 hdbscan-0.8.33 huggingface-hub-0.17.3 numpy-1.23.5 pynndescent-0.5.10 safetensors-0.4.0 sentence-transformers-2.2.2 sentencepiece-0.1.99 tokenizers-0.14.1 transformers-4.35.0 umap-learn-0.5.4\n",
            "\u001b[33mWARNING: Running pip as the 'root' user can result in broken permissions and conflicting behaviour with the system package manager. It is recommended to use a virtual environment instead: https://pip.pypa.io/warnings/venv\u001b[0m\u001b[33m\n",
            "\u001b[0m"
          ]
        },
        {
          "output_type": "display_data",
          "data": {
            "application/vnd.colab-display-data+json": {
              "pip_warning": {
                "packages": [
                  "numpy"
                ]
              }
            }
          },
          "metadata": {}
        },
        {
          "output_type": "stream",
          "name": "stdout",
          "text": [
            "Requirement already satisfied: spacy in /usr/local/lib/python3.10/dist-packages (3.6.1)\n",
            "Collecting spacy\n",
            "  Downloading spacy-3.7.2-cp310-cp310-manylinux_2_17_x86_64.manylinux2014_x86_64.whl.metadata (25 kB)\n",
            "Requirement already satisfied: spacy-legacy<3.1.0,>=3.0.11 in /usr/local/lib/python3.10/dist-packages (from spacy) (3.0.12)\n",
            "Requirement already satisfied: spacy-loggers<2.0.0,>=1.0.0 in /usr/local/lib/python3.10/dist-packages (from spacy) (1.0.5)\n",
            "Requirement already satisfied: murmurhash<1.1.0,>=0.28.0 in /usr/local/lib/python3.10/dist-packages (from spacy) (1.0.10)\n",
            "Requirement already satisfied: cymem<2.1.0,>=2.0.2 in /usr/local/lib/python3.10/dist-packages (from spacy) (2.0.8)\n",
            "Requirement already satisfied: preshed<3.1.0,>=3.0.2 in /usr/local/lib/python3.10/dist-packages (from spacy) (3.0.9)\n",
            "Requirement already satisfied: thinc<8.3.0,>=8.1.8 in /usr/local/lib/python3.10/dist-packages (from spacy) (8.1.12)\n",
            "Requirement already satisfied: wasabi<1.2.0,>=0.9.1 in /usr/local/lib/python3.10/dist-packages (from spacy) (1.1.2)\n",
            "Requirement already satisfied: srsly<3.0.0,>=2.4.3 in /usr/local/lib/python3.10/dist-packages (from spacy) (2.4.8)\n",
            "Requirement already satisfied: catalogue<2.1.0,>=2.0.6 in /usr/local/lib/python3.10/dist-packages (from spacy) (2.0.10)\n",
            "Collecting weasel<0.4.0,>=0.1.0 (from spacy)\n",
            "  Downloading weasel-0.3.3-py3-none-any.whl.metadata (4.7 kB)\n",
            "Requirement already satisfied: typer<0.10.0,>=0.3.0 in /usr/local/lib/python3.10/dist-packages (from spacy) (0.9.0)\n",
            "Requirement already satisfied: smart-open<7.0.0,>=5.2.1 in /usr/local/lib/python3.10/dist-packages (from spacy) (6.4.0)\n",
            "Requirement already satisfied: tqdm<5.0.0,>=4.38.0 in /usr/local/lib/python3.10/dist-packages (from spacy) (4.66.1)\n",
            "Requirement already satisfied: requests<3.0.0,>=2.13.0 in /usr/local/lib/python3.10/dist-packages (from spacy) (2.31.0)\n",
            "Requirement already satisfied: pydantic!=1.8,!=1.8.1,<3.0.0,>=1.7.4 in /usr/local/lib/python3.10/dist-packages (from spacy) (1.10.13)\n",
            "Requirement already satisfied: jinja2 in /usr/local/lib/python3.10/dist-packages (from spacy) (3.1.2)\n",
            "Requirement already satisfied: setuptools in /usr/local/lib/python3.10/dist-packages (from spacy) (67.7.2)\n",
            "Requirement already satisfied: packaging>=20.0 in /usr/local/lib/python3.10/dist-packages (from spacy) (23.2)\n",
            "Requirement already satisfied: langcodes<4.0.0,>=3.2.0 in /usr/local/lib/python3.10/dist-packages (from spacy) (3.3.0)\n",
            "Requirement already satisfied: numpy>=1.19.0 in /usr/local/lib/python3.10/dist-packages (from spacy) (1.23.5)\n",
            "Requirement already satisfied: typing-extensions>=4.2.0 in /usr/local/lib/python3.10/dist-packages (from pydantic!=1.8,!=1.8.1,<3.0.0,>=1.7.4->spacy) (4.5.0)\n",
            "Requirement already satisfied: charset-normalizer<4,>=2 in /usr/local/lib/python3.10/dist-packages (from requests<3.0.0,>=2.13.0->spacy) (3.3.1)\n",
            "Requirement already satisfied: idna<4,>=2.5 in /usr/local/lib/python3.10/dist-packages (from requests<3.0.0,>=2.13.0->spacy) (3.4)\n",
            "Requirement already satisfied: urllib3<3,>=1.21.1 in /usr/local/lib/python3.10/dist-packages (from requests<3.0.0,>=2.13.0->spacy) (2.0.7)\n",
            "Requirement already satisfied: certifi>=2017.4.17 in /usr/local/lib/python3.10/dist-packages (from requests<3.0.0,>=2.13.0->spacy) (2023.7.22)\n",
            "Requirement already satisfied: blis<0.8.0,>=0.7.8 in /usr/local/lib/python3.10/dist-packages (from thinc<8.3.0,>=8.1.8->spacy) (0.7.11)\n",
            "Requirement already satisfied: confection<1.0.0,>=0.0.1 in /usr/local/lib/python3.10/dist-packages (from thinc<8.3.0,>=8.1.8->spacy) (0.1.3)\n",
            "Requirement already satisfied: click<9.0.0,>=7.1.1 in /usr/local/lib/python3.10/dist-packages (from typer<0.10.0,>=0.3.0->spacy) (8.1.7)\n",
            "Collecting cloudpathlib<0.17.0,>=0.7.0 (from weasel<0.4.0,>=0.1.0->spacy)\n",
            "  Downloading cloudpathlib-0.16.0-py3-none-any.whl.metadata (14 kB)\n",
            "Requirement already satisfied: MarkupSafe>=2.0 in /usr/local/lib/python3.10/dist-packages (from jinja2->spacy) (2.1.3)\n",
            "Downloading spacy-3.7.2-cp310-cp310-manylinux_2_17_x86_64.manylinux2014_x86_64.whl (6.6 MB)\n",
            "\u001b[2K   \u001b[90m━━━━━━━━━━━━━━━━━━━━━━━━━━━━━━━━━━━━━━━━\u001b[0m \u001b[32m6.6/6.6 MB\u001b[0m \u001b[31m56.9 MB/s\u001b[0m eta \u001b[36m0:00:00\u001b[0m\n",
            "\u001b[?25hDownloading weasel-0.3.3-py3-none-any.whl (49 kB)\n",
            "\u001b[2K   \u001b[90m━━━━━━━━━━━━━━━━━━━━━━━━━━━━━━━━━━━━━━━━\u001b[0m \u001b[32m49.8/49.8 kB\u001b[0m \u001b[31m3.6 MB/s\u001b[0m eta \u001b[36m0:00:00\u001b[0m\n",
            "\u001b[?25hDownloading cloudpathlib-0.16.0-py3-none-any.whl (45 kB)\n",
            "\u001b[2K   \u001b[90m━━━━━━━━━━━━━━━━━━━━━━━━━━━━━━━━━━━━━━━━\u001b[0m \u001b[32m45.0/45.0 kB\u001b[0m \u001b[31m3.2 MB/s\u001b[0m eta \u001b[36m0:00:00\u001b[0m\n",
            "\u001b[?25hInstalling collected packages: cloudpathlib, weasel, spacy\n",
            "  Attempting uninstall: spacy\n",
            "    Found existing installation: spacy 3.6.1\n",
            "    Uninstalling spacy-3.6.1:\n",
            "      Successfully uninstalled spacy-3.6.1\n",
            "\u001b[31mERROR: pip's dependency resolver does not currently take into account all the packages that are installed. This behaviour is the source of the following dependency conflicts.\n",
            "en-core-web-sm 3.6.0 requires spacy<3.7.0,>=3.6.0, but you have spacy 3.7.2 which is incompatible.\u001b[0m\u001b[31m\n",
            "\u001b[0mSuccessfully installed cloudpathlib-0.16.0 spacy-3.7.2 weasel-0.3.3\n",
            "\u001b[33mWARNING: Running pip as the 'root' user can result in broken permissions and conflicting behaviour with the system package manager. It is recommended to use a virtual environment instead: https://pip.pypa.io/warnings/venv\u001b[0m\u001b[33m\n",
            "\u001b[0mRequirement already satisfied: spacy in /usr/local/lib/python3.10/dist-packages (3.7.2)\n",
            "Requirement already satisfied: spacy-legacy<3.1.0,>=3.0.11 in /usr/local/lib/python3.10/dist-packages (from spacy) (3.0.12)\n",
            "Requirement already satisfied: spacy-loggers<2.0.0,>=1.0.0 in /usr/local/lib/python3.10/dist-packages (from spacy) (1.0.5)\n",
            "Requirement already satisfied: murmurhash<1.1.0,>=0.28.0 in /usr/local/lib/python3.10/dist-packages (from spacy) (1.0.10)\n",
            "Requirement already satisfied: cymem<2.1.0,>=2.0.2 in /usr/local/lib/python3.10/dist-packages (from spacy) (2.0.8)\n",
            "Requirement already satisfied: preshed<3.1.0,>=3.0.2 in /usr/local/lib/python3.10/dist-packages (from spacy) (3.0.9)\n",
            "Requirement already satisfied: thinc<8.3.0,>=8.1.8 in /usr/local/lib/python3.10/dist-packages (from spacy) (8.1.12)\n",
            "Requirement already satisfied: wasabi<1.2.0,>=0.9.1 in /usr/local/lib/python3.10/dist-packages (from spacy) (1.1.2)\n",
            "Requirement already satisfied: srsly<3.0.0,>=2.4.3 in /usr/local/lib/python3.10/dist-packages (from spacy) (2.4.8)\n",
            "Requirement already satisfied: catalogue<2.1.0,>=2.0.6 in /usr/local/lib/python3.10/dist-packages (from spacy) (2.0.10)\n",
            "Requirement already satisfied: weasel<0.4.0,>=0.1.0 in /usr/local/lib/python3.10/dist-packages (from spacy) (0.3.3)\n",
            "Requirement already satisfied: typer<0.10.0,>=0.3.0 in /usr/local/lib/python3.10/dist-packages (from spacy) (0.9.0)\n",
            "Requirement already satisfied: smart-open<7.0.0,>=5.2.1 in /usr/local/lib/python3.10/dist-packages (from spacy) (6.4.0)\n",
            "Requirement already satisfied: tqdm<5.0.0,>=4.38.0 in /usr/local/lib/python3.10/dist-packages (from spacy) (4.66.1)\n",
            "Requirement already satisfied: requests<3.0.0,>=2.13.0 in /usr/local/lib/python3.10/dist-packages (from spacy) (2.31.0)\n",
            "Requirement already satisfied: pydantic!=1.8,!=1.8.1,<3.0.0,>=1.7.4 in /usr/local/lib/python3.10/dist-packages (from spacy) (1.10.13)\n",
            "Requirement already satisfied: jinja2 in /usr/local/lib/python3.10/dist-packages (from spacy) (3.1.2)\n",
            "Requirement already satisfied: setuptools in /usr/local/lib/python3.10/dist-packages (from spacy) (67.7.2)\n",
            "Requirement already satisfied: packaging>=20.0 in /usr/local/lib/python3.10/dist-packages (from spacy) (23.2)\n",
            "Requirement already satisfied: langcodes<4.0.0,>=3.2.0 in /usr/local/lib/python3.10/dist-packages (from spacy) (3.3.0)\n",
            "Requirement already satisfied: numpy>=1.19.0 in /usr/local/lib/python3.10/dist-packages (from spacy) (1.23.5)\n",
            "Requirement already satisfied: typing-extensions>=4.2.0 in /usr/local/lib/python3.10/dist-packages (from pydantic!=1.8,!=1.8.1,<3.0.0,>=1.7.4->spacy) (4.5.0)\n",
            "Requirement already satisfied: charset-normalizer<4,>=2 in /usr/local/lib/python3.10/dist-packages (from requests<3.0.0,>=2.13.0->spacy) (3.3.1)\n",
            "Requirement already satisfied: idna<4,>=2.5 in /usr/local/lib/python3.10/dist-packages (from requests<3.0.0,>=2.13.0->spacy) (3.4)\n",
            "Requirement already satisfied: urllib3<3,>=1.21.1 in /usr/local/lib/python3.10/dist-packages (from requests<3.0.0,>=2.13.0->spacy) (2.0.7)\n",
            "Requirement already satisfied: certifi>=2017.4.17 in /usr/local/lib/python3.10/dist-packages (from requests<3.0.0,>=2.13.0->spacy) (2023.7.22)\n",
            "Requirement already satisfied: blis<0.8.0,>=0.7.8 in /usr/local/lib/python3.10/dist-packages (from thinc<8.3.0,>=8.1.8->spacy) (0.7.11)\n",
            "Requirement already satisfied: confection<1.0.0,>=0.0.1 in /usr/local/lib/python3.10/dist-packages (from thinc<8.3.0,>=8.1.8->spacy) (0.1.3)\n",
            "Requirement already satisfied: click<9.0.0,>=7.1.1 in /usr/local/lib/python3.10/dist-packages (from typer<0.10.0,>=0.3.0->spacy) (8.1.7)\n",
            "Requirement already satisfied: cloudpathlib<0.17.0,>=0.7.0 in /usr/local/lib/python3.10/dist-packages (from weasel<0.4.0,>=0.1.0->spacy) (0.16.0)\n",
            "Requirement already satisfied: MarkupSafe>=2.0 in /usr/local/lib/python3.10/dist-packages (from jinja2->spacy) (2.1.3)\n",
            "\u001b[33mWARNING: Running pip as the 'root' user can result in broken permissions and conflicting behaviour with the system package manager. It is recommended to use a virtual environment instead: https://pip.pypa.io/warnings/venv\u001b[0m\u001b[33m\n",
            "\u001b[0m2023-11-06 03:08:13.605574: E tensorflow/compiler/xla/stream_executor/cuda/cuda_dnn.cc:9342] Unable to register cuDNN factory: Attempting to register factory for plugin cuDNN when one has already been registered\n",
            "2023-11-06 03:08:13.605652: E tensorflow/compiler/xla/stream_executor/cuda/cuda_fft.cc:609] Unable to register cuFFT factory: Attempting to register factory for plugin cuFFT when one has already been registered\n",
            "2023-11-06 03:08:13.605686: E tensorflow/compiler/xla/stream_executor/cuda/cuda_blas.cc:1518] Unable to register cuBLAS factory: Attempting to register factory for plugin cuBLAS when one has already been registered\n",
            "2023-11-06 03:08:13.616125: I tensorflow/core/platform/cpu_feature_guard.cc:182] This TensorFlow binary is optimized to use available CPU instructions in performance-critical operations.\n",
            "To enable the following instructions: AVX2 FMA, in other operations, rebuild TensorFlow with the appropriate compiler flags.\n",
            "2023-11-06 03:08:14.790096: W tensorflow/compiler/tf2tensorrt/utils/py_utils.cc:38] TF-TRT Warning: Could not find TensorRT\n",
            "Collecting en-core-web-sm==3.7.0\n",
            "  Downloading https://github.com/explosion/spacy-models/releases/download/en_core_web_sm-3.7.0/en_core_web_sm-3.7.0-py3-none-any.whl (12.8 MB)\n",
            "\u001b[2K     \u001b[90m━━━━━━━━━━━━━━━━━━━━━━━━━━━━━━━━━━━━━━━━\u001b[0m \u001b[32m12.8/12.8 MB\u001b[0m \u001b[31m83.1 MB/s\u001b[0m eta \u001b[36m0:00:00\u001b[0m\n",
            "\u001b[?25hRequirement already satisfied: spacy<3.8.0,>=3.7.0 in /usr/local/lib/python3.10/dist-packages (from en-core-web-sm==3.7.0) (3.7.2)\n",
            "Requirement already satisfied: spacy-legacy<3.1.0,>=3.0.11 in /usr/local/lib/python3.10/dist-packages (from spacy<3.8.0,>=3.7.0->en-core-web-sm==3.7.0) (3.0.12)\n",
            "Requirement already satisfied: spacy-loggers<2.0.0,>=1.0.0 in /usr/local/lib/python3.10/dist-packages (from spacy<3.8.0,>=3.7.0->en-core-web-sm==3.7.0) (1.0.5)\n",
            "Requirement already satisfied: murmurhash<1.1.0,>=0.28.0 in /usr/local/lib/python3.10/dist-packages (from spacy<3.8.0,>=3.7.0->en-core-web-sm==3.7.0) (1.0.10)\n",
            "Requirement already satisfied: cymem<2.1.0,>=2.0.2 in /usr/local/lib/python3.10/dist-packages (from spacy<3.8.0,>=3.7.0->en-core-web-sm==3.7.0) (2.0.8)\n",
            "Requirement already satisfied: preshed<3.1.0,>=3.0.2 in /usr/local/lib/python3.10/dist-packages (from spacy<3.8.0,>=3.7.0->en-core-web-sm==3.7.0) (3.0.9)\n",
            "Requirement already satisfied: thinc<8.3.0,>=8.1.8 in /usr/local/lib/python3.10/dist-packages (from spacy<3.8.0,>=3.7.0->en-core-web-sm==3.7.0) (8.1.12)\n",
            "Requirement already satisfied: wasabi<1.2.0,>=0.9.1 in /usr/local/lib/python3.10/dist-packages (from spacy<3.8.0,>=3.7.0->en-core-web-sm==3.7.0) (1.1.2)\n",
            "Requirement already satisfied: srsly<3.0.0,>=2.4.3 in /usr/local/lib/python3.10/dist-packages (from spacy<3.8.0,>=3.7.0->en-core-web-sm==3.7.0) (2.4.8)\n",
            "Requirement already satisfied: catalogue<2.1.0,>=2.0.6 in /usr/local/lib/python3.10/dist-packages (from spacy<3.8.0,>=3.7.0->en-core-web-sm==3.7.0) (2.0.10)\n",
            "Requirement already satisfied: weasel<0.4.0,>=0.1.0 in /usr/local/lib/python3.10/dist-packages (from spacy<3.8.0,>=3.7.0->en-core-web-sm==3.7.0) (0.3.3)\n",
            "Requirement already satisfied: typer<0.10.0,>=0.3.0 in /usr/local/lib/python3.10/dist-packages (from spacy<3.8.0,>=3.7.0->en-core-web-sm==3.7.0) (0.9.0)\n",
            "Requirement already satisfied: smart-open<7.0.0,>=5.2.1 in /usr/local/lib/python3.10/dist-packages (from spacy<3.8.0,>=3.7.0->en-core-web-sm==3.7.0) (6.4.0)\n",
            "Requirement already satisfied: tqdm<5.0.0,>=4.38.0 in /usr/local/lib/python3.10/dist-packages (from spacy<3.8.0,>=3.7.0->en-core-web-sm==3.7.0) (4.66.1)\n",
            "Requirement already satisfied: requests<3.0.0,>=2.13.0 in /usr/local/lib/python3.10/dist-packages (from spacy<3.8.0,>=3.7.0->en-core-web-sm==3.7.0) (2.31.0)\n",
            "Requirement already satisfied: pydantic!=1.8,!=1.8.1,<3.0.0,>=1.7.4 in /usr/local/lib/python3.10/dist-packages (from spacy<3.8.0,>=3.7.0->en-core-web-sm==3.7.0) (1.10.13)\n",
            "Requirement already satisfied: jinja2 in /usr/local/lib/python3.10/dist-packages (from spacy<3.8.0,>=3.7.0->en-core-web-sm==3.7.0) (3.1.2)\n",
            "Requirement already satisfied: setuptools in /usr/local/lib/python3.10/dist-packages (from spacy<3.8.0,>=3.7.0->en-core-web-sm==3.7.0) (67.7.2)\n",
            "Requirement already satisfied: packaging>=20.0 in /usr/local/lib/python3.10/dist-packages (from spacy<3.8.0,>=3.7.0->en-core-web-sm==3.7.0) (23.2)\n",
            "Requirement already satisfied: langcodes<4.0.0,>=3.2.0 in /usr/local/lib/python3.10/dist-packages (from spacy<3.8.0,>=3.7.0->en-core-web-sm==3.7.0) (3.3.0)\n",
            "Requirement already satisfied: numpy>=1.19.0 in /usr/local/lib/python3.10/dist-packages (from spacy<3.8.0,>=3.7.0->en-core-web-sm==3.7.0) (1.23.5)\n",
            "Requirement already satisfied: typing-extensions>=4.2.0 in /usr/local/lib/python3.10/dist-packages (from pydantic!=1.8,!=1.8.1,<3.0.0,>=1.7.4->spacy<3.8.0,>=3.7.0->en-core-web-sm==3.7.0) (4.5.0)\n",
            "Requirement already satisfied: charset-normalizer<4,>=2 in /usr/local/lib/python3.10/dist-packages (from requests<3.0.0,>=2.13.0->spacy<3.8.0,>=3.7.0->en-core-web-sm==3.7.0) (3.3.1)\n",
            "Requirement already satisfied: idna<4,>=2.5 in /usr/local/lib/python3.10/dist-packages (from requests<3.0.0,>=2.13.0->spacy<3.8.0,>=3.7.0->en-core-web-sm==3.7.0) (3.4)\n",
            "Requirement already satisfied: urllib3<3,>=1.21.1 in /usr/local/lib/python3.10/dist-packages (from requests<3.0.0,>=2.13.0->spacy<3.8.0,>=3.7.0->en-core-web-sm==3.7.0) (2.0.7)\n",
            "Requirement already satisfied: certifi>=2017.4.17 in /usr/local/lib/python3.10/dist-packages (from requests<3.0.0,>=2.13.0->spacy<3.8.0,>=3.7.0->en-core-web-sm==3.7.0) (2023.7.22)\n",
            "Requirement already satisfied: blis<0.8.0,>=0.7.8 in /usr/local/lib/python3.10/dist-packages (from thinc<8.3.0,>=8.1.8->spacy<3.8.0,>=3.7.0->en-core-web-sm==3.7.0) (0.7.11)\n",
            "Requirement already satisfied: confection<1.0.0,>=0.0.1 in /usr/local/lib/python3.10/dist-packages (from thinc<8.3.0,>=8.1.8->spacy<3.8.0,>=3.7.0->en-core-web-sm==3.7.0) (0.1.3)\n",
            "Requirement already satisfied: click<9.0.0,>=7.1.1 in /usr/local/lib/python3.10/dist-packages (from typer<0.10.0,>=0.3.0->spacy<3.8.0,>=3.7.0->en-core-web-sm==3.7.0) (8.1.7)\n",
            "Requirement already satisfied: cloudpathlib<0.17.0,>=0.7.0 in /usr/local/lib/python3.10/dist-packages (from weasel<0.4.0,>=0.1.0->spacy<3.8.0,>=3.7.0->en-core-web-sm==3.7.0) (0.16.0)\n",
            "Requirement already satisfied: MarkupSafe>=2.0 in /usr/local/lib/python3.10/dist-packages (from jinja2->spacy<3.8.0,>=3.7.0->en-core-web-sm==3.7.0) (2.1.3)\n",
            "Installing collected packages: en-core-web-sm\n",
            "  Attempting uninstall: en-core-web-sm\n",
            "    Found existing installation: en-core-web-sm 3.6.0\n",
            "    Uninstalling en-core-web-sm-3.6.0:\n",
            "      Successfully uninstalled en-core-web-sm-3.6.0\n",
            "Successfully installed en-core-web-sm-3.7.0\n",
            "\u001b[33mWARNING: Running pip as the 'root' user can result in broken permissions and conflicting behaviour with the system package manager. It is recommended to use a virtual environment instead: https://pip.pypa.io/warnings/venv\u001b[0m\u001b[33m\n",
            "\u001b[0m\u001b[38;5;2m✔ Download and installation successful\u001b[0m\n",
            "You can now load the package via spacy.load('en_core_web_sm')\n"
          ]
        }
      ],
      "source": [
        "!pip install bertopic\n",
        "!pip install -U spacy\n",
        "!pip install spacy\n",
        "!python -m spacy download en_core_web_sm\n"
      ]
    },
    {
      "cell_type": "code",
      "source": [
        "!pip install bertopic\n",
        "from bertopic import BERTopic\n",
        "import numpy as np\n",
        "import string\n",
        "import nltk\n",
        "from nltk.corpus import stopwords\n",
        "from nltk.tokenize import word_tokenize\n",
        "nltk.download('punkt')\n",
        "nltk.download('stopwords')\n",
        "\n",
        "\n",
        "\n"
      ],
      "metadata": {
        "colab": {
          "base_uri": "https://localhost:8080/"
        },
        "id": "yIXTAmj2mlO_",
        "outputId": "b4b852e1-917d-4784-eb94-2289dc0d5ee7"
      },
      "execution_count": 32,
      "outputs": [
        {
          "output_type": "stream",
          "name": "stderr",
          "text": [
            "/usr/local/lib/python3.10/dist-packages/ipykernel/ipkernel.py:283: DeprecationWarning: `should_run_async` will not call `transform_cell` automatically in the future. Please pass the result to `transformed_cell` argument and any exception that happen during thetransform in `preprocessing_exc_tuple` in IPython 7.17 and above.\n",
            "  and should_run_async(code)\n"
          ]
        },
        {
          "output_type": "stream",
          "name": "stdout",
          "text": [
            "Requirement already satisfied: bertopic in /usr/local/lib/python3.10/dist-packages (0.15.0)\n",
            "Requirement already satisfied: numpy>=1.20.0 in /usr/local/lib/python3.10/dist-packages (from bertopic) (1.23.5)\n",
            "Requirement already satisfied: hdbscan>=0.8.29 in /usr/local/lib/python3.10/dist-packages (from bertopic) (0.8.33)\n",
            "Requirement already satisfied: umap-learn>=0.5.0 in /usr/local/lib/python3.10/dist-packages (from bertopic) (0.5.4)\n",
            "Requirement already satisfied: pandas>=1.1.5 in /usr/local/lib/python3.10/dist-packages (from bertopic) (2.1.2)\n",
            "Requirement already satisfied: scikit-learn>=0.22.2.post1 in /usr/local/lib/python3.10/dist-packages (from bertopic) (1.2.2)\n",
            "Requirement already satisfied: tqdm>=4.41.1 in /usr/local/lib/python3.10/dist-packages (from bertopic) (4.66.1)\n",
            "Requirement already satisfied: sentence-transformers>=0.4.1 in /usr/local/lib/python3.10/dist-packages (from bertopic) (2.2.2)\n",
            "Requirement already satisfied: plotly>=4.7.0 in /usr/local/lib/python3.10/dist-packages (from bertopic) (5.15.0)\n",
            "Requirement already satisfied: cython<3,>=0.27 in /usr/local/lib/python3.10/dist-packages (from hdbscan>=0.8.29->bertopic) (0.29.36)\n",
            "Requirement already satisfied: scipy>=1.0 in /usr/local/lib/python3.10/dist-packages (from hdbscan>=0.8.29->bertopic) (1.11.3)\n",
            "Requirement already satisfied: joblib>=1.0 in /usr/local/lib/python3.10/dist-packages (from hdbscan>=0.8.29->bertopic) (1.3.2)\n",
            "Requirement already satisfied: python-dateutil>=2.8.2 in /usr/local/lib/python3.10/dist-packages (from pandas>=1.1.5->bertopic) (2.8.2)\n",
            "Requirement already satisfied: pytz>=2020.1 in /usr/local/lib/python3.10/dist-packages (from pandas>=1.1.5->bertopic) (2023.3.post1)\n",
            "Requirement already satisfied: tzdata>=2022.1 in /usr/local/lib/python3.10/dist-packages (from pandas>=1.1.5->bertopic) (2023.3)\n",
            "Requirement already satisfied: tenacity>=6.2.0 in /usr/local/lib/python3.10/dist-packages (from plotly>=4.7.0->bertopic) (8.2.3)\n",
            "Requirement already satisfied: packaging in /usr/local/lib/python3.10/dist-packages (from plotly>=4.7.0->bertopic) (23.2)\n",
            "Requirement already satisfied: threadpoolctl>=2.0.0 in /usr/local/lib/python3.10/dist-packages (from scikit-learn>=0.22.2.post1->bertopic) (3.2.0)\n",
            "Requirement already satisfied: transformers<5.0.0,>=4.6.0 in /usr/local/lib/python3.10/dist-packages (from sentence-transformers>=0.4.1->bertopic) (4.35.0)\n",
            "Requirement already satisfied: torch>=1.6.0 in /usr/local/lib/python3.10/dist-packages (from sentence-transformers>=0.4.1->bertopic) (2.1.0+cu118)\n",
            "Requirement already satisfied: torchvision in /usr/local/lib/python3.10/dist-packages (from sentence-transformers>=0.4.1->bertopic) (0.16.0+cu118)\n",
            "Requirement already satisfied: nltk in /usr/local/lib/python3.10/dist-packages (from sentence-transformers>=0.4.1->bertopic) (3.8.1)\n",
            "Requirement already satisfied: sentencepiece in /usr/local/lib/python3.10/dist-packages (from sentence-transformers>=0.4.1->bertopic) (0.1.99)\n",
            "Requirement already satisfied: huggingface-hub>=0.4.0 in /usr/local/lib/python3.10/dist-packages (from sentence-transformers>=0.4.1->bertopic) (0.17.3)\n",
            "Requirement already satisfied: numba>=0.51.2 in /usr/local/lib/python3.10/dist-packages (from umap-learn>=0.5.0->bertopic) (0.56.4)\n",
            "Requirement already satisfied: pynndescent>=0.5 in /usr/local/lib/python3.10/dist-packages (from umap-learn>=0.5.0->bertopic) (0.5.10)\n",
            "Requirement already satisfied: tbb>=2019.0 in /usr/local/lib/python3.10/dist-packages (from umap-learn>=0.5.0->bertopic) (2021.10.0)\n",
            "Requirement already satisfied: filelock in /usr/local/lib/python3.10/dist-packages (from huggingface-hub>=0.4.0->sentence-transformers>=0.4.1->bertopic) (3.12.4)\n",
            "Requirement already satisfied: fsspec in /usr/local/lib/python3.10/dist-packages (from huggingface-hub>=0.4.0->sentence-transformers>=0.4.1->bertopic) (2023.6.0)\n",
            "Requirement already satisfied: requests in /usr/local/lib/python3.10/dist-packages (from huggingface-hub>=0.4.0->sentence-transformers>=0.4.1->bertopic) (2.31.0)\n",
            "Requirement already satisfied: pyyaml>=5.1 in /usr/local/lib/python3.10/dist-packages (from huggingface-hub>=0.4.0->sentence-transformers>=0.4.1->bertopic) (6.0.1)\n",
            "Requirement already satisfied: typing-extensions>=3.7.4.3 in /usr/local/lib/python3.10/dist-packages (from huggingface-hub>=0.4.0->sentence-transformers>=0.4.1->bertopic) (4.5.0)\n",
            "Requirement already satisfied: llvmlite<0.40,>=0.39.0dev0 in /usr/local/lib/python3.10/dist-packages (from numba>=0.51.2->umap-learn>=0.5.0->bertopic) (0.39.1)\n",
            "Requirement already satisfied: setuptools in /usr/local/lib/python3.10/dist-packages (from numba>=0.51.2->umap-learn>=0.5.0->bertopic) (67.7.2)\n",
            "Requirement already satisfied: six>=1.5 in /usr/local/lib/python3.10/dist-packages (from python-dateutil>=2.8.2->pandas>=1.1.5->bertopic) (1.16.0)\n",
            "Requirement already satisfied: sympy in /usr/local/lib/python3.10/dist-packages (from torch>=1.6.0->sentence-transformers>=0.4.1->bertopic) (1.12)\n",
            "Requirement already satisfied: networkx in /usr/local/lib/python3.10/dist-packages (from torch>=1.6.0->sentence-transformers>=0.4.1->bertopic) (3.2)\n",
            "Requirement already satisfied: jinja2 in /usr/local/lib/python3.10/dist-packages (from torch>=1.6.0->sentence-transformers>=0.4.1->bertopic) (3.1.2)\n",
            "Requirement already satisfied: triton==2.1.0 in /usr/local/lib/python3.10/dist-packages (from torch>=1.6.0->sentence-transformers>=0.4.1->bertopic) (2.1.0)\n",
            "Requirement already satisfied: regex!=2019.12.17 in /usr/local/lib/python3.10/dist-packages (from transformers<5.0.0,>=4.6.0->sentence-transformers>=0.4.1->bertopic) (2023.6.3)\n",
            "Requirement already satisfied: tokenizers<0.15,>=0.14 in /usr/local/lib/python3.10/dist-packages (from transformers<5.0.0,>=4.6.0->sentence-transformers>=0.4.1->bertopic) (0.14.1)\n",
            "Requirement already satisfied: safetensors>=0.3.1 in /usr/local/lib/python3.10/dist-packages (from transformers<5.0.0,>=4.6.0->sentence-transformers>=0.4.1->bertopic) (0.4.0)\n",
            "Requirement already satisfied: click in /usr/local/lib/python3.10/dist-packages (from nltk->sentence-transformers>=0.4.1->bertopic) (8.1.7)\n",
            "Requirement already satisfied: pillow!=8.3.*,>=5.3.0 in /usr/local/lib/python3.10/dist-packages (from torchvision->sentence-transformers>=0.4.1->bertopic) (9.4.0)\n",
            "Requirement already satisfied: MarkupSafe>=2.0 in /usr/local/lib/python3.10/dist-packages (from jinja2->torch>=1.6.0->sentence-transformers>=0.4.1->bertopic) (2.1.3)\n",
            "Requirement already satisfied: charset-normalizer<4,>=2 in /usr/local/lib/python3.10/dist-packages (from requests->huggingface-hub>=0.4.0->sentence-transformers>=0.4.1->bertopic) (3.3.1)\n",
            "Requirement already satisfied: idna<4,>=2.5 in /usr/local/lib/python3.10/dist-packages (from requests->huggingface-hub>=0.4.0->sentence-transformers>=0.4.1->bertopic) (3.4)\n",
            "Requirement already satisfied: urllib3<3,>=1.21.1 in /usr/local/lib/python3.10/dist-packages (from requests->huggingface-hub>=0.4.0->sentence-transformers>=0.4.1->bertopic) (2.0.7)\n",
            "Requirement already satisfied: certifi>=2017.4.17 in /usr/local/lib/python3.10/dist-packages (from requests->huggingface-hub>=0.4.0->sentence-transformers>=0.4.1->bertopic) (2023.7.22)\n",
            "Requirement already satisfied: mpmath>=0.19 in /usr/local/lib/python3.10/dist-packages (from sympy->torch>=1.6.0->sentence-transformers>=0.4.1->bertopic) (1.3.0)\n",
            "\u001b[33mWARNING: Running pip as the 'root' user can result in broken permissions and conflicting behaviour with the system package manager. It is recommended to use a virtual environment instead: https://pip.pypa.io/warnings/venv\u001b[0m\u001b[33m\n",
            "\u001b[0m"
          ]
        },
        {
          "output_type": "stream",
          "name": "stderr",
          "text": [
            "[nltk_data] Downloading package punkt to /root/nltk_data...\n",
            "[nltk_data]   Package punkt is already up-to-date!\n",
            "[nltk_data] Downloading package stopwords to /root/nltk_data...\n",
            "[nltk_data]   Package stopwords is already up-to-date!\n"
          ]
        },
        {
          "output_type": "execute_result",
          "data": {
            "text/plain": [
              "True"
            ]
          },
          "metadata": {},
          "execution_count": 32
        }
      ]
    },
    {
      "cell_type": "code",
      "source": [
        "from bertopic import BERTopic\n",
        "from gensim.corpora import Dictionary\n",
        "from gensim.models.coherencemodel import CoherenceModel\n",
        "\n",
        "# Define the documents\n",
        "documents = [\n",
        "    \"The latest advancements in artificial intelligence are transforming healthcare.\",\n",
        "    \"Doctors and researchers are using AI to diagnose diseases more accurately.\",\n",
        "    \"AI-powered robots are assisting in surgeries, making them safer and more efficient.\",\n",
        "    \"Healthcare providers are adopting telemedicine to provide remote consultations.\",\n",
        "    \"Telehealth services are gaining popularity, making healthcare more accessible.\",\n",
        "    \"Renewable energy sources such as solar and wind power are reducing our carbon footprint.\",\n",
        "    \"Sustainability efforts are driving the adoption of electric vehicles.\",\n",
        "    \"Green technologies are creating a more eco-friendly future.\",\n",
        "    \"Space exploration is advancing with missions to Mars and beyond.\",\n",
        "    \"Aerospace companies are developing reusable rockets for cost-effective space travel.\",\n",
        "    \"Cryptocurrencies like Bitcoin are revolutionizing the financial industry.\",\n",
        "    \"Blockchain technology is being used for secure and transparent transactions.\",\n",
        "    \"Cybersecurity is a growing concern, with an increase in data breaches.\",\n",
        "    \"Security measures are being implemented to protect digital assets and information.\",\n",
        "    \"Virtual reality is changing the way we experience entertainment and gaming.\",\n",
        "    \"VR headsets and immersive experiences are becoming more accessible.\",\n",
        "    \"Artificial intelligence is reshaping the way businesses operate.\",\n",
        "    \"AI-driven chatbots are enhancing customer support and engagement.\",\n",
        "    \"E-commerce platforms are utilizing AI for personalized shopping experiences.\",\n",
        "    \"Education is evolving with online learning and digital classrooms.\",\n",
        "    \"EdTech companies are providing interactive and adaptive learning solutions.\"\n",
        "]\n",
        "\n",
        "def calculate_coherence_scores(documents, max_k):\n",
        "    coherence_scores = []\n",
        "    for k in range(2, max_k + 1):\n",
        "        topic_model = BERTopic()\n",
        "        topics, _ = topic_model.fit_transform(documents)\n",
        "\n",
        "        words_per_topic = [' '.join([str(word) for word in topic]) for topic in topics]  # Convert topics to a list of words\n",
        "\n",
        "        dictionary = Dictionary([topic.split() for topic in words_per_topic])  # Create the dictionary\n",
        "        corpus = [dictionary.doc2bow(topic.split()) for topic in words_per_topic]  # Create the corpus\n",
        "\n",
        "        cm = CoherenceModel(topics=words_per_topic, texts=documents, dictionary=dictionary, coherence='c_v')\n",
        "        coherence_score = cm.get_coherence()\n",
        "\n",
        "        coherence_scores.append((k, coherence_score))\n",
        "        print(f'Coherence Score for {k} topics (c_v): {coherence_score:.4f}')\n",
        "    return coherence_scores\n",
        "\n",
        "max_k = 10  # Set the maximum K value\n",
        "coherence_scores = calculate_coherence_scores(documents, max_k)\n",
        "optimal_k, _ = max(coherence_scores, key=lambda x: x[1])\n",
        "print(f'Optimal number of topics: {optimal_k}')\n",
        "\n"
      ],
      "metadata": {
        "colab": {
          "base_uri": "https://localhost:8080/",
          "height": 445
        },
        "id": "AXTE43_AmmBv",
        "outputId": "0b6c1a1a-7649-45e9-c7f9-ac078e539d3b"
      },
      "execution_count": 37,
      "outputs": [
        {
          "output_type": "stream",
          "name": "stderr",
          "text": [
            "/usr/local/lib/python3.10/dist-packages/ipykernel/ipkernel.py:283: DeprecationWarning: `should_run_async` will not call `transform_cell` automatically in the future. Please pass the result to `transformed_cell` argument and any exception that happen during thetransform in `preprocessing_exc_tuple` in IPython 7.17 and above.\n",
            "  and should_run_async(code)\n"
          ]
        },
        {
          "output_type": "error",
          "ename": "TypeError",
          "evalue": "ignored",
          "traceback": [
            "\u001b[0;31m---------------------------------------------------------------------------\u001b[0m",
            "\u001b[0;31mTypeError\u001b[0m                                 Traceback (most recent call last)",
            "\u001b[0;32m<ipython-input-37-2b51e8d9d046>\u001b[0m in \u001b[0;36m<cell line: 49>\u001b[0;34m()\u001b[0m\n\u001b[1;32m     47\u001b[0m \u001b[0;34m\u001b[0m\u001b[0m\n\u001b[1;32m     48\u001b[0m \u001b[0mmax_k\u001b[0m \u001b[0;34m=\u001b[0m \u001b[0;36m10\u001b[0m  \u001b[0;31m# Set the maximum K value\u001b[0m\u001b[0;34m\u001b[0m\u001b[0;34m\u001b[0m\u001b[0m\n\u001b[0;32m---> 49\u001b[0;31m \u001b[0mcoherence_scores\u001b[0m \u001b[0;34m=\u001b[0m \u001b[0mcalculate_coherence_scores\u001b[0m\u001b[0;34m(\u001b[0m\u001b[0mdocuments\u001b[0m\u001b[0;34m,\u001b[0m \u001b[0mmax_k\u001b[0m\u001b[0;34m)\u001b[0m\u001b[0;34m\u001b[0m\u001b[0;34m\u001b[0m\u001b[0m\n\u001b[0m\u001b[1;32m     50\u001b[0m \u001b[0moptimal_k\u001b[0m\u001b[0;34m,\u001b[0m \u001b[0m_\u001b[0m \u001b[0;34m=\u001b[0m \u001b[0mmax\u001b[0m\u001b[0;34m(\u001b[0m\u001b[0mcoherence_scores\u001b[0m\u001b[0;34m,\u001b[0m \u001b[0mkey\u001b[0m\u001b[0;34m=\u001b[0m\u001b[0;32mlambda\u001b[0m \u001b[0mx\u001b[0m\u001b[0;34m:\u001b[0m \u001b[0mx\u001b[0m\u001b[0;34m[\u001b[0m\u001b[0;36m1\u001b[0m\u001b[0;34m]\u001b[0m\u001b[0;34m)\u001b[0m\u001b[0;34m\u001b[0m\u001b[0;34m\u001b[0m\u001b[0m\n\u001b[1;32m     51\u001b[0m \u001b[0mprint\u001b[0m\u001b[0;34m(\u001b[0m\u001b[0;34mf'Optimal number of topics: {optimal_k}'\u001b[0m\u001b[0;34m)\u001b[0m\u001b[0;34m\u001b[0m\u001b[0;34m\u001b[0m\u001b[0m\n",
            "\u001b[0;32m<ipython-input-37-2b51e8d9d046>\u001b[0m in \u001b[0;36mcalculate_coherence_scores\u001b[0;34m(documents, max_k)\u001b[0m\n\u001b[1;32m     34\u001b[0m         \u001b[0mtopics\u001b[0m\u001b[0;34m,\u001b[0m \u001b[0m_\u001b[0m \u001b[0;34m=\u001b[0m \u001b[0mtopic_model\u001b[0m\u001b[0;34m.\u001b[0m\u001b[0mfit_transform\u001b[0m\u001b[0;34m(\u001b[0m\u001b[0mdocuments\u001b[0m\u001b[0;34m)\u001b[0m\u001b[0;34m\u001b[0m\u001b[0;34m\u001b[0m\u001b[0m\n\u001b[1;32m     35\u001b[0m \u001b[0;34m\u001b[0m\u001b[0m\n\u001b[0;32m---> 36\u001b[0;31m         \u001b[0mwords_per_topic\u001b[0m \u001b[0;34m=\u001b[0m \u001b[0;34m[\u001b[0m\u001b[0;34m' '\u001b[0m\u001b[0;34m.\u001b[0m\u001b[0mjoin\u001b[0m\u001b[0;34m(\u001b[0m\u001b[0;34m[\u001b[0m\u001b[0mstr\u001b[0m\u001b[0;34m(\u001b[0m\u001b[0mword\u001b[0m\u001b[0;34m)\u001b[0m \u001b[0;32mfor\u001b[0m \u001b[0mword\u001b[0m \u001b[0;32min\u001b[0m \u001b[0mtopic\u001b[0m\u001b[0;34m]\u001b[0m\u001b[0;34m)\u001b[0m \u001b[0;32mfor\u001b[0m \u001b[0mtopic\u001b[0m \u001b[0;32min\u001b[0m \u001b[0mtopics\u001b[0m\u001b[0;34m]\u001b[0m  \u001b[0;31m# Convert topics to a list of words\u001b[0m\u001b[0;34m\u001b[0m\u001b[0;34m\u001b[0m\u001b[0m\n\u001b[0m\u001b[1;32m     37\u001b[0m \u001b[0;34m\u001b[0m\u001b[0m\n\u001b[1;32m     38\u001b[0m         \u001b[0mdictionary\u001b[0m \u001b[0;34m=\u001b[0m \u001b[0mDictionary\u001b[0m\u001b[0;34m(\u001b[0m\u001b[0;34m[\u001b[0m\u001b[0mtopic\u001b[0m\u001b[0;34m.\u001b[0m\u001b[0msplit\u001b[0m\u001b[0;34m(\u001b[0m\u001b[0;34m)\u001b[0m \u001b[0;32mfor\u001b[0m \u001b[0mtopic\u001b[0m \u001b[0;32min\u001b[0m \u001b[0mwords_per_topic\u001b[0m\u001b[0;34m]\u001b[0m\u001b[0;34m)\u001b[0m  \u001b[0;31m# Create the dictionary\u001b[0m\u001b[0;34m\u001b[0m\u001b[0;34m\u001b[0m\u001b[0m\n",
            "\u001b[0;32m<ipython-input-37-2b51e8d9d046>\u001b[0m in \u001b[0;36m<listcomp>\u001b[0;34m(.0)\u001b[0m\n\u001b[1;32m     34\u001b[0m         \u001b[0mtopics\u001b[0m\u001b[0;34m,\u001b[0m \u001b[0m_\u001b[0m \u001b[0;34m=\u001b[0m \u001b[0mtopic_model\u001b[0m\u001b[0;34m.\u001b[0m\u001b[0mfit_transform\u001b[0m\u001b[0;34m(\u001b[0m\u001b[0mdocuments\u001b[0m\u001b[0;34m)\u001b[0m\u001b[0;34m\u001b[0m\u001b[0;34m\u001b[0m\u001b[0m\n\u001b[1;32m     35\u001b[0m \u001b[0;34m\u001b[0m\u001b[0m\n\u001b[0;32m---> 36\u001b[0;31m         \u001b[0mwords_per_topic\u001b[0m \u001b[0;34m=\u001b[0m \u001b[0;34m[\u001b[0m\u001b[0;34m' '\u001b[0m\u001b[0;34m.\u001b[0m\u001b[0mjoin\u001b[0m\u001b[0;34m(\u001b[0m\u001b[0;34m[\u001b[0m\u001b[0mstr\u001b[0m\u001b[0;34m(\u001b[0m\u001b[0mword\u001b[0m\u001b[0;34m)\u001b[0m \u001b[0;32mfor\u001b[0m \u001b[0mword\u001b[0m \u001b[0;32min\u001b[0m \u001b[0mtopic\u001b[0m\u001b[0;34m]\u001b[0m\u001b[0;34m)\u001b[0m \u001b[0;32mfor\u001b[0m \u001b[0mtopic\u001b[0m \u001b[0;32min\u001b[0m \u001b[0mtopics\u001b[0m\u001b[0;34m]\u001b[0m  \u001b[0;31m# Convert topics to a list of words\u001b[0m\u001b[0;34m\u001b[0m\u001b[0;34m\u001b[0m\u001b[0m\n\u001b[0m\u001b[1;32m     37\u001b[0m \u001b[0;34m\u001b[0m\u001b[0m\n\u001b[1;32m     38\u001b[0m         \u001b[0mdictionary\u001b[0m \u001b[0;34m=\u001b[0m \u001b[0mDictionary\u001b[0m\u001b[0;34m(\u001b[0m\u001b[0;34m[\u001b[0m\u001b[0mtopic\u001b[0m\u001b[0;34m.\u001b[0m\u001b[0msplit\u001b[0m\u001b[0;34m(\u001b[0m\u001b[0;34m)\u001b[0m \u001b[0;32mfor\u001b[0m \u001b[0mtopic\u001b[0m \u001b[0;32min\u001b[0m \u001b[0mwords_per_topic\u001b[0m\u001b[0;34m]\u001b[0m\u001b[0;34m)\u001b[0m  \u001b[0;31m# Create the dictionary\u001b[0m\u001b[0;34m\u001b[0m\u001b[0;34m\u001b[0m\u001b[0m\n",
            "\u001b[0;31mTypeError\u001b[0m: 'int' object is not iterable"
          ]
        }
      ]
    },
    {
      "cell_type": "code",
      "source": [
        "\n"
      ],
      "metadata": {
        "id": "Vq7hFOfqmmFG"
      },
      "execution_count": null,
      "outputs": []
    },
    {
      "cell_type": "code",
      "source": [],
      "metadata": {
        "id": "Xg7r0A9immIa"
      },
      "execution_count": null,
      "outputs": []
    },
    {
      "cell_type": "markdown",
      "metadata": {
        "id": "G2L5Mp5qPqVO"
      },
      "source": [
        "## (5) (10 extra points) Compare the results generated by the four topic modeling algorithms, which one is better? You should explain the reasons in details."
      ]
    },
    {
      "cell_type": "markdown",
      "source": [
        "Considering coherence scores, interpretability, topic diversity, task relevance, and computational resources when comparing topic modeling approaches. Thinking about domain expertise, pre-trained models, contextual data, and optimizing hyperparameters.\n",
        "The optimal model selection is contingent upon striking a balance between these variables and project-specific needs.\n",
        "\n",
        "Out of all topic modeling algorithms LDA performed well based on the coherence score i.e., 0.337 which is better whwn compared to LSA, LDA2VEC. The best topic modeling approach to use depends on the unique properties of the data and the objectives of the analysis. But LDA has some benefits that make it a good option in a lot of situations:\n",
        "Interpretability: The topics offered by LDA are very comprehensible. It makes it simple to comprehend and label topics by allocating a probability distribution of words to each topic.\n",
        "Proven Track Record: LDA is a well-known and extensively utilized topic modeling algorithm with a solid theoretical base, which makes it a reliable option for a wide range of applications.\n",
        "Simplicity: When you need a clear-cut and understandable solution, LDA's conceptual simplicity can be helpful.\n",
        "Scalability: Especially when compared to some contemporary, sophisticated techniques, LDA is computationally efficient and able to handle large datasets.\n",
        "\n"
      ],
      "metadata": {
        "id": "xBDnfb7DwCyo"
      }
    }
  ],
  "metadata": {
    "kernelspec": {
      "display_name": "Python 3 (ipykernel)",
      "language": "python",
      "name": "python3"
    },
    "language_info": {
      "codemirror_mode": {
        "name": "ipython",
        "version": 3
      },
      "file_extension": ".py",
      "mimetype": "text/x-python",
      "name": "python",
      "nbconvert_exporter": "python",
      "pygments_lexer": "ipython3",
      "version": "3.9.7"
    },
    "colab": {
      "provenance": [],
      "include_colab_link": true
    }
  },
  "nbformat": 4,
  "nbformat_minor": 0
}